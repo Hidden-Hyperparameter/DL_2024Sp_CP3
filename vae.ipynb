{
 "cells": [
  {
   "cell_type": "markdown",
   "id": "b7f85217",
   "metadata": {},
   "source": [
    "---"
   ]
  },
  {
   "cell_type": "markdown",
   "id": "718d6fe6",
   "metadata": {
    "deletable": false,
    "editable": false,
    "id": "718d6fe6",
    "nbgrader": {
     "cell_type": "markdown",
     "checksum": "446149856adbb3ece6e96de86783aab4",
     "grade": false,
     "grade_id": "cell-9c430af5d8d383e0",
     "locked": true,
     "schema_version": 3,
     "solution": false,
     "task": false
    }
   },
   "source": [
    "## Deep Learning Coding Project 3-3: Variational Auto-Encoder\n",
    "\n",
    "Before we start, please put your **Chinese** name and student ID in following format:\n",
    "\n",
    "Name, 0000000000 // e.g.) 小明, 2021123123"
   ]
  },
  {
   "cell_type": "markdown",
   "id": "e85b760d",
   "metadata": {
    "deletable": false,
    "id": "e85b760d",
    "nbgrader": {
     "cell_type": "markdown",
     "checksum": "e30c80977fd0505d51c0f3fff9f44141",
     "grade": true,
     "grade_id": "name-and-id",
     "locked": false,
     "points": 0,
     "schema_version": 3,
     "solution": true,
     "task": false
    }
   },
   "source": [
    "YOUR ANSWER HERE"
   ]
  },
  {
   "cell_type": "markdown",
   "id": "ef99bd7a",
   "metadata": {
    "deletable": false,
    "editable": false,
    "id": "ef99bd7a",
    "nbgrader": {
     "cell_type": "markdown",
     "checksum": "eabcdcf4dd697196edd6e98545dfd779",
     "grade": false,
     "grade_id": "cell-140b078480df53e1",
     "locked": true,
     "schema_version": 3,
     "solution": false,
     "task": false
    }
   },
   "source": [
    "## Introduction\n",
    "\n",
    "We will use Python 3, [NumPy](https://numpy.org/), and [PyTorch](https://pytorch.org/) packages for implementation. To avoid unexpected issues with PyTorch 2.0, we recommend using PyTorch version 1.x.\n",
    "\n",
    "In this coding project, you will implement 4 generative models, i.e., energy-based model, flow-based model, variational auto-encoder, and generative adverserial network, to generate MNIST images.\n",
    "\n",
    "**We will implement a conditional variational auto-encoder (CVAE) in this notebook.**"
   ]
  },
  {
   "cell_type": "markdown",
   "id": "455cd281",
   "metadata": {
    "deletable": false,
    "editable": false,
    "id": "455cd281",
    "nbgrader": {
     "cell_type": "markdown",
     "checksum": "120d6358fec9f6418d1267d01a2ae32b",
     "grade": false,
     "grade_id": "cell-ffacdab926dcdef6",
     "locked": true,
     "schema_version": 3,
     "solution": false,
     "task": false
    }
   },
   "source": [
    "In some cells and files you will see code blocks that look like this:\n",
    "\n",
    "```Python\n",
    "##############################################################################\n",
    "#                  TODO: You need to complete the code here                  #\n",
    "##############################################################################\n",
    "raise NotImplementedError()\n",
    "##############################################################################\n",
    "#                              END OF YOUR CODE                              #\n",
    "##############################################################################\n",
    "```\n",
    "\n",
    "You should replace `raise NotImplementedError()` with your own implementation based on the context, such as:\n",
    "\n",
    "```Python\n",
    "##############################################################################\n",
    "#                  TODO: You need to complete the code here                  #\n",
    "##############################################################################\n",
    "y = w * x + b\n",
    "##############################################################################\n",
    "#                              END OF YOUR CODE                              #\n",
    "##############################################################################\n",
    "\n",
    "```\n",
    "\n",
    "When completing the notebook, please adhere to the following rules:\n",
    "\n",
    "+ Unless otherwise stated, do not write or modify any code outside of code blocks\n",
    "+ Do not add or delete any cells from the notebook.\n",
    "+ Run all cells before submission. We will not re-run the entire codebook during grading.\n",
    "\n",
    "**Finally, avoid plagiarism! Any student who violates academic integrity will be seriously dealt with and receive an F for the course.**"
   ]
  },
  {
   "cell_type": "markdown",
   "id": "17c3bbf1",
   "metadata": {
    "deletable": false,
    "editable": false,
    "id": "17c3bbf1",
    "nbgrader": {
     "cell_type": "markdown",
     "checksum": "e0685e20987f9acc7f9a794e07e282d5",
     "grade": false,
     "grade_id": "cell-599bd6afccb34d60",
     "locked": true,
     "schema_version": 3,
     "solution": false,
     "task": false
    }
   },
   "source": [
    "### Task\n",
    "\n",
    "In this problem, you need to implement a class conditioned variational autoencoder to generate MNIST images. We suppose the prior $p(z)$ is a\n",
    "standard Gaussian distribution $\\mathcal{N} (0, I)$. Also, we assume $q(z|x, y)$ and $p(x|z, y)$\n",
    "are Gaussian distributions.\n",
    "\n",
    "1. **You need to complete the encoder $q(z|x, y; \\phi)$ and the decoder $p(x|z, y; \\theta)$, which are both MLPs**.\n",
    "\n",
    "2. **Implement the VAE loss function.**\n",
    "\n",
    "An example of generated images using CVAE is shown below."
   ]
  },
  {
   "cell_type": "markdown",
   "id": "S_3-OFIyBZgq",
   "metadata": {
    "id": "S_3-OFIyBZgq"
   },
   "source": [
    "If you use Colab in this coding project, please uncomment the cell below, change the `GOOGLE_DRIVE_PATH` to your project folder and run the following cell to mount your Google drive. Then, the notebook can find the required files (i.e., utils.py). If you run the notebook locally, you can skip this cell."
   ]
  },
  {
   "cell_type": "code",
   "execution_count": null,
   "id": "gh9divsXBYlD",
   "metadata": {
    "id": "gh9divsXBYlD"
   },
   "outputs": [],
   "source": [
    "# ### uncomment this cell if you're using Google colab\n",
    "# from google.colab import drive\n",
    "# drive.mount('/content/drive')\n",
    "\n",
    "# ### change GOOGLE_DRIVE_PATH to the path of your CP3 folder\n",
    "# GOOGLE_DRIVE_PATH = '/content/drive/MyDrive/Colab Notebooks/DL23SP/CP3'\n",
    "# %cd $GOOGLE_DRIVE_PATH"
   ]
  },
  {
   "cell_type": "code",
   "execution_count": null,
   "id": "646d3387",
   "metadata": {
    "deletable": false,
    "editable": false,
    "id": "646d3387",
    "nbgrader": {
     "cell_type": "code",
     "checksum": "1e9dfeecf134f0d6e60fabbca6650f6e",
     "grade": false,
     "grade_id": "cell-afeaf2ba2853c58b",
     "locked": true,
     "schema_version": 3,
     "solution": false,
     "task": false
    }
   },
   "outputs": [],
   "source": [
    "import matplotlib.pyplot as plt\n",
    "import matplotlib.image as mpimg\n",
    "from matplotlib import rcParams\n",
    "\n",
    "%matplotlib inline\n",
    "\n",
    "# figure size in inches optional\n",
    "rcParams['figure.figsize'] = 6, 4\n",
    "plt.imshow(mpimg.imread('./vae/sample.png'))"
   ]
  },
  {
   "cell_type": "markdown",
   "id": "aaa645f3",
   "metadata": {
    "deletable": false,
    "editable": false,
    "id": "aaa645f3",
    "nbgrader": {
     "cell_type": "markdown",
     "checksum": "d90bf06b13439ffe089d56f4c9cf0e84",
     "grade": false,
     "grade_id": "cell-53585dd2f2b21500",
     "locked": true,
     "schema_version": 3,
     "solution": false,
     "task": false
    }
   },
   "source": [
    "### Submission\n",
    "\n",
    "You need to submit your code (this notebook), your trained VAE model (named `./vae/vae_best.pth`), your generated images, and your report:\n",
    "\n",
    "+ **Code**\n",
    "\n",
    "Remember to run all the cells before submission. Remain your tuned hyperparameters unchanged.\n",
    "\n",
    "+ **Generator**\n",
    "\n",
    "In this notebook, we select the best model based on validation loss. You can also manually select the best one, and save it as `./vae/vae_best.pth`. **Please do not submit any other checkpoints except for `./vae/vae_best.pth`!**\n",
    "\n",
    "+ **Generated Images**\n",
    "\n",
    "Please generate 100 images for each class (1000 in total), save it in `./vae/generated/`, and organize them as the following structure:\n",
    "\n",
    "```\n",
    "CodingProject3\n",
    "├── ...\n",
    "├── vae\n",
    "│   ├── vae_best.pth\n",
    "│   ├── generated\n",
    "│       └── 0\n",
    "│           ├── 0_00.png\n",
    "│           ├── ...\n",
    "│           ├── 0_99.png\n",
    "│       └── 1\n",
    "│           ├── 1_00.png\n",
    "│           ├── ...\n",
    "│           ├── 1_99.png\n",
    "│       └── ...\n",
    "│       └── 9\n",
    "│           ├── 9_00.png\n",
    "│           ├── ...\n",
    "│           ├── 9_99.png\n",
    "```\n",
    "\n",
    "Specifially, you should name the $j$-th generated image of class $i$ as `{i}_{j}.png`, and save it into folder `./vae/generated/{i}/`. Check the `make_dataset` method of VAE model for details.\n",
    "\n",
    "+ **Report**\n",
    "\n",
    "Please include the conditioned generation results (i.e., generated images in a $10\\times 10$ array as above), the FID score, the standard deviation for each class, and other relevant statistics in your\n",
    "report. Note that you only need to write a single report for this coding project."
   ]
  },
  {
   "cell_type": "markdown",
   "id": "7290dae4",
   "metadata": {
    "deletable": false,
    "editable": false,
    "id": "7290dae4",
    "nbgrader": {
     "cell_type": "markdown",
     "checksum": "01bd32341d1178eb0d90ee848af6421e",
     "grade": false,
     "grade_id": "cell-3171a074e3f52bd5",
     "locked": true,
     "schema_version": 3,
     "solution": false,
     "task": false
    }
   },
   "source": [
    "### Grading\n",
    "\n",
    "We will evaluate your model by **computing the [FID score](https://en.wikipedia.org/wiki/Fr%C3%A9chet_inception_distance)**. We have provided a fine-tuned Inception-V3 model, which will be used by our evaluation script to compute FID score."
   ]
  },
  {
   "cell_type": "markdown",
   "id": "dd040c70",
   "metadata": {
    "deletable": false,
    "editable": false,
    "id": "dd040c70",
    "nbgrader": {
     "cell_type": "markdown",
     "checksum": "54854fcdc1556d353b55bc4d1a133674",
     "grade": false,
     "grade_id": "cell-2b4bea3e44a7b81b",
     "locked": true,
     "schema_version": 3,
     "solution": false,
     "task": false
    }
   },
   "source": [
    "## Set Up Code"
   ]
  },
  {
   "cell_type": "markdown",
   "id": "4eca3738",
   "metadata": {
    "deletable": false,
    "editable": false,
    "id": "4eca3738",
    "nbgrader": {
     "cell_type": "markdown",
     "checksum": "8a46538ad10bf1933513126de21b52de",
     "grade": false,
     "grade_id": "cell-291232b1c59e4f02",
     "locked": true,
     "schema_version": 3,
     "solution": false,
     "task": false
    }
   },
   "source": [
    "If you use Colab in this coding project, please make sure to mount your drive before running the cells below."
   ]
  },
  {
   "cell_type": "code",
   "execution_count": null,
   "id": "d8c2354b",
   "metadata": {
    "deletable": false,
    "editable": false,
    "id": "d8c2354b",
    "nbgrader": {
     "cell_type": "code",
     "checksum": "b34bc8b23f9c8e480a9671ef3453e7ac",
     "grade": false,
     "grade_id": "cell-a551fcc5ff27fb87",
     "locked": true,
     "schema_version": 3,
     "solution": false,
     "task": false
    }
   },
   "outputs": [],
   "source": [
    "%load_ext autoreload\n",
    "%autoreload 2"
   ]
  },
  {
   "cell_type": "code",
   "execution_count": null,
   "id": "f6cd2080",
   "metadata": {
    "deletable": false,
    "editable": false,
    "id": "f6cd2080",
    "nbgrader": {
     "cell_type": "code",
     "checksum": "0d5d6f96e1d7ce5df1315172b57173de",
     "grade": false,
     "grade_id": "cell-e11eaf041d72deda",
     "locked": true,
     "schema_version": 3,
     "solution": false,
     "task": false
    }
   },
   "outputs": [],
   "source": [
    "from utils import hello\n",
    "hello()"
   ]
  },
  {
   "cell_type": "markdown",
   "id": "cb9634e8",
   "metadata": {
    "deletable": false,
    "editable": false,
    "id": "cb9634e8",
    "nbgrader": {
     "cell_type": "markdown",
     "checksum": "51e49fe39dad00834a151f8221d720ef",
     "grade": false,
     "grade_id": "cell-fe84c884133acb94",
     "locked": true,
     "schema_version": 3,
     "solution": false,
     "task": false
    }
   },
   "source": [
    "Please run the following cell to import some base classes for implementation (no matter whether you use colab)."
   ]
  },
  {
   "cell_type": "code",
   "execution_count": null,
   "id": "cfad252c",
   "metadata": {
    "deletable": false,
    "editable": false,
    "id": "cfad252c",
    "nbgrader": {
     "cell_type": "code",
     "checksum": "737513904296b1d617836074f8053012",
     "grade": false,
     "grade_id": "cell-1fd41093ae57ce74",
     "locked": true,
     "schema_version": 3,
     "solution": false,
     "task": false
    }
   },
   "outputs": [],
   "source": [
    "from collections import deque\n",
    "from torch.utils.data import DataLoader\n",
    "from tqdm.autonotebook import tqdm\n",
    "\n",
    "import numpy as np\n",
    "import os\n",
    "import time\n",
    "import torch\n",
    "import torch.nn as nn\n",
    "import torch.nn.functional as F\n",
    "import torchvision\n",
    "\n",
    "from utils import save_model, load_model, train_set, val_set\n",
    "\n",
    "seed = 42\n",
    "np.random.seed(seed)\n",
    "torch.manual_seed(seed)\n",
    "torch.cuda.manual_seed(seed)\n",
    "torch.backends.cudnn.deterministic = True\n",
    "\n",
    "device = torch.device(\n",
    "    \"cuda\") if torch.cuda.is_available() else torch.device(\"cpu\")"
   ]
  },
  {
   "cell_type": "markdown",
   "id": "973e8344",
   "metadata": {
    "deletable": false,
    "editable": false,
    "id": "973e8344",
    "nbgrader": {
     "cell_type": "markdown",
     "checksum": "e41ac5a8880d05ee46863dd2b4c6e61a",
     "grade": false,
     "grade_id": "cell-90c7dca35f25c7fa",
     "locked": true,
     "schema_version": 3,
     "solution": false,
     "task": false
    }
   },
   "source": [
    "## VAE Model\n",
    "\n",
    "Complete the conditional VAE model with structure shown in doc strings.\n",
    "\n",
    "**Hint**: we usually output logarithm standard deviation."
   ]
  },
  {
   "cell_type": "code",
   "execution_count": null,
   "id": "a4f8e820",
   "metadata": {
    "deletable": false,
    "id": "a4f8e820",
    "nbgrader": {
     "cell_type": "code",
     "checksum": "447c2a16f2258778ef4fb4dfed6ea2a4",
     "grade": false,
     "grade_id": "cell-ac7b8111ec3c40f1",
     "locked": false,
     "schema_version": 3,
     "solution": true,
     "task": false
    }
   },
   "outputs": [],
   "source": [
    "class CVAE(nn.Module):\n",
    "    def __init__(self, img_size, label_size, latent_size, hidden_size):\n",
    "        super(CVAE, self).__init__()\n",
    "        self.img_size = img_size  # (C, H, W)\n",
    "        self.label_size = label_size\n",
    "        self.latent_size = latent_size\n",
    "        self.hidden_size = hidden_size\n",
    "        \n",
    "        # Encoder.\n",
    "        '''\n",
    "        img   -> fc  ->                   -> fc -> mean    \n",
    "                        concat -> encoder                  -> z\n",
    "        label -> fc  ->                   -> fc -> logstd \n",
    "        '''\n",
    "        ##############################################################################\n",
    "        #                  TODO: You need to complete the code here                  #\n",
    "        ##############################################################################\n",
    "        # YOUR CODE HERE\n",
    "        raise NotImplementedError()\n",
    "        ##############################################################################\n",
    "        #                              END OF YOUR CODE                              #\n",
    "        ##############################################################################\n",
    "        \n",
    "        # Decoder.\n",
    "        '''\n",
    "        latent -> fc ->\n",
    "                         concat -> decoder -> reconstruction\n",
    "        label  -> fc ->\n",
    "        '''\n",
    "        ##############################################################################\n",
    "        #                  TODO: You need to complete the code here                  #\n",
    "        ##############################################################################\n",
    "        # YOUR CODE HERE\n",
    "        raise NotImplementedError()\n",
    "        ##############################################################################\n",
    "        #                              END OF YOUR CODE                              #\n",
    "        ##############################################################################\n",
    "\n",
    "    def encode_param(self, x, y):\n",
    "        # compute mu and logstd of p(z|x, y)\n",
    "        ##############################################################################\n",
    "        #                  TODO: You need to complete the code here                  #\n",
    "        ##############################################################################\n",
    "        # YOUR CODE HERE\n",
    "        raise NotImplementedError()\n",
    "        ##############################################################################\n",
    "        #                              END OF YOUR CODE                              #\n",
    "        ##############################################################################\n",
    "\n",
    "    def reparamaterize(self, mu: torch.Tensor, logstd: torch.Tensor):\n",
    "        # compute latent z with reparameterization trick\n",
    "        ##############################################################################\n",
    "        #                  TODO: You need to complete the code here                  #\n",
    "        ##############################################################################\n",
    "        # YOUR CODE HERE\n",
    "        raise NotImplementedError()\n",
    "        ##############################################################################\n",
    "        #                              END OF YOUR CODE                              #\n",
    "        ##############################################################################\n",
    "\n",
    "    def encode(self, x, y):\n",
    "        # sample latent z from p(z|x, y)\n",
    "        ##############################################################################\n",
    "        #                  TODO: You need to complete the code here                  #\n",
    "        ##############################################################################\n",
    "        # YOUR CODE HERE\n",
    "        raise NotImplementedError()\n",
    "        ##############################################################################\n",
    "        #                              END OF YOUR CODE                              #\n",
    "        ##############################################################################\n",
    "\n",
    "    def decode(self, z, y):\n",
    "        ##############################################################################\n",
    "        #                  TODO: You need to complete the code here                  #\n",
    "        ##############################################################################\n",
    "        # YOUR CODE HERE\n",
    "        raise NotImplementedError()\n",
    "        ##############################################################################\n",
    "        #                              END OF YOUR CODE                              #\n",
    "        ##############################################################################\n",
    "\n",
    "    @torch.no_grad()\n",
    "    def sample_images(self, label, save=True, save_dir='./vae'):\n",
    "        self.eval()\n",
    "        n_samples = label.shape[0]\n",
    "        samples  = self.decode(torch.randn(n_samples, self.latent_size).to(label.device), label)\n",
    "        imgs = samples.view(n_samples, 1, 28, 28).clamp(0., 1.)\n",
    "        if save:\n",
    "            os.makedirs(save_dir, exist_ok=True)\n",
    "            torchvision.utils.save_image(imgs, os.path.join(save_dir, 'sample.png'), nrow=int(np.sqrt(n_samples)))\n",
    "        return imgs\n",
    "    \n",
    "    @torch.no_grad()\n",
    "    def make_dataset(self, n_samples_per_class=10, save=True, save_dir='./vae/generated/'):\n",
    "        self.eval()\n",
    "        device = next(self.parameters()).device\n",
    "        for i in range(self.label_size):\n",
    "            label = torch.zeros(n_samples_per_class, self.label_size, device=device)\n",
    "            label[:, i] = 1\n",
    "            samples = self.decode(torch.randn(\n",
    "                n_samples_per_class, self.latent_size).to(device), label)\n",
    "            imgs = samples.view(n_samples_per_class, 1, 28, 28).clamp(0., 1.)\n",
    "            if save:\n",
    "                os.makedirs(os.path.join(save_dir, str(i)), exist_ok=True)\n",
    "                for j in range(n_samples_per_class):\n",
    "                    torchvision.utils.save_image(imgs[j], os.path.join(save_dir, str(i), \"{}_{:>03d}.png\".format(i, j)))\n"
   ]
  },
  {
   "cell_type": "markdown",
   "id": "9806dfb4",
   "metadata": {
    "deletable": false,
    "editable": false,
    "id": "9806dfb4",
    "nbgrader": {
     "cell_type": "markdown",
     "checksum": "59258bed89bac2ba13c2f27ebcfc60f7",
     "grade": false,
     "grade_id": "cell-bff0aa54c09237bc",
     "locked": true,
     "schema_version": 3,
     "solution": false,
     "task": false
    }
   },
   "source": [
    "## VAE Loss\n",
    "\n",
    "Given image $x$ and corresponding label $y$, compute the VAE loss in the following function.\n",
    "\n",
    "**Hint**: $p(x|z, y)$ is a real-valued Gaussian distribution, while images are in range $[0, 1]$. Therefore, you may want to transform $x$ when computing $p(x|z, y)$."
   ]
  },
  {
   "cell_type": "code",
   "execution_count": null,
   "id": "207ba01a",
   "metadata": {
    "deletable": false,
    "id": "207ba01a",
    "nbgrader": {
     "cell_type": "code",
     "checksum": "08f2d7d9aef79e56361662c6740977da",
     "grade": false,
     "grade_id": "cell-cde6ea3519fbcd6e",
     "locked": false,
     "schema_version": 3,
     "solution": true,
     "task": false
    }
   },
   "outputs": [],
   "source": [
    "def compute_vae_loss(vae_model, x, y, beta=1):\n",
    "    # compute vae loss for input x and label y\n",
    "    ##############################################################################\n",
    "    #                  TODO: You need to complete the code here                  #\n",
    "    ##############################################################################\n",
    "    # YOUR CODE HERE\n",
    "    raise NotImplementedError()\n",
    "    ##############################################################################\n",
    "    #                              END OF YOUR CODE                              #\n",
    "    ##############################################################################\n"
   ]
  },
  {
   "cell_type": "markdown",
   "id": "a48e81e1",
   "metadata": {
    "id": "a48e81e1"
   },
   "source": [
    "## Training & Evaluation\n",
    "\n",
    "We have implemented the training and evaluation functions. Feel free to modify `train` if you want to monitoring more information. Make sure your best model is stored in `'./vae/vae_best.pth'`."
   ]
  },
  {
   "cell_type": "code",
   "execution_count": null,
   "id": "0ca14731",
   "metadata": {
    "deletable": false,
    "editable": false,
    "id": "0ca14731",
    "nbgrader": {
     "cell_type": "code",
     "checksum": "3dd49cb59b62e08e8b074e6d62eaacbb",
     "grade": false,
     "grade_id": "cell-de07c12138584171",
     "locked": true,
     "schema_version": 3,
     "solution": false,
     "task": false
    }
   },
   "outputs": [],
   "source": [
    "@torch.no_grad()\n",
    "def evaluate(vae_model, loader, device, beta):\n",
    "    vae_model.eval()\n",
    "    val_loss = 0\n",
    "    n_batches = 0\n",
    "\n",
    "    pbar = tqdm(total=len(loader.dataset))\n",
    "    pbar.set_description('Eval')\n",
    "    for batch_idx, (x, y) in enumerate(loader):\n",
    "        n_batches += x.shape[0]\n",
    "        x = x.view(x.shape[0], -1).to(device)\n",
    "        y = y.to(device)\n",
    "\n",
    "        val_loss += compute_vae_loss(vae_model, x, y, beta).sum().item()\n",
    "        pbar.update(x.size(0))\n",
    "        pbar.set_description('Val Loss: {:.6f}'.format(val_loss / n_batches))\n",
    "\n",
    "    pbar.close()\n",
    "    return val_loss / n_batches"
   ]
  },
  {
   "cell_type": "code",
   "execution_count": null,
   "id": "86f7857a",
   "metadata": {
    "id": "86f7857a"
   },
   "outputs": [],
   "source": [
    "def train(n_epochs, vae_model, train_loader, val_loader, optimizer, beta=1, device=torch.device('cuda'), save_interval=10):\n",
    "    vae_model.to(device)\n",
    "    best_val_loss = np.inf\n",
    "\n",
    "    for epoch in range(n_epochs):\n",
    "        train_loss = 0\n",
    "        n_batches = 0\n",
    "        pbar = tqdm(total=len(train_loader.dataset))\n",
    "        for i, (x, y) in enumerate(train_loader):\n",
    "            # compute loss\n",
    "            vae_model.train()\n",
    "            n_batches += x.shape[0]\n",
    "            x = x.view(x.shape[0], -1).to(device)\n",
    "            y = y.to(device)\n",
    "            loss = compute_vae_loss(vae_model, x, y, beta)\n",
    "\n",
    "            optimizer.zero_grad()\n",
    "            loss.mean().backward()\n",
    "            optimizer.step()\n",
    "\n",
    "            train_loss += loss.sum().item()\n",
    "\n",
    "            pbar.update(x.size(0))\n",
    "            pbar.set_description('Train Epoch {}, Train Loss: {:.6f}'.format(epoch + 1, train_loss / n_batches))\n",
    "        pbar.close()\n",
    "\n",
    "        if (epoch + 1) % save_interval == 0:\n",
    "            os.makedirs(f'./vae/{epoch + 1}', exist_ok=True)\n",
    "            vae_model.eval()\n",
    "            save_model(f'./vae/{epoch + 1}/vae.pth', vae_model, optimizer)\n",
    "\n",
    "            val_loss = evaluate(vae_model, val_loader, device, beta=beta)\n",
    "\n",
    "            # sample and save images\n",
    "            label = torch.eye(10).repeat(10, 1).to(device)\n",
    "            vae_model.sample_images(\n",
    "                label, save=True, save_dir=f\"./vae/{epoch + 1}/\")\n",
    "            \n",
    "            if val_loss < best_val_loss:\n",
    "                print(\n",
    "                    f'Current validation loss: {best_val_loss} -> {val_loss}')\n",
    "                best_val_loss = val_loss\n",
    "                save_model('./vae/vae_best.pth', vae_model)"
   ]
  },
  {
   "cell_type": "markdown",
   "id": "adb3743e",
   "metadata": {
    "id": "adb3743e"
   },
   "source": [
    "## Enjoy\n",
    "\n",
    "Tune your hyperparameters and make your conditional VAE work. Good luck!"
   ]
  },
  {
   "cell_type": "code",
   "execution_count": null,
   "id": "d7629c75",
   "metadata": {
    "id": "d7629c75"
   },
   "outputs": [],
   "source": [
    "label_dim = 10\n",
    "img_dim = (1, 28, 28)\n",
    "latent_dim = 100\n",
    "cvae = CVAE(img_dim, 10, 100, 256)\n",
    "\n",
    "train_loader = DataLoader(train_set, batch_size=128, pin_memory=True,\n",
    "                          drop_last=False, shuffle=True, num_workers=8)\n",
    "val_loader = DataLoader(val_set, batch_size=512, pin_memory=True,\n",
    "                        drop_last=True, shuffle=True, num_workers=8)\n",
    "optimizer = torch.optim.Adam(cvae.parameters(), lr=2e-4)"
   ]
  },
  {
   "cell_type": "markdown",
   "id": "30af6dca",
   "metadata": {},
   "source": [
    "Let's start training! Please keep in mind that this cell may **NOT** be run when we evaluate your assignment!"
   ]
  },
  {
   "cell_type": "code",
   "execution_count": null,
   "id": "39c8d308",
   "metadata": {},
   "outputs": [],
   "source": [
    "# feel free to change training hyper-parameters!\n",
    "train(50, cvae, train_loader, val_loader, optimizer, device=device, save_interval=10)"
   ]
  },
  {
   "cell_type": "markdown",
   "id": "0855408b",
   "metadata": {
    "deletable": false,
    "editable": false,
    "id": "0855408b",
    "nbgrader": {
     "cell_type": "markdown",
     "checksum": "14e2df23954d25097e6abd8aa949ba59",
     "grade": false,
     "grade_id": "cell-b2a25a74aeb23f85",
     "locked": true,
     "schema_version": 3,
     "solution": false,
     "task": false
    }
   },
   "source": [
    "## Evaluation\n",
    "\n",
    "Make sure your code runs fine with the following cells!"
   ]
  },
  {
   "cell_type": "code",
   "execution_count": null,
   "id": "baf9adcd",
   "metadata": {
    "deletable": false,
    "editable": false,
    "nbgrader": {
     "cell_type": "code",
     "checksum": "fde2594d4b9784d93be6dba2a6256346",
     "grade": false,
     "grade_id": "cell-c589aa5203854893",
     "locked": true,
     "schema_version": 3,
     "solution": false,
     "task": false
    }
   },
   "outputs": [],
   "source": [
    "# collect model-generated samples\n",
    "cvae.load_state_dict(load_model('./vae/vae_best.pth')[0])\n",
    "cvae.make_dataset(n_samples_per_class=100)"
   ]
  },
  {
   "cell_type": "code",
   "execution_count": null,
   "id": "50ab5f99",
   "metadata": {
    "deletable": false,
    "editable": false,
    "id": "50ab5f99",
    "nbgrader": {
     "cell_type": "code",
     "checksum": "203909f47398d9909818a2caf9c15dc2",
     "grade": false,
     "grade_id": "cell-2b3416223f0c4c34",
     "locked": true,
     "schema_version": 3,
     "solution": false,
     "task": false
    }
   },
   "outputs": [],
   "source": [
    "# run evaluation\n",
    "!python evaluate_cgen.py --vae"
   ]
  }
 ],
 "metadata": {
  "colab": {
   "provenance": []
  },
  "kernelspec": {
   "display_name": "Python 3 (ipykernel)",
   "language": "python",
   "name": "python3"
  },
  "language_info": {
   "codemirror_mode": {
    "name": "ipython",
    "version": 3
   },
   "file_extension": ".py",
   "mimetype": "text/x-python",
   "name": "python",
   "nbconvert_exporter": "python",
   "pygments_lexer": "ipython3",
   "version": "3.8.10"
  },
  "toc": {
   "base_numbering": 1,
   "nav_menu": {},
   "number_sections": false,
   "sideBar": true,
   "skip_h1_title": false,
   "title_cell": "Table of Contents",
   "title_sidebar": "Contents",
   "toc_cell": false,
   "toc_position": {},
   "toc_section_display": true,
   "toc_window_display": false
  }
 },
 "nbformat": 4,
 "nbformat_minor": 5
}
