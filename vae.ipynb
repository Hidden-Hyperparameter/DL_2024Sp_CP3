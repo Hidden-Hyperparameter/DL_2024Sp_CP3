{
 "cells": [
  {
   "cell_type": "markdown",
   "id": "b7f85217",
   "metadata": {},
   "source": [
    "---"
   ]
  },
  {
   "cell_type": "markdown",
   "id": "718d6fe6",
   "metadata": {
    "deletable": false,
    "editable": false,
    "id": "718d6fe6",
    "nbgrader": {
     "cell_type": "markdown",
     "checksum": "446149856adbb3ece6e96de86783aab4",
     "grade": false,
     "grade_id": "cell-9c430af5d8d383e0",
     "locked": true,
     "schema_version": 3,
     "solution": false,
     "task": false
    }
   },
   "source": [
    "## Deep Learning Coding Project 3-3: Variational Auto-Encoder\n",
    "\n",
    "Before we start, please put your **Chinese** name and student ID in following format:\n",
    "\n",
    "Name, 0000000000 // e.g.) 小明, 2021123123"
   ]
  },
  {
   "cell_type": "markdown",
   "id": "e85b760d",
   "metadata": {
    "deletable": false,
    "id": "e85b760d",
    "nbgrader": {
     "cell_type": "markdown",
     "checksum": "e30c80977fd0505d51c0f3fff9f44141",
     "grade": true,
     "grade_id": "name-and-id",
     "locked": false,
     "points": 0,
     "schema_version": 3,
     "solution": true,
     "task": false
    }
   },
   "source": [
    "YOUR ANSWER HERE"
   ]
  },
  {
   "cell_type": "markdown",
   "id": "ef99bd7a",
   "metadata": {
    "deletable": false,
    "editable": false,
    "id": "ef99bd7a",
    "nbgrader": {
     "cell_type": "markdown",
     "checksum": "eabcdcf4dd697196edd6e98545dfd779",
     "grade": false,
     "grade_id": "cell-140b078480df53e1",
     "locked": true,
     "schema_version": 3,
     "solution": false,
     "task": false
    }
   },
   "source": [
    "## Introduction\n",
    "\n",
    "We will use Python 3, [NumPy](https://numpy.org/), and [PyTorch](https://pytorch.org/) packages for implementation. To avoid unexpected issues with PyTorch 2.0, we recommend using PyTorch version 1.x.\n",
    "\n",
    "In this coding project, you will implement 4 generative models, i.e., energy-based model, flow-based model, variational auto-encoder, and generative adverserial network, to generate MNIST images.\n",
    "\n",
    "**We will implement a conditional variational auto-encoder (CVAE) in this notebook.**"
   ]
  },
  {
   "cell_type": "markdown",
   "id": "455cd281",
   "metadata": {
    "deletable": false,
    "editable": false,
    "id": "455cd281",
    "nbgrader": {
     "cell_type": "markdown",
     "checksum": "120d6358fec9f6418d1267d01a2ae32b",
     "grade": false,
     "grade_id": "cell-ffacdab926dcdef6",
     "locked": true,
     "schema_version": 3,
     "solution": false,
     "task": false
    }
   },
   "source": [
    "In some cells and files you will see code blocks that look like this:\n",
    "\n",
    "```Python\n",
    "##############################################################################\n",
    "#                  TODO: You need to complete the code here                  #\n",
    "##############################################################################\n",
    "raise NotImplementedError()\n",
    "##############################################################################\n",
    "#                              END OF YOUR CODE                              #\n",
    "##############################################################################\n",
    "```\n",
    "\n",
    "You should replace `raise NotImplementedError()` with your own implementation based on the context, such as:\n",
    "\n",
    "```Python\n",
    "##############################################################################\n",
    "#                  TODO: You need to complete the code here                  #\n",
    "##############################################################################\n",
    "y = w * x + b\n",
    "##############################################################################\n",
    "#                              END OF YOUR CODE                              #\n",
    "##############################################################################\n",
    "\n",
    "```\n",
    "\n",
    "When completing the notebook, please adhere to the following rules:\n",
    "\n",
    "+ Unless otherwise stated, do not write or modify any code outside of code blocks\n",
    "+ Do not add or delete any cells from the notebook.\n",
    "+ Run all cells before submission. We will not re-run the entire codebook during grading.\n",
    "\n",
    "**Finally, avoid plagiarism! Any student who violates academic integrity will be seriously dealt with and receive an F for the course.**"
   ]
  },
  {
   "cell_type": "markdown",
   "id": "17c3bbf1",
   "metadata": {
    "deletable": false,
    "editable": false,
    "id": "17c3bbf1",
    "nbgrader": {
     "cell_type": "markdown",
     "checksum": "e0685e20987f9acc7f9a794e07e282d5",
     "grade": false,
     "grade_id": "cell-599bd6afccb34d60",
     "locked": true,
     "schema_version": 3,
     "solution": false,
     "task": false
    }
   },
   "source": [
    "### Task\n",
    "\n",
    "In this problem, you need to implement a class conditioned variational autoencoder to generate MNIST images. We suppose the prior $p(z)$ is a\n",
    "standard Gaussian distribution $\\mathcal{N} (0, I)$. Also, we assume $q(z|x, y)$ and $p(x|z, y)$\n",
    "are Gaussian distributions.\n",
    "\n",
    "1. **You need to complete the encoder $q(z|x, y; \\phi)$ and the decoder $p(x|z, y; \\theta)$, which are both MLPs**.\n",
    "\n",
    "2. **Implement the VAE loss function.**\n",
    "\n",
    "An example of generated images using CVAE is shown below."
   ]
  },
  {
   "cell_type": "markdown",
   "id": "S_3-OFIyBZgq",
   "metadata": {
    "id": "S_3-OFIyBZgq"
   },
   "source": [
    "If you use Colab in this coding project, please uncomment the cell below, change the `GOOGLE_DRIVE_PATH` to your project folder and run the following cell to mount your Google drive. Then, the notebook can find the required files (i.e., utils.py). If you run the notebook locally, you can skip this cell."
   ]
  },
  {
   "cell_type": "code",
   "execution_count": 2,
   "id": "gh9divsXBYlD",
   "metadata": {
    "id": "gh9divsXBYlD"
   },
   "outputs": [],
   "source": [
    "# ### uncomment this cell if you're using Google colab\n",
    "# from google.colab import drive\n",
    "# drive.mount('/content/drive')\n",
    "\n",
    "# ### change GOOGLE_DRIVE_PATH to the path of your CP3 folder\n",
    "# GOOGLE_DRIVE_PATH = '/content/drive/MyDrive/Colab Notebooks/DL23SP/CP3'\n",
    "# %cd $GOOGLE_DRIVE_PATH"
   ]
  },
  {
   "cell_type": "code",
   "execution_count": 3,
   "id": "646d3387",
   "metadata": {
    "deletable": false,
    "editable": false,
    "id": "646d3387",
    "nbgrader": {
     "cell_type": "code",
     "checksum": "1e9dfeecf134f0d6e60fabbca6650f6e",
     "grade": false,
     "grade_id": "cell-afeaf2ba2853c58b",
     "locked": true,
     "schema_version": 3,
     "solution": false,
     "task": false
    }
   },
   "outputs": [
    {
     "data": {
      "text/plain": [
       "<matplotlib.image.AxesImage at 0x7ff93fb5cb50>"
      ]
     },
     "execution_count": 3,
     "metadata": {},
     "output_type": "execute_result"
    },
    {
     "data": {
      "image/png": "[encoded data removed]",
      "text/plain": [
       "<Figure size 600x400 with 1 Axes>"
      ]
     },
     "metadata": {},
     "output_type": "display_data"
    }
   ],
   "source": [
    "import matplotlib.pyplot as plt\n",
    "import matplotlib.image as mpimg\n",
    "from matplotlib import rcParams\n",
    "\n",
    "%matplotlib inline\n",
    "\n",
    "# figure size in inches optional\n",
    "rcParams['figure.figsize'] = 6, 4\n",
    "plt.imshow(mpimg.imread('./vae/sample.png'))"
   ]
  },
  {
   "cell_type": "markdown",
   "id": "aaa645f3",
   "metadata": {
    "deletable": false,
    "editable": false,
    "id": "aaa645f3",
    "nbgrader": {
     "cell_type": "markdown",
     "checksum": "d90bf06b13439ffe089d56f4c9cf0e84",
     "grade": false,
     "grade_id": "cell-53585dd2f2b21500",
     "locked": true,
     "schema_version": 3,
     "solution": false,
     "task": false
    }
   },
   "source": [
    "### Submission\n",
    "\n",
    "You need to submit your code (this notebook), your trained VAE model (named `./vae/vae_best.pth`), your generated images, and your report:\n",
    "\n",
    "+ **Code**\n",
    "\n",
    "Remember to run all the cells before submission. Remain your tuned hyperparameters unchanged.\n",
    "\n",
    "+ **Generator**\n",
    "\n",
    "In this notebook, we select the best model based on validation loss. You can also manually select the best one, and save it as `./vae/vae_best.pth`. **Please do not submit any other checkpoints except for `./vae/vae_best.pth`!**\n",
    "\n",
    "+ **Generated Images**\n",
    "\n",
    "Please generate 100 images for each class (1000 in total), save it in `./vae/generated/`, and organize them as the following structure:\n",
    "\n",
    "```\n",
    "CodingProject3\n",
    "├── ...\n",
    "├── vae\n",
    "│   ├── vae_best.pth\n",
    "│   ├── generated\n",
    "│       └── 0\n",
    "│           ├── 0_00.png\n",
    "│           ├── ...\n",
    "│           ├── 0_99.png\n",
    "│       └── 1\n",
    "│           ├── 1_00.png\n",
    "│           ├── ...\n",
    "│           ├── 1_99.png\n",
    "│       └── ...\n",
    "│       └── 9\n",
    "│           ├── 9_00.png\n",
    "│           ├── ...\n",
    "│           ├── 9_99.png\n",
    "```\n",
    "\n",
    "Specifially, you should name the $j$-th generated image of class $i$ as `{i}_{j}.png`, and save it into folder `./vae/generated/{i}/`. Check the `make_dataset` method of VAE model for details.\n",
    "\n",
    "+ **Report**\n",
    "\n",
    "Please include the conditioned generation results (i.e., generated images in a $10\\times 10$ array as above), the FID score, the standard deviation for each class, and other relevant statistics in your\n",
    "report. Note that you only need to write a single report for this coding project."
   ]
  },
  {
   "cell_type": "markdown",
   "id": "7290dae4",
   "metadata": {
    "deletable": false,
    "editable": false,
    "id": "7290dae4",
    "nbgrader": {
     "cell_type": "markdown",
     "checksum": "01bd32341d1178eb0d90ee848af6421e",
     "grade": false,
     "grade_id": "cell-3171a074e3f52bd5",
     "locked": true,
     "schema_version": 3,
     "solution": false,
     "task": false
    }
   },
   "source": [
    "### Grading\n",
    "\n",
    "We will evaluate your model by **computing the [FID score](https://en.wikipedia.org/wiki/Fr%C3%A9chet_inception_distance)**. We have provided a fine-tuned Inception-V3 model, which will be used by our evaluation script to compute FID score."
   ]
  },
  {
   "cell_type": "markdown",
   "id": "dd040c70",
   "metadata": {
    "deletable": false,
    "editable": false,
    "id": "dd040c70",
    "nbgrader": {
     "cell_type": "markdown",
     "checksum": "54854fcdc1556d353b55bc4d1a133674",
     "grade": false,
     "grade_id": "cell-2b4bea3e44a7b81b",
     "locked": true,
     "schema_version": 3,
     "solution": false,
     "task": false
    }
   },
   "source": [
    "## Set Up Code"
   ]
  },
  {
   "cell_type": "markdown",
   "id": "4eca3738",
   "metadata": {
    "deletable": false,
    "editable": false,
    "id": "4eca3738",
    "nbgrader": {
     "cell_type": "markdown",
     "checksum": "8a46538ad10bf1933513126de21b52de",
     "grade": false,
     "grade_id": "cell-291232b1c59e4f02",
     "locked": true,
     "schema_version": 3,
     "solution": false,
     "task": false
    }
   },
   "source": [
    "If you use Colab in this coding project, please make sure to mount your drive before running the cells below."
   ]
  },
  {
   "cell_type": "code",
   "execution_count": 4,
   "id": "d8c2354b",
   "metadata": {
    "deletable": false,
    "editable": false,
    "id": "d8c2354b",
    "nbgrader": {
     "cell_type": "code",
     "checksum": "b34bc8b23f9c8e480a9671ef3453e7ac",
     "grade": false,
     "grade_id": "cell-a551fcc5ff27fb87",
     "locked": true,
     "schema_version": 3,
     "solution": false,
     "task": false
    }
   },
   "outputs": [],
   "source": [
    "%load_ext autoreload\n",
    "%autoreload 2"
   ]
  },
  {
   "cell_type": "code",
   "execution_count": 5,
   "id": "f6cd2080",
   "metadata": {
    "deletable": false,
    "editable": false,
    "id": "f6cd2080",
    "nbgrader": {
     "cell_type": "code",
     "checksum": "0d5d6f96e1d7ce5df1315172b57173de",
     "grade": false,
     "grade_id": "cell-e11eaf041d72deda",
     "locked": true,
     "schema_version": 3,
     "solution": false,
     "task": false
    }
   },
   "outputs": [
    {
     "name": "stderr",
     "output_type": "stream",
     "text": [
      "/home/zhh/anaconda3/envs/DYY/lib/python3.11/site-packages/tqdm/auto.py:21: TqdmWarning: IProgress not found. Please update jupyter and ipywidgets. See https://ipywidgets.readthedocs.io/en/stable/user_install.html\n",
      "  from .autonotebook import tqdm as notebook_tqdm\n"
     ]
    },
    {
     "name": "stdout",
     "output_type": "stream",
     "text": [
      "Good luck!\n"
     ]
    }
   ],
   "source": [
    "from utils import hello\n",
    "hello()"
   ]
  },
  {
   "cell_type": "markdown",
   "id": "cb9634e8",
   "metadata": {
    "deletable": false,
    "editable": false,
    "id": "cb9634e8",
    "nbgrader": {
     "cell_type": "markdown",
     "checksum": "51e49fe39dad00834a151f8221d720ef",
     "grade": false,
     "grade_id": "cell-fe84c884133acb94",
     "locked": true,
     "schema_version": 3,
     "solution": false,
     "task": false
    }
   },
   "source": [
    "Please run the following cell to import some base classes for implementation (no matter whether you use colab)."
   ]
  },
  {
   "cell_type": "code",
   "execution_count": 6,
   "id": "cfad252c",
   "metadata": {
    "deletable": false,
    "editable": false,
    "id": "cfad252c",
    "nbgrader": {
     "cell_type": "code",
     "checksum": "737513904296b1d617836074f8053012",
     "grade": false,
     "grade_id": "cell-1fd41093ae57ce74",
     "locked": true,
     "schema_version": 3,
     "solution": false,
     "task": false
    }
   },
   "outputs": [],
   "source": [
    "from collections import deque\n",
    "from torch.utils.data import DataLoader\n",
    "from tqdm.autonotebook import tqdm\n",
    "\n",
    "import numpy as np\n",
    "import os\n",
    "import time\n",
    "import torch\n",
    "import torch.nn as nn\n",
    "import torch.nn.functional as F\n",
    "import torchvision\n",
    "\n",
    "from utils import save_model, load_model, train_set, val_set\n",
    "\n",
    "seed = 42\n",
    "np.random.seed(seed)\n",
    "torch.manual_seed(seed)\n",
    "torch.cuda.manual_seed(seed)\n",
    "torch.backends.cudnn.deterministic = True\n",
    "\n",
    "device = torch.device(\n",
    "    \"cuda\") if torch.cuda.is_available() else torch.device(\"cpu\")"
   ]
  },
  {
   "cell_type": "markdown",
   "id": "973e8344",
   "metadata": {
    "deletable": false,
    "editable": false,
    "id": "973e8344",
    "nbgrader": {
     "cell_type": "markdown",
     "checksum": "e41ac5a8880d05ee46863dd2b4c6e61a",
     "grade": false,
     "grade_id": "cell-90c7dca35f25c7fa",
     "locked": true,
     "schema_version": 3,
     "solution": false,
     "task": false
    }
   },
   "source": [
    "## VAE Model\n",
    "\n",
    "Complete the conditional VAE model with structure shown in doc strings.\n",
    "\n",
    "**Hint**: we usually output logarithm standard deviation."
   ]
  },
  {
   "cell_type": "code",
   "execution_count": 7,
   "id": "a4f8e820",
   "metadata": {
    "deletable": false,
    "id": "a4f8e820",
    "nbgrader": {
     "cell_type": "code",
     "checksum": "447c2a16f2258778ef4fb4dfed6ea2a4",
     "grade": false,
     "grade_id": "cell-ac7b8111ec3c40f1",
     "locked": false,
     "schema_version": 3,
     "solution": true,
     "task": false
    }
   },
   "outputs": [],
   "source": [
    "class CVAE(nn.Module):\n",
    "    def __init__(self, img_size, label_size, latent_size, hidden_size):\n",
    "        super(CVAE, self).__init__()\n",
    "        self.img_size = img_size  # (C, H, W)\n",
    "        self.label_size = label_size\n",
    "        self.latent_size = latent_size\n",
    "        self.hidden_size = hidden_size\n",
    "        \n",
    "        # Encoder.\n",
    "        '''\n",
    "        img   -> fc  ->                   -> fc -> mean    \n",
    "                        concat -> encoder                  -> z\n",
    "        label -> fc  ->                   -> fc -> logstd \n",
    "        '''\n",
    "        ##############################################################################\n",
    "        #                  TODO: You need to complete the code here                  #\n",
    "        ##############################################################################\n",
    "        # YOUR CODE HERE\n",
    "        # raise NotImplementedError()\n",
    "        self.flatten_img_size = torch.prod(torch.tensor(list(self.img_size)))\n",
    "        print('self.img_size = ',self.img_size)#self.img_size =  (1, 28, 28)\n",
    "        print('self.label_size ',self.label_size)#self.label_size  10\n",
    "        print('self.latent_size',self.latent_size)#self.latent_size 100\n",
    "        print('self.hidden_size',self.hidden_size)#self.hidden_size 256\n",
    "        self.q_image_fc = nn.Sequential(\n",
    "            nn.Flatten(),\n",
    "            nn.Linear(self.flatten_img_size,self.hidden_size),\n",
    "            # nn.Sigmoid(),\n",
    "            nn.ReLU()\n",
    "        )\n",
    "        self.q_label_fc = nn.Sequential(\n",
    "            nn.Linear(self.label_size,self.hidden_size//4),\n",
    "            nn.ReLU()\n",
    "        )\n",
    "        self.prior = torch.distributions.Normal(\n",
    "            torch.zeros(self.latent_size),\n",
    "            torch.ones(self.latent_size)\n",
    "        )\n",
    "        self.q_mu = nn.Sequential(\n",
    "            nn.Linear((self.hidden_size *5)//4,self.hidden_size*2),\n",
    "            nn.ReLU(),\n",
    "            nn.Linear(self.hidden_size*2,self.hidden_size*2),\n",
    "            nn.ReLU(),\n",
    "            nn.Linear(self.hidden_size*2,self.hidden_size*2),\n",
    "            nn.ReLU(),\n",
    "            nn.Linear(self.hidden_size*2,self.latent_size),\n",
    "            nn.ReLU(),\n",
    "        )\n",
    "        self.q_sigma = nn.Sequential(\n",
    "            nn.Linear((self.hidden_size*5)//4,self.hidden_size*2),\n",
    "            nn.ReLU(),\n",
    "            nn.Linear(self.hidden_size*2,self.hidden_size*2),\n",
    "            nn.ReLU(),\n",
    "            nn.Linear(self.hidden_size*2,self.hidden_size*2),\n",
    "            nn.ReLU(),\n",
    "            nn.Linear(self.hidden_size*2,self.latent_size),\n",
    "            nn.ReLU(),\n",
    "        )\n",
    "        ##############################################################################\n",
    "        #                              END OF YOUR CODE                              #\n",
    "        ##############################################################################\n",
    "        \n",
    "        # Decoder.\n",
    "        '''\n",
    "        latent -> fc ->\n",
    "                         concat -> decoder -> reconstruction\n",
    "        label  -> fc ->\n",
    "        '''\n",
    "        ##############################################################################\n",
    "        #                  TODO: You need to complete the code here                  #\n",
    "        ##############################################################################\n",
    "        # YOUR CODE HERE\n",
    "        self.p_latent_fc = nn.Sequential(\n",
    "            nn.Flatten(),\n",
    "            nn.Linear(self.latent_size,self.hidden_size),\n",
    "            nn.ReLU(),\n",
    "        )\n",
    "        self.p_label_fc = nn.Sequential(\n",
    "            nn.Linear(self.label_size,self.hidden_size//4),\n",
    "            nn.ReLU(),\n",
    "        )\n",
    "        self.p_fij = nn.Sequential(\n",
    "            nn.Linear((self.hidden_size*5)//4,self.hidden_size*2),\n",
    "            nn.ReLU(),\n",
    "            nn.Linear(self.hidden_size*2,self.hidden_size*4),\n",
    "            nn.ReLU(),\n",
    "            nn.Linear(self.hidden_size*4,self.hidden_size*2),\n",
    "            nn.ReLU(),\n",
    "            nn.Linear(self.hidden_size*2,self.flatten_img_size),\n",
    "            # nn.ReLU(),\n",
    "            # nn.Tanh() # no activation here!\n",
    "        )\n",
    "        ##############################################################################\n",
    "        #                              END OF YOUR CODE                              #\n",
    "        ##############################################################################\n",
    "\n",
    "    def encode_param(self, x, y):\n",
    "        # compute mu and logstd of p(z|x, y)\n",
    "        ##############################################################################\n",
    "        #                  TODO: You need to complete the code here                  #\n",
    "        ##############################################################################\n",
    "        # YOUR CODE HERE\n",
    "        y = F.one_hot(y,num_classes=10).to(torch.float32)\n",
    "        # print('encode_param')\n",
    "        cat = torch.cat((self.q_image_fc(x),self.q_label_fc(y)),dim=1)\n",
    "        mu = self.q_mu(cat)\n",
    "        sigma = self.q_sigma(cat)\n",
    "        # print('mu.shape',mu.shape)\n",
    "        # print('sigma.shape',sigma.shape)\n",
    "        # raise NotImplementedError()\n",
    "        return mu,sigma\n",
    "        ##############################################################################\n",
    "        #                              END OF YOUR CODE                              #\n",
    "        ##############################################################################\n",
    "\n",
    "    def reparamaterize(self, mu: torch.Tensor, logstd: torch.Tensor):\n",
    "        # compute latent z with reparameterization trick\n",
    "        ##############################################################################\n",
    "        #                  TODO: You need to complete the code here                  #\n",
    "        ##############################################################################\n",
    "        # YOUR CODE HERE\n",
    "        raise NotImplementedError()\n",
    "        print('re_param')\n",
    "        print('mu.shape',mu.shape)\n",
    "        print('sigma.shape',logstd.shape)\n",
    "        eps = self.prior.sample([mu.shape[0]]).to(device)\n",
    "        print('eps.shape',eps.shape)\n",
    "        return self.p_fij(mu+eps*torch.exp(logstd))\n",
    "        ##############################################################################\n",
    "        #                              END OF YOUR CODE                              #\n",
    "        ##############################################################################\n",
    "\n",
    "    def encode(self, x, y):\n",
    "        # sample latent z from p(z|x, y)\n",
    "        ##############################################################################\n",
    "        #                  TODO: You need to complete the code here                  #\n",
    "        ##############################################################################\n",
    "        # YOUR CODE HERE\n",
    "        '''\n",
    "        img   -> fc  ->                   -> fc -> mean    \n",
    "                        concat -> encoder                  -> z\n",
    "        label -> fc  ->                   -> fc -> logstd \n",
    "        '''\n",
    "        z = self.prior.sample([self.latent_size]).to(device)\n",
    "        mu,sigma = self.encode_param(x,y)\n",
    "        return mu + torch.exp(sigma)*z\n",
    "        ##############################################################################\n",
    "        #                              END OF YOUR CODE                              #\n",
    "        ##############################################################################\n",
    "\n",
    "    def decode(self, z, y):\n",
    "        ##############################################################################\n",
    "        #                  TODO: You need to complete the code here                  #\n",
    "        ##############################################################################\n",
    "        # YOUR CODE HERE\n",
    "        # z: torch.randn(n_samples, self.latent_size)\n",
    "        # y: label\n",
    "        '''\n",
    "        latent -> fc ->\n",
    "                         concat -> decoder -> reconstruction\n",
    "        label  -> fc ->\n",
    "        '''\n",
    "        if not torch.is_floating_point(y):\n",
    "            y = F.one_hot(y,num_classes=10).to(torch.float32)\n",
    "        x = torch.randn([z.shape[0],self.flatten_img_size]).to(device)\n",
    "        cat = torch.cat((self.p_latent_fc(z),self.p_label_fc(y)),dim=1)\n",
    "        fij = self.p_fij(cat)\n",
    "        # print(x[0][300:310])\n",
    "        # print(fij[0][300:310])\n",
    "        # print((x+fij)[0][300:310])\n",
    "        return torch.sigmoid(x + fij).reshape(-1,28,28) # equivalent to sample from Normal(fij,1)\n",
    "\n",
    "        ##############################################################################\n",
    "        #                              END OF YOUR CODE                              #\n",
    "        ##############################################################################\n",
    "\n",
    "    @torch.no_grad()\n",
    "    def sample_images(self, label, save=True, save_dir='./vae'):\n",
    "        self.eval()\n",
    "        n_samples = label.shape[0]\n",
    "        samples  = self.decode(torch.randn(n_samples, self.latent_size).to(label.device), label)\n",
    "        imgs = samples.view(n_samples, 1, 28, 28).clamp(0., 1.)\n",
    "        if save:\n",
    "            os.makedirs(save_dir, exist_ok=True)\n",
    "            torchvision.utils.save_image(imgs, os.path.join(save_dir, 'sample.png'), nrow=int(np.sqrt(n_samples)))\n",
    "        return imgs\n",
    "    \n",
    "    @torch.no_grad()\n",
    "    def make_dataset(self, n_samples_per_class=10, save=True, save_dir='./vae/generated/'):\n",
    "        self.eval()\n",
    "        device = next(self.parameters()).device\n",
    "        for i in range(self.label_size):\n",
    "            label = torch.zeros(n_samples_per_class, self.label_size, device=device)\n",
    "            label[:, i] = 1\n",
    "            samples = self.decode(torch.randn(\n",
    "                n_samples_per_class, self.latent_size).to(device), label)\n",
    "            imgs = samples.view(n_samples_per_class, 1, 28, 28).clamp(0., 1.)\n",
    "            if save:\n",
    "                os.makedirs(os.path.join(save_dir, str(i)), exist_ok=True)\n",
    "                for j in range(n_samples_per_class):\n",
    "                    torchvision.utils.save_image(imgs[j], os.path.join(save_dir, str(i), \"{}_{:>03d}.png\".format(i, j)))\n"
   ]
  },
  {
   "cell_type": "markdown",
   "id": "9806dfb4",
   "metadata": {
    "deletable": false,
    "editable": false,
    "id": "9806dfb4",
    "nbgrader": {
     "cell_type": "markdown",
     "checksum": "59258bed89bac2ba13c2f27ebcfc60f7",
     "grade": false,
     "grade_id": "cell-bff0aa54c09237bc",
     "locked": true,
     "schema_version": 3,
     "solution": false,
     "task": false
    }
   },
   "source": [
    "## VAE Loss\n",
    "\n",
    "Given image $x$ and corresponding label $y$, compute the VAE loss in the following function.\n",
    "\n",
    "**Hint**: $p(x|z, y)$ is a real-valued Gaussian distribution, while images are in range $[0, 1]$. Therefore, you may want to transform $x$ when computing $p(x|z, y)$."
   ]
  },
  {
   "cell_type": "code",
   "execution_count": 8,
   "id": "207ba01a",
   "metadata": {
    "deletable": false,
    "id": "207ba01a",
    "nbgrader": {
     "cell_type": "code",
     "checksum": "08f2d7d9aef79e56361662c6740977da",
     "grade": false,
     "grade_id": "cell-cde6ea3519fbcd6e",
     "locked": false,
     "schema_version": 3,
     "solution": true,
     "task": false
    }
   },
   "outputs": [],
   "source": [
    "def compute_vae_loss(vae_model:CVAE, x, y, beta=1):\n",
    "    # compute vae loss for input x and label y\n",
    "    ##############################################################################\n",
    "    #                  TODO: You need to complete the code here                  #\n",
    "    ##############################################################################\n",
    "    # YOUR CODE HERE\n",
    "    # E𝑧~𝑞(𝑧|𝑥;𝜙) log 𝑝(𝑥|𝑧; 𝜃) = E𝜖~𝑁 0, |𝑓(𝜇+ 𝜎 ⋅ 𝜖) − 𝑥 |^2]\n",
    "    x = torch.logit(x)\n",
    "    # print(x.shape)\n",
    "    mu,sigma = vae_model.encode_param(x,y)\n",
    "    eps = vae_model.prior.sample([mu.shape[0]]).to(device)\n",
    "    z = (mu+eps*torch.exp(sigma))\n",
    "    f = vae_model.p_fij(torch.cat((vae_model.p_latent_fc(z),vae_model.p_label_fc(F.one_hot(y,num_classes=10).to(torch.float32))),dim=1))\n",
    "    reconstruction_loss = -0.5 * (torch.norm(f-x)**2) # 0.5 comes from Gaussian x^2/2\n",
    "    kl_penalty = 0.5*(torch.sum(torch.exp(2*sigma))+torch.norm(mu)**2-2*torch.sum(sigma))\n",
    "    # print(sigma[0][50:60])\n",
    "    # print(reconstruction_loss.item())\n",
    "    # print(kl_penalty.item())\n",
    "    return  - reconstruction_loss + beta * kl_penalty # approx to reconstruction_loss\n",
    "    ##############################################################################\n",
    "    #                              END OF YOUR CODE                              #\n",
    "    ##############################################################################\n"
   ]
  },
  {
   "cell_type": "markdown",
   "id": "a48e81e1",
   "metadata": {
    "id": "a48e81e1"
   },
   "source": [
    "## Training & Evaluation\n",
    "\n",
    "We have implemented the training and evaluation functions. Feel free to modify `train` if you want to monitoring more information. Make sure your best model is stored in `'./vae/vae_best.pth'`."
   ]
  },
  {
   "cell_type": "code",
   "execution_count": 9,
   "id": "0ca14731",
   "metadata": {
    "deletable": false,
    "editable": false,
    "id": "0ca14731",
    "nbgrader": {
     "cell_type": "code",
     "checksum": "3dd49cb59b62e08e8b074e6d62eaacbb",
     "grade": false,
     "grade_id": "cell-de07c12138584171",
     "locked": true,
     "schema_version": 3,
     "solution": false,
     "task": false
    }
   },
   "outputs": [],
   "source": [
    "@torch.no_grad()\n",
    "def evaluate(vae_model, loader, device, beta):\n",
    "    vae_model.eval()\n",
    "    val_loss = 0\n",
    "    n_batches = 0\n",
    "\n",
    "    pbar = tqdm(total=len(loader.dataset))\n",
    "    pbar.set_description('Eval')\n",
    "    for batch_idx, (x, y) in enumerate(loader):\n",
    "        n_batches += x.shape[0]\n",
    "        x = x.view(x.shape[0], -1).to(device)\n",
    "        y = y.to(device)\n",
    "\n",
    "        val_loss += compute_vae_loss(vae_model, x, y, beta).sum().item()\n",
    "        pbar.update(x.size(0))\n",
    "        pbar.set_description('Val Loss: {:.6f}'.format(val_loss / n_batches))\n",
    "\n",
    "    pbar.close()\n",
    "    return val_loss / n_batches"
   ]
  },
  {
   "cell_type": "code",
   "execution_count": 10,
   "id": "86f7857a",
   "metadata": {
    "id": "86f7857a"
   },
   "outputs": [],
   "source": [
    "def train(n_epochs, vae_model, train_loader, val_loader, optimizer, beta=1, device=torch.device('cuda'), save_interval=10):\n",
    "    vae_model.to(device)\n",
    "    best_val_loss = np.inf\n",
    "\n",
    "    for epoch in range(n_epochs):\n",
    "        train_loss = 0\n",
    "        n_batches = 0\n",
    "        pbar = tqdm(total=len(train_loader.dataset))\n",
    "        for i, (x, y) in enumerate(train_loader):\n",
    "            # compute loss\n",
    "            vae_model.train()\n",
    "            n_batches += x.shape[0]\n",
    "            x = x.view(x.shape[0], -1).to(device)\n",
    "            y = y.to(device)\n",
    "            loss = compute_vae_loss(vae_model, x, y, beta)\n",
    "\n",
    "            optimizer.zero_grad()\n",
    "            loss.mean().backward()\n",
    "            optimizer.step()\n",
    "\n",
    "            train_loss += loss.sum().item()\n",
    "\n",
    "            pbar.update(x.size(0))\n",
    "            pbar.set_description('Train Epoch {}, Train Loss: {:.6f}'.format(epoch + 1, train_loss / n_batches))\n",
    "        pbar.close()\n",
    "\n",
    "        if (epoch + 1) % save_interval == 0:\n",
    "            os.makedirs(f'./vae/{epoch + 1}', exist_ok=True)\n",
    "            vae_model.eval()\n",
    "            save_model(f'./vae/{epoch + 1}/vae.pth', vae_model, optimizer)\n",
    "\n",
    "            val_loss = evaluate(vae_model, val_loader, device, beta=beta)\n",
    "\n",
    "            # sample and save images\n",
    "            label = torch.eye(10).repeat(10, 1).to(device)\n",
    "            vae_model.sample_images(\n",
    "                label, save=True, save_dir=f\"./vae/{epoch + 1}/\")\n",
    "            \n",
    "            if val_loss < best_val_loss:\n",
    "                print(\n",
    "                    f'Current validation loss: {best_val_loss} -> {val_loss}')\n",
    "                best_val_loss = val_loss\n",
    "                save_model('./vae/vae_best.pth', vae_model)"
   ]
  },
  {
   "cell_type": "markdown",
   "id": "adb3743e",
   "metadata": {
    "id": "adb3743e"
   },
   "source": [
    "## Enjoy\n",
    "\n",
    "Tune your hyperparameters and make your conditional VAE work. Good luck!"
   ]
  },
  {
   "cell_type": "code",
   "execution_count": 11,
   "id": "d7629c75",
   "metadata": {
    "id": "d7629c75"
   },
   "outputs": [
    {
     "name": "stdout",
     "output_type": "stream",
     "text": [
      "self.img_size =  (1, 28, 28)\n",
      "self.label_size  10\n",
      "self.latent_size 100\n",
      "self.hidden_size 256\n"
     ]
    }
   ],
   "source": [
    "label_dim = 10\n",
    "img_dim = (1, 28, 28)\n",
    "latent_dim = 100\n",
    "cvae = CVAE(img_dim, 10, 100, 256)\n",
    "\n",
    "train_loader = DataLoader(train_set, batch_size=128, pin_memory=True,\n",
    "                          drop_last=False, shuffle=True, num_workers=8)\n",
    "val_loader = DataLoader(val_set, batch_size=512, pin_memory=True,\n",
    "                        drop_last=True, shuffle=True, num_workers=8)\n",
    "optimizer = torch.optim.Adam(cvae.parameters(), lr=2e-4)"
   ]
  },
  {
   "cell_type": "markdown",
   "id": "30af6dca",
   "metadata": {},
   "source": [
    "Let's start training! Please keep in mind that this cell may **NOT** be run when we evaluate your assignment!"
   ]
  },
  {
   "cell_type": "code",
   "execution_count": 11,
   "id": "39c8d308",
   "metadata": {},
   "outputs": [
    {
     "name": "stderr",
     "output_type": "stream",
     "text": [
      "  0%|          | 0/60000 [00:00<?, ?it/s]"
     ]
    },
    {
     "name": "stderr",
     "output_type": "stream",
     "text": [
      "Train Epoch 1, Train Loss: 4359.075186: 100%|██████████| 60000/60000 [00:03<00:00, 16517.98it/s]\n",
      "Train Epoch 2, Train Loss: 3302.768761: 100%|██████████| 60000/60000 [00:03<00:00, 17305.68it/s]\n",
      "Train Epoch 3, Train Loss: 3016.516180: 100%|██████████| 60000/60000 [00:04<00:00, 12506.36it/s]\n",
      "Train Epoch 4, Train Loss: 2673.464991: 100%|██████████| 60000/60000 [00:05<00:00, 10794.18it/s]\n",
      "Train Epoch 5, Train Loss: 2280.633571: 100%|██████████| 60000/60000 [00:03<00:00, 17837.26it/s]\n",
      "Train Epoch 6, Train Loss: 2086.845536: 100%|██████████| 60000/60000 [00:05<00:00, 11377.92it/s]\n",
      "Train Epoch 7, Train Loss: 1973.181322: 100%|██████████| 60000/60000 [00:04<00:00, 14830.03it/s]\n",
      "Train Epoch 8, Train Loss: 1881.628929: 100%|██████████| 60000/60000 [00:04<00:00, 12004.03it/s]\n",
      "Train Epoch 9, Train Loss: 1807.615044: 100%|██████████| 60000/60000 [00:03<00:00, 17143.48it/s]\n",
      "Train Epoch 10, Train Loss: 1750.196324: 100%|██████████| 60000/60000 [00:03<00:00, 16917.76it/s]\n",
      "Val Loss: 1711.204815:  97%|█████████▋| 9728/10000 [00:00<00:00, 22555.12it/s]\n"
     ]
    },
    {
     "name": "stdout",
     "output_type": "stream",
     "text": [
      "Current validation loss: inf -> 1711.2048147101152\n"
     ]
    },
    {
     "name": "stderr",
     "output_type": "stream",
     "text": [
      "Train Epoch 11, Train Loss: 1701.314580: 100%|██████████| 60000/60000 [00:04<00:00, 12491.93it/s]\n",
      "Train Epoch 12, Train Loss: 1658.963096: 100%|██████████| 60000/60000 [00:04<00:00, 13977.67it/s]\n",
      "Train Epoch 13, Train Loss: 1621.452405: 100%|██████████| 60000/60000 [00:03<00:00, 17150.52it/s]\n",
      "Train Epoch 14, Train Loss: 1587.519563: 100%|██████████| 60000/60000 [00:04<00:00, 12181.08it/s]\n",
      "Train Epoch 15, Train Loss: 1555.477280: 100%|██████████| 60000/60000 [00:05<00:00, 11723.92it/s]\n",
      "Train Epoch 16, Train Loss: 1525.577738: 100%|██████████| 60000/60000 [00:03<00:00, 17237.48it/s]\n",
      "Train Epoch 17, Train Loss: 1499.521463: 100%|██████████| 60000/60000 [00:05<00:00, 11217.63it/s]\n",
      "Train Epoch 18, Train Loss: 1475.789858: 100%|██████████| 60000/60000 [00:04<00:00, 14700.16it/s]\n",
      "Train Epoch 19, Train Loss: 1451.733363: 100%|██████████| 60000/60000 [00:04<00:00, 12302.56it/s]\n",
      "Train Epoch 20, Train Loss: 1430.988792: 100%|██████████| 60000/60000 [00:04<00:00, 13399.86it/s]\n",
      "Val Loss: 1407.358630:  97%|█████████▋| 9728/10000 [00:00<00:00, 10854.47it/s]\n"
     ]
    },
    {
     "name": "stdout",
     "output_type": "stream",
     "text": [
      "Current validation loss: 1711.2048147101152 -> 1407.3586297286183\n"
     ]
    },
    {
     "name": "stderr",
     "output_type": "stream",
     "text": [
      "Train Epoch 21, Train Loss: 1412.650363: 100%|██████████| 60000/60000 [00:03<00:00, 15115.51it/s]\n",
      "Train Epoch 22, Train Loss: 1394.480722: 100%|██████████| 60000/60000 [00:05<00:00, 11520.75it/s]\n",
      "Train Epoch 23, Train Loss: 1378.687380: 100%|██████████| 60000/60000 [00:03<00:00, 15516.42it/s]\n",
      "Train Epoch 24, Train Loss: 1363.881950: 100%|██████████| 60000/60000 [00:04<00:00, 14240.88it/s]\n",
      "Train Epoch 25, Train Loss: 1349.275273: 100%|██████████| 60000/60000 [00:05<00:00, 10789.25it/s]\n",
      "Train Epoch 26, Train Loss: 1336.602102: 100%|██████████| 60000/60000 [00:06<00:00, 8885.07it/s] \n",
      "Train Epoch 27, Train Loss: 1323.140721: 100%|██████████| 60000/60000 [00:04<00:00, 14116.79it/s]\n",
      "Train Epoch 28, Train Loss: 1311.111995: 100%|██████████| 60000/60000 [00:05<00:00, 10232.08it/s]\n",
      "Train Epoch 29, Train Loss: 1300.985935: 100%|██████████| 60000/60000 [00:06<00:00, 9306.24it/s] \n",
      "Train Epoch 30, Train Loss: 1289.926448: 100%|██████████| 60000/60000 [00:03<00:00, 16316.60it/s]\n",
      "Val Loss: 1272.643343:  97%|█████████▋| 9728/10000 [00:00<00:00, 19496.80it/s]\n"
     ]
    },
    {
     "name": "stdout",
     "output_type": "stream",
     "text": [
      "Current validation loss: 1407.3586297286183 -> 1272.6433426706415\n"
     ]
    },
    {
     "name": "stderr",
     "output_type": "stream",
     "text": [
      "Train Epoch 31, Train Loss: 1279.922252: 100%|██████████| 60000/60000 [00:04<00:00, 12505.73it/s]\n",
      "Train Epoch 32, Train Loss: 1269.287184: 100%|██████████| 60000/60000 [00:05<00:00, 11443.01it/s]\n",
      "Train Epoch 33, Train Loss: 1260.908393: 100%|██████████| 60000/60000 [00:03<00:00, 15223.46it/s]\n",
      "Train Epoch 34, Train Loss: 1251.909449: 100%|██████████| 60000/60000 [00:04<00:00, 14070.22it/s]\n",
      "Train Epoch 35, Train Loss: 1242.748857: 100%|██████████| 60000/60000 [00:05<00:00, 10548.03it/s]\n",
      "Train Epoch 36, Train Loss: 1234.801241: 100%|██████████| 60000/60000 [00:06<00:00, 9660.25it/s] \n",
      "Train Epoch 37, Train Loss: 1227.210892: 100%|██████████| 60000/60000 [00:05<00:00, 10393.38it/s]\n",
      "Train Epoch 38, Train Loss: 1219.630306: 100%|██████████| 60000/60000 [00:03<00:00, 16806.82it/s]\n",
      "Train Epoch 39, Train Loss: 1212.701561: 100%|██████████| 60000/60000 [00:05<00:00, 10893.59it/s]\n",
      "Train Epoch 40, Train Loss: 1205.637176: 100%|██████████| 60000/60000 [00:05<00:00, 11207.83it/s]\n",
      "Val Loss: 1193.295352:  97%|█████████▋| 9728/10000 [00:00<00:00, 17459.88it/s]\n"
     ]
    },
    {
     "name": "stdout",
     "output_type": "stream",
     "text": [
      "Current validation loss: 1272.6433426706415 -> 1193.2953523334704\n"
     ]
    },
    {
     "name": "stderr",
     "output_type": "stream",
     "text": [
      "Train Epoch 41, Train Loss: 1199.254092: 100%|██████████| 60000/60000 [00:04<00:00, 12218.34it/s]\n",
      "Train Epoch 42, Train Loss: 1192.094645: 100%|██████████| 60000/60000 [00:03<00:00, 17184.02it/s]\n",
      "Train Epoch 43, Train Loss: 1186.425519: 100%|██████████| 60000/60000 [00:04<00:00, 12953.70it/s]\n",
      "Train Epoch 44, Train Loss: 1179.745970: 100%|██████████| 60000/60000 [00:04<00:00, 13253.93it/s]\n",
      "Train Epoch 45, Train Loss: 1174.089883: 100%|██████████| 60000/60000 [00:03<00:00, 15959.54it/s]\n",
      "Train Epoch 46, Train Loss: 1168.453066: 100%|██████████| 60000/60000 [00:03<00:00, 15045.73it/s]\n",
      "Train Epoch 47, Train Loss: 1162.805956: 100%|██████████| 60000/60000 [00:05<00:00, 10873.45it/s]\n",
      "Train Epoch 48, Train Loss: 1157.713184: 100%|██████████| 60000/60000 [00:04<00:00, 14203.34it/s]\n",
      "Train Epoch 49, Train Loss: 1152.224476: 100%|██████████| 60000/60000 [00:03<00:00, 15360.39it/s]\n",
      "Train Epoch 50, Train Loss: 1146.843645: 100%|██████████| 60000/60000 [00:04<00:00, 14326.97it/s]\n",
      "Val Loss: 1138.241333:  97%|█████████▋| 9728/10000 [00:00<00:00, 16602.96it/s]\n"
     ]
    },
    {
     "name": "stdout",
     "output_type": "stream",
     "text": [
      "Current validation loss: 1193.2953523334704 -> 1138.2413330078125\n"
     ]
    },
    {
     "name": "stderr",
     "output_type": "stream",
     "text": [
      "Train Epoch 51, Train Loss: 1141.883059: 100%|██████████| 60000/60000 [00:06<00:00, 9554.05it/s] \n",
      "Train Epoch 52, Train Loss: 1137.760827: 100%|██████████| 60000/60000 [00:04<00:00, 13156.25it/s]\n",
      "Train Epoch 53, Train Loss: 1132.809862: 100%|██████████| 60000/60000 [00:03<00:00, 16509.70it/s]\n",
      "Train Epoch 54, Train Loss: 1128.408323: 100%|██████████| 60000/60000 [00:05<00:00, 11536.07it/s]\n",
      "Train Epoch 55, Train Loss: 1124.996922: 100%|██████████| 60000/60000 [00:04<00:00, 14251.55it/s]\n",
      "Train Epoch 56, Train Loss: 1120.691560: 100%|██████████| 60000/60000 [00:04<00:00, 12780.01it/s]\n",
      "Train Epoch 57, Train Loss: 1115.541604: 100%|██████████| 60000/60000 [00:05<00:00, 11455.66it/s]\n",
      "Train Epoch 58, Train Loss: 1112.199972: 100%|██████████| 60000/60000 [00:03<00:00, 16035.71it/s]\n",
      "Train Epoch 59, Train Loss: 1108.439888: 100%|██████████| 60000/60000 [00:06<00:00, 9310.05it/s] \n",
      "Train Epoch 60, Train Loss: 1104.227907: 100%|██████████| 60000/60000 [00:04<00:00, 14921.15it/s]\n",
      "Val Loss: 1101.605173:  97%|█████████▋| 9728/10000 [00:00<00:00, 14718.58it/s]\n"
     ]
    },
    {
     "name": "stdout",
     "output_type": "stream",
     "text": [
      "Current validation loss: 1138.2413330078125 -> 1101.6051732113488\n"
     ]
    },
    {
     "name": "stderr",
     "output_type": "stream",
     "text": [
      "Train Epoch 61, Train Loss: 1100.577015: 100%|██████████| 60000/60000 [00:06<00:00, 9752.59it/s] \n",
      "Train Epoch 62, Train Loss: 1097.180121: 100%|██████████| 60000/60000 [00:03<00:00, 15937.82it/s]\n",
      "Train Epoch 63, Train Loss: 1093.866934: 100%|██████████| 60000/60000 [00:05<00:00, 11404.76it/s]\n",
      "Train Epoch 64, Train Loss: 1090.204798: 100%|██████████| 60000/60000 [00:07<00:00, 8009.29it/s] \n",
      "Train Epoch 65, Train Loss: 1087.015672: 100%|██████████| 60000/60000 [00:04<00:00, 14725.17it/s]\n",
      "Train Epoch 66, Train Loss: 1082.885112: 100%|██████████| 60000/60000 [00:05<00:00, 11104.99it/s]\n",
      "Train Epoch 67, Train Loss: 1080.417146: 100%|██████████| 60000/60000 [00:06<00:00, 9969.98it/s] \n",
      "Train Epoch 68, Train Loss: 1077.240048: 100%|██████████| 60000/60000 [00:04<00:00, 13090.22it/s]\n",
      "Train Epoch 69, Train Loss: 1074.091941: 100%|██████████| 60000/60000 [00:05<00:00, 10119.29it/s]\n",
      "Train Epoch 70, Train Loss: 1070.762883: 100%|██████████| 60000/60000 [00:04<00:00, 14517.30it/s]\n",
      "Val Loss: 1065.961111:  97%|█████████▋| 9728/10000 [00:00<00:00, 12124.20it/s]\n"
     ]
    },
    {
     "name": "stdout",
     "output_type": "stream",
     "text": [
      "Current validation loss: 1101.6051732113488 -> 1065.9611109683387\n"
     ]
    },
    {
     "name": "stderr",
     "output_type": "stream",
     "text": [
      "Train Epoch 71, Train Loss: 1068.673445: 100%|██████████| 60000/60000 [00:07<00:00, 7985.98it/s] \n",
      "Train Epoch 72, Train Loss: 1064.865753: 100%|██████████| 60000/60000 [00:05<00:00, 11856.43it/s]\n",
      "Train Epoch 73, Train Loss: 1062.118792: 100%|██████████| 60000/60000 [00:03<00:00, 16069.24it/s]\n",
      "Train Epoch 74, Train Loss: 1058.667552: 100%|██████████| 60000/60000 [00:05<00:00, 10869.43it/s]\n",
      "Train Epoch 75, Train Loss: 1057.831700: 100%|██████████| 60000/60000 [00:06<00:00, 9325.97it/s] \n",
      "Train Epoch 76, Train Loss: 1054.173680: 100%|██████████| 60000/60000 [00:04<00:00, 14034.68it/s]\n",
      "Train Epoch 77, Train Loss: 1051.706268: 100%|██████████| 60000/60000 [00:05<00:00, 10690.13it/s]\n",
      "Train Epoch 78, Train Loss: 1049.533870: 100%|██████████| 60000/60000 [00:05<00:00, 10614.58it/s]\n",
      "Train Epoch 79, Train Loss: 1047.209603: 100%|██████████| 60000/60000 [00:03<00:00, 16634.18it/s]\n",
      "Train Epoch 80, Train Loss: 1043.622956: 100%|██████████| 60000/60000 [00:05<00:00, 10957.29it/s]\n",
      "Val Loss: 1047.449784:  97%|█████████▋| 9728/10000 [00:00<00:00, 11729.59it/s]\n"
     ]
    },
    {
     "name": "stdout",
     "output_type": "stream",
     "text": [
      "Current validation loss: 1065.9611109683387 -> 1047.4497841282894\n"
     ]
    },
    {
     "name": "stderr",
     "output_type": "stream",
     "text": [
      "Train Epoch 81, Train Loss: 1041.886177: 100%|██████████| 60000/60000 [00:05<00:00, 10389.73it/s]\n",
      "Train Epoch 82, Train Loss: 1039.806931: 100%|██████████| 60000/60000 [00:03<00:00, 17757.59it/s]\n",
      "Train Epoch 83, Train Loss: 1037.359530: 100%|██████████| 60000/60000 [00:05<00:00, 11375.69it/s]\n",
      "Train Epoch 84, Train Loss: 1035.163637: 100%|██████████| 60000/60000 [00:06<00:00, 9394.61it/s] \n",
      "Train Epoch 85, Train Loss: 1031.995326: 100%|██████████| 60000/60000 [00:04<00:00, 12489.30it/s]\n",
      "Train Epoch 86, Train Loss: 1030.408574: 100%|██████████| 60000/60000 [00:04<00:00, 14786.90it/s]\n",
      "Train Epoch 87, Train Loss: 1028.103109: 100%|██████████| 60000/60000 [00:04<00:00, 14537.75it/s]\n",
      "Train Epoch 88, Train Loss: 1025.873881: 100%|██████████| 60000/60000 [00:05<00:00, 10390.22it/s]\n",
      "Train Epoch 89, Train Loss: 1023.834864: 100%|██████████| 60000/60000 [00:04<00:00, 13560.16it/s]\n",
      "Train Epoch 90, Train Loss: 1022.186160: 100%|██████████| 60000/60000 [00:04<00:00, 13614.32it/s]\n",
      "Val Loss: 1025.586365:  97%|█████████▋| 9728/10000 [00:00<00:00, 15683.86it/s]\n"
     ]
    },
    {
     "name": "stdout",
     "output_type": "stream",
     "text": [
      "Current validation loss: 1047.4497841282894 -> 1025.5863647460938\n"
     ]
    },
    {
     "name": "stderr",
     "output_type": "stream",
     "text": [
      "Train Epoch 91, Train Loss: 1020.080032: 100%|██████████| 60000/60000 [00:05<00:00, 10993.12it/s]\n",
      "Train Epoch 92, Train Loss: 1018.586003: 100%|██████████| 60000/60000 [00:04<00:00, 14398.38it/s]\n",
      "Train Epoch 93, Train Loss: 1016.319815: 100%|██████████| 60000/60000 [00:04<00:00, 13747.21it/s]\n",
      "Train Epoch 94, Train Loss: 1013.965253: 100%|██████████| 60000/60000 [00:07<00:00, 7669.80it/s] \n",
      "Train Epoch 95, Train Loss: 1012.470395: 100%|██████████| 60000/60000 [00:03<00:00, 16022.56it/s]\n",
      "Train Epoch 96, Train Loss: 1011.097601: 100%|██████████| 60000/60000 [00:04<00:00, 14134.85it/s]\n",
      "Train Epoch 97, Train Loss: 1009.680516: 100%|██████████| 60000/60000 [00:07<00:00, 8427.95it/s] \n",
      "Train Epoch 98, Train Loss: 1007.315786: 100%|██████████| 60000/60000 [00:04<00:00, 13713.10it/s]\n",
      "Train Epoch 99, Train Loss: 1006.308531: 100%|██████████| 60000/60000 [00:06<00:00, 9331.81it/s] \n",
      "Train Epoch 100, Train Loss: 1003.516980: 100%|██████████| 60000/60000 [00:04<00:00, 14848.87it/s]\n",
      "Val Loss: 1009.222454:  97%|█████████▋| 9728/10000 [00:00<00:00, 20601.90it/s]\n"
     ]
    },
    {
     "name": "stdout",
     "output_type": "stream",
     "text": [
      "Current validation loss: 1025.5863647460938 -> 1009.2224538702714\n"
     ]
    },
    {
     "ename": "AssertionError",
     "evalue": "",
     "output_type": "error",
     "traceback": [
      "\u001b[0;31m---------------------------------------------------------------------------\u001b[0m",
      "\u001b[0;31mAssertionError\u001b[0m                            Traceback (most recent call last)",
      "Cell \u001b[0;32mIn[11], line 4\u001b[0m\n\u001b[1;32m      2\u001b[0m optimizer \u001b[38;5;241m=\u001b[39m torch\u001b[38;5;241m.\u001b[39moptim\u001b[38;5;241m.\u001b[39mAdam(cvae\u001b[38;5;241m.\u001b[39mparameters(), lr\u001b[38;5;241m=\u001b[39m\u001b[38;5;241m8e-5\u001b[39m)\n\u001b[1;32m      3\u001b[0m train(\u001b[38;5;241m100\u001b[39m, cvae, train_loader, val_loader, optimizer, device\u001b[38;5;241m=\u001b[39mdevice, save_interval\u001b[38;5;241m=\u001b[39m\u001b[38;5;241m10\u001b[39m)\n\u001b[0;32m----> 4\u001b[0m \u001b[38;5;28;01massert\u001b[39;00m(\u001b[38;5;28;01mFalse\u001b[39;00m)\n",
      "\u001b[0;31mAssertionError\u001b[0m: "
     ]
    }
   ],
   "source": [
    "# feel free to change training hyper-parameters!\n",
    "optimizer = torch.optim.Adam(cvae.parameters(), lr=8e-5)\n",
    "train(100, cvae, train_loader, val_loader, optimizer, device=device, save_interval=10)"
   ]
  },
  {
   "cell_type": "code",
   "execution_count": 14,
   "id": "a56e74ce",
   "metadata": {},
   "outputs": [
    {
     "name": "stderr",
     "output_type": "stream",
     "text": [
      "  0%|          | 0/60000 [00:00<?, ?it/s]"
     ]
    },
    {
     "name": "stderr",
     "output_type": "stream",
     "text": [
      "Train Epoch 1, Train Loss: 992.882146: 100%|██████████| 60000/60000 [00:03<00:00, 18204.98it/s]\n",
      "Train Epoch 2, Train Loss: 991.388640: 100%|██████████| 60000/60000 [00:03<00:00, 17926.58it/s]\n",
      "Train Epoch 3, Train Loss: 990.322521: 100%|██████████| 60000/60000 [00:04<00:00, 14606.15it/s]\n",
      "Train Epoch 4, Train Loss: 989.280518: 100%|██████████| 60000/60000 [00:05<00:00, 11794.24it/s]\n",
      "Train Epoch 5, Train Loss: 988.928546: 100%|██████████| 60000/60000 [00:03<00:00, 18464.35it/s]\n",
      "Train Epoch 6, Train Loss: 988.182652: 100%|██████████| 60000/60000 [00:03<00:00, 17833.28it/s]\n",
      "Train Epoch 7, Train Loss: 987.418613: 100%|██████████| 60000/60000 [00:04<00:00, 13638.96it/s]\n",
      "Train Epoch 8, Train Loss: 986.725833: 100%|██████████| 60000/60000 [00:03<00:00, 16528.70it/s]\n",
      "Train Epoch 9, Train Loss: 985.592415: 100%|██████████| 60000/60000 [00:04<00:00, 13016.66it/s]\n",
      "Train Epoch 10, Train Loss: 984.971645: 100%|██████████| 60000/60000 [00:04<00:00, 13357.89it/s]\n",
      "Val Loss: 988.119215:  97%|█████████▋| 9728/10000 [00:00<00:00, 15797.77it/s]\n"
     ]
    },
    {
     "name": "stdout",
     "output_type": "stream",
     "text": [
      "Current validation loss: inf -> 988.1192145096628\n"
     ]
    },
    {
     "name": "stderr",
     "output_type": "stream",
     "text": [
      "Train Epoch 11, Train Loss: 983.900752: 100%|██████████| 60000/60000 [00:05<00:00, 11850.90it/s]\n",
      "Train Epoch 12, Train Loss: 983.692804: 100%|██████████| 60000/60000 [00:03<00:00, 18880.91it/s]\n",
      "Train Epoch 13, Train Loss: 982.754535: 100%|██████████| 60000/60000 [00:06<00:00, 9598.14it/s] \n",
      "Train Epoch 14, Train Loss: 982.402193: 100%|██████████| 60000/60000 [00:04<00:00, 12650.06it/s]\n",
      "Train Epoch 15, Train Loss: 981.450879: 100%|██████████| 60000/60000 [00:04<00:00, 13705.33it/s]\n",
      "Train Epoch 16, Train Loss: 980.953431: 100%|██████████| 60000/60000 [00:06<00:00, 9334.48it/s] \n",
      "Train Epoch 17, Train Loss: 980.115353: 100%|██████████| 60000/60000 [00:03<00:00, 15028.91it/s]\n",
      "Train Epoch 18, Train Loss: 979.425707: 100%|██████████| 60000/60000 [00:07<00:00, 7593.38it/s]\n",
      "Train Epoch 19, Train Loss: 978.426470: 100%|██████████| 60000/60000 [00:05<00:00, 10849.86it/s]\n",
      "Train Epoch 20, Train Loss: 978.130901: 100%|██████████| 60000/60000 [00:03<00:00, 16500.40it/s]\n",
      "Val Loss: 982.415900:  97%|█████████▋| 9728/10000 [00:00<00:00, 15817.04it/s]\n"
     ]
    },
    {
     "name": "stdout",
     "output_type": "stream",
     "text": [
      "Current validation loss: 988.1192145096628 -> 982.4158999794408\n"
     ]
    },
    {
     "name": "stderr",
     "output_type": "stream",
     "text": [
      "Train Epoch 21, Train Loss: 976.911860: 100%|██████████| 60000/60000 [00:05<00:00, 10956.25it/s]\n",
      "Train Epoch 22, Train Loss: 977.444968: 100%|██████████| 60000/60000 [00:05<00:00, 10877.93it/s]\n",
      "Train Epoch 23, Train Loss: 976.079577: 100%|██████████| 60000/60000 [00:04<00:00, 12397.82it/s]\n",
      "Train Epoch 24, Train Loss: 975.833160: 100%|██████████| 60000/60000 [00:04<00:00, 13521.98it/s]\n",
      "Train Epoch 25, Train Loss: 974.873677: 100%|██████████| 60000/60000 [00:04<00:00, 12895.53it/s]\n",
      "Train Epoch 26, Train Loss: 974.302827: 100%|██████████| 60000/60000 [00:03<00:00, 17095.30it/s]\n",
      "Train Epoch 27, Train Loss: 974.072018: 100%|██████████| 60000/60000 [00:03<00:00, 15043.10it/s]\n",
      "Train Epoch 28, Train Loss: 972.838562: 100%|██████████| 60000/60000 [00:05<00:00, 10275.81it/s]\n",
      "Train Epoch 29, Train Loss: 973.070837: 100%|██████████| 60000/60000 [00:06<00:00, 9939.43it/s] \n",
      "Train Epoch 30, Train Loss: 971.809482: 100%|██████████| 60000/60000 [00:04<00:00, 12178.75it/s]\n",
      "Val Loss: 975.300643:  97%|█████████▋| 9728/10000 [00:00<00:00, 11990.69it/s]\n"
     ]
    },
    {
     "name": "stdout",
     "output_type": "stream",
     "text": [
      "Current validation loss: 982.4158999794408 -> 975.3006431178043\n"
     ]
    },
    {
     "name": "stderr",
     "output_type": "stream",
     "text": [
      "Train Epoch 31, Train Loss: 971.735866: 100%|██████████| 60000/60000 [00:06<00:00, 9698.52it/s] \n",
      "Train Epoch 32, Train Loss: 971.319802: 100%|██████████| 60000/60000 [00:04<00:00, 13090.72it/s]\n",
      "Train Epoch 33, Train Loss: 969.916229: 100%|██████████| 60000/60000 [00:05<00:00, 10327.63it/s]\n",
      "Train Epoch 34, Train Loss: 969.522065: 100%|██████████| 60000/60000 [00:03<00:00, 15382.48it/s]\n",
      "Train Epoch 35, Train Loss: 969.246085: 100%|██████████| 60000/60000 [00:05<00:00, 11219.46it/s]\n",
      "Train Epoch 36, Train Loss: 968.218144: 100%|██████████| 60000/60000 [00:06<00:00, 9443.70it/s] \n",
      "Train Epoch 37, Train Loss: 968.395707: 100%|██████████| 60000/60000 [00:05<00:00, 11648.49it/s]\n",
      "Train Epoch 38, Train Loss: 967.474003: 100%|██████████| 60000/60000 [00:04<00:00, 13742.25it/s]\n",
      "Train Epoch 39, Train Loss: 967.347338: 100%|██████████| 60000/60000 [00:04<00:00, 14447.35it/s]\n",
      "Train Epoch 40, Train Loss: 966.183055: 100%|██████████| 60000/60000 [00:05<00:00, 10249.81it/s]\n",
      "Val Loss: 972.150917:  97%|█████████▋| 9728/10000 [00:00<00:00, 21251.03it/s]\n"
     ]
    },
    {
     "name": "stdout",
     "output_type": "stream",
     "text": [
      "Current validation loss: 975.3006431178043 -> 972.1509174547697\n"
     ]
    },
    {
     "name": "stderr",
     "output_type": "stream",
     "text": [
      "Train Epoch 41, Train Loss: 965.306302: 100%|██████████| 60000/60000 [00:03<00:00, 17256.05it/s]\n",
      "Train Epoch 42, Train Loss: 965.013848: 100%|██████████| 60000/60000 [00:06<00:00, 9120.31it/s] \n",
      "Train Epoch 43, Train Loss: 964.378775: 100%|██████████| 60000/60000 [00:04<00:00, 14387.99it/s]\n",
      "Train Epoch 44, Train Loss: 964.221417: 100%|██████████| 60000/60000 [00:05<00:00, 11213.76it/s]\n",
      "Train Epoch 45, Train Loss: 963.405360: 100%|██████████| 60000/60000 [00:05<00:00, 10572.00it/s]\n",
      "Train Epoch 46, Train Loss: 962.555474: 100%|██████████| 60000/60000 [00:04<00:00, 12517.94it/s]\n",
      "Train Epoch 47, Train Loss: 961.832330: 100%|██████████| 60000/60000 [00:05<00:00, 10656.65it/s]\n",
      "Train Epoch 48, Train Loss: 961.617167: 100%|██████████| 60000/60000 [00:03<00:00, 17313.16it/s]\n",
      "Train Epoch 49, Train Loss: 961.300521: 100%|██████████| 60000/60000 [00:04<00:00, 12069.41it/s]\n",
      "Train Epoch 50, Train Loss: 960.786788: 100%|██████████| 60000/60000 [00:04<00:00, 13968.79it/s]\n",
      "Val Loss: 965.915065:  97%|█████████▋| 9728/10000 [00:00<00:00, 21224.29it/s]\n"
     ]
    },
    {
     "name": "stdout",
     "output_type": "stream",
     "text": [
      "Current validation loss: 972.1509174547697 -> 965.9150647615131\n"
     ]
    },
    {
     "name": "stderr",
     "output_type": "stream",
     "text": [
      "Train Epoch 51, Train Loss: 959.835894: 100%|██████████| 60000/60000 [00:03<00:00, 15548.41it/s]\n",
      "Train Epoch 52, Train Loss: 960.150382: 100%|██████████| 60000/60000 [00:06<00:00, 8735.85it/s] \n",
      "Train Epoch 53, Train Loss: 959.389739: 100%|██████████| 60000/60000 [00:04<00:00, 14364.94it/s]\n",
      "Train Epoch 54, Train Loss: 958.716382: 100%|██████████| 60000/60000 [00:05<00:00, 10460.44it/s]\n",
      "Train Epoch 55, Train Loss: 957.618286: 100%|██████████| 60000/60000 [00:04<00:00, 14537.51it/s]\n",
      "Train Epoch 56, Train Loss: 957.280425: 100%|██████████| 60000/60000 [00:06<00:00, 9490.60it/s] \n",
      "Train Epoch 57, Train Loss: 956.828617: 100%|██████████| 60000/60000 [00:07<00:00, 8097.99it/s] \n",
      "Train Epoch 58, Train Loss: 956.700432: 100%|██████████| 60000/60000 [00:03<00:00, 15685.26it/s]\n",
      "Train Epoch 59, Train Loss: 955.585440: 100%|██████████| 60000/60000 [00:05<00:00, 10954.04it/s]\n",
      "Train Epoch 60, Train Loss: 955.489056: 100%|██████████| 60000/60000 [00:06<00:00, 9402.12it/s] \n",
      "Val Loss: 962.546612:  97%|█████████▋| 9728/10000 [00:00<00:00, 12436.62it/s]\n"
     ]
    },
    {
     "name": "stdout",
     "output_type": "stream",
     "text": [
      "Current validation loss: 965.9150647615131 -> 962.5466115851151\n"
     ]
    },
    {
     "name": "stderr",
     "output_type": "stream",
     "text": [
      "Train Epoch 61, Train Loss: 955.003221: 100%|██████████| 60000/60000 [00:05<00:00, 11947.53it/s]\n",
      "Train Epoch 62, Train Loss: 953.325624: 100%|██████████| 60000/60000 [00:04<00:00, 13487.05it/s]\n",
      "Train Epoch 63, Train Loss: 953.780888: 100%|██████████| 60000/60000 [00:06<00:00, 9052.35it/s] \n",
      "Train Epoch 64, Train Loss: 953.375255: 100%|██████████| 60000/60000 [00:03<00:00, 15319.42it/s]\n",
      "Train Epoch 65, Train Loss: 952.861059: 100%|██████████| 60000/60000 [00:06<00:00, 8865.37it/s] \n",
      "Train Epoch 66, Train Loss: 952.642549: 100%|██████████| 60000/60000 [00:03<00:00, 16037.48it/s]\n",
      "Train Epoch 67, Train Loss: 952.179705: 100%|██████████| 60000/60000 [00:04<00:00, 12020.51it/s]\n",
      "Train Epoch 68, Train Loss: 951.094559: 100%|██████████| 60000/60000 [00:05<00:00, 10122.55it/s]\n",
      "Train Epoch 69, Train Loss: 951.267446: 100%|██████████| 60000/60000 [00:04<00:00, 13141.76it/s]\n",
      "Train Epoch 70, Train Loss: 950.622833: 100%|██████████| 60000/60000 [00:06<00:00, 9407.37it/s] \n",
      "Val Loss: 956.306364:  97%|█████████▋| 9728/10000 [00:01<00:00, 7682.25it/s]\n"
     ]
    },
    {
     "name": "stdout",
     "output_type": "stream",
     "text": [
      "Current validation loss: 962.5466115851151 -> 956.3063643606085\n"
     ]
    },
    {
     "name": "stderr",
     "output_type": "stream",
     "text": [
      "Train Epoch 71, Train Loss: 949.742254: 100%|██████████| 60000/60000 [00:05<00:00, 11539.85it/s]\n",
      "Train Epoch 72, Train Loss: 949.964756: 100%|██████████| 60000/60000 [00:04<00:00, 13181.32it/s]\n",
      "Train Epoch 73, Train Loss: 949.201678: 100%|██████████| 60000/60000 [00:07<00:00, 8146.44it/s] \n",
      "Train Epoch 74, Train Loss: 948.430309: 100%|██████████| 60000/60000 [00:04<00:00, 13986.00it/s]\n",
      "Train Epoch 75, Train Loss: 948.444756: 100%|██████████| 60000/60000 [00:05<00:00, 11359.25it/s]\n",
      "Train Epoch 76, Train Loss: 947.319731: 100%|██████████| 60000/60000 [00:05<00:00, 11673.93it/s]\n",
      "Train Epoch 77, Train Loss: 946.819776: 100%|██████████| 60000/60000 [00:04<00:00, 13410.35it/s]\n",
      "Train Epoch 78, Train Loss: 946.755318: 100%|██████████| 60000/60000 [00:05<00:00, 10432.20it/s]\n",
      "Train Epoch 79, Train Loss: 946.562057: 100%|██████████| 60000/60000 [00:05<00:00, 11412.52it/s]\n",
      "Train Epoch 80, Train Loss: 945.978368: 100%|██████████| 60000/60000 [00:03<00:00, 15188.74it/s]\n",
      "Val Loss: 954.229743:  97%|█████████▋| 9728/10000 [00:01<00:00, 9538.29it/s]\n"
     ]
    },
    {
     "name": "stdout",
     "output_type": "stream",
     "text": [
      "Current validation loss: 956.3063643606085 -> 954.2297427528783\n"
     ]
    },
    {
     "name": "stderr",
     "output_type": "stream",
     "text": [
      "Train Epoch 81, Train Loss: 945.403410: 100%|██████████| 60000/60000 [00:06<00:00, 9780.09it/s] \n",
      "Train Epoch 82, Train Loss: 944.746564: 100%|██████████| 60000/60000 [00:04<00:00, 12646.97it/s]\n",
      "Train Epoch 83, Train Loss: 945.172740: 100%|██████████| 60000/60000 [00:03<00:00, 15090.70it/s]\n",
      "Train Epoch 84, Train Loss: 943.704955: 100%|██████████| 60000/60000 [00:05<00:00, 11597.74it/s]\n",
      "Train Epoch 85, Train Loss: 943.833543: 100%|██████████| 60000/60000 [00:05<00:00, 10456.10it/s]\n",
      "Train Epoch 86, Train Loss: 943.642475: 100%|██████████| 60000/60000 [00:05<00:00, 10280.96it/s]\n",
      "Train Epoch 87, Train Loss: 942.972155: 100%|██████████| 60000/60000 [00:04<00:00, 14759.29it/s]\n",
      "Train Epoch 88, Train Loss: 941.493838: 100%|██████████| 60000/60000 [00:04<00:00, 14670.92it/s]\n",
      "Train Epoch 89, Train Loss: 941.381591: 100%|██████████| 60000/60000 [00:06<00:00, 9623.86it/s] \n",
      "Train Epoch 90, Train Loss: 941.441649: 100%|██████████| 60000/60000 [00:04<00:00, 12758.96it/s]\n",
      "Val Loss: 949.677580:  97%|█████████▋| 9728/10000 [00:00<00:00, 18548.75it/s]\n"
     ]
    },
    {
     "name": "stdout",
     "output_type": "stream",
     "text": [
      "Current validation loss: 954.2297427528783 -> 949.677580180921\n"
     ]
    },
    {
     "name": "stderr",
     "output_type": "stream",
     "text": [
      "Train Epoch 91, Train Loss: 940.935306: 100%|██████████| 60000/60000 [00:04<00:00, 12170.14it/s]\n",
      "Train Epoch 92, Train Loss: 940.212450: 100%|██████████| 60000/60000 [00:04<00:00, 12460.60it/s]\n",
      "Train Epoch 93, Train Loss: 940.474492: 100%|██████████| 60000/60000 [00:03<00:00, 16480.79it/s]\n",
      "Train Epoch 94, Train Loss: 939.698784: 100%|██████████| 60000/60000 [00:05<00:00, 11783.61it/s]\n",
      "Train Epoch 95, Train Loss: 939.318464: 100%|██████████| 60000/60000 [00:05<00:00, 11535.26it/s]\n",
      "Train Epoch 96, Train Loss: 938.922850: 100%|██████████| 60000/60000 [00:04<00:00, 13575.79it/s]\n",
      "Train Epoch 97, Train Loss: 938.518180: 100%|██████████| 60000/60000 [00:05<00:00, 11691.08it/s]\n",
      "Train Epoch 98, Train Loss: 938.341879: 100%|██████████| 60000/60000 [00:05<00:00, 10656.87it/s]\n",
      "Train Epoch 99, Train Loss: 937.000940: 100%|██████████| 60000/60000 [00:04<00:00, 13561.44it/s]\n",
      "Train Epoch 100, Train Loss: 937.486616: 100%|██████████| 60000/60000 [00:05<00:00, 11528.29it/s]\n",
      "Val Loss: 944.314582:  97%|█████████▋| 9728/10000 [00:00<00:00, 15378.77it/s]\n"
     ]
    },
    {
     "name": "stdout",
     "output_type": "stream",
     "text": [
      "Current validation loss: 949.677580180921 -> 944.3145816200658\n"
     ]
    },
    {
     "ename": "AssertionError",
     "evalue": "",
     "output_type": "error",
     "traceback": [
      "\u001b[0;31m---------------------------------------------------------------------------\u001b[0m",
      "\u001b[0;31mAssertionError\u001b[0m                            Traceback (most recent call last)",
      "Cell \u001b[0;32mIn[14], line 3\u001b[0m\n\u001b[1;32m      1\u001b[0m optimizer \u001b[38;5;241m=\u001b[39m torch\u001b[38;5;241m.\u001b[39moptim\u001b[38;5;241m.\u001b[39mAdam(cvae\u001b[38;5;241m.\u001b[39mparameters(), lr\u001b[38;5;241m=\u001b[39m\u001b[38;5;241m3e-5\u001b[39m)\n\u001b[1;32m      2\u001b[0m train(\u001b[38;5;241m100\u001b[39m, cvae, train_loader, val_loader, optimizer, device\u001b[38;5;241m=\u001b[39mdevice, save_interval\u001b[38;5;241m=\u001b[39m\u001b[38;5;241m10\u001b[39m)\n\u001b[0;32m----> 3\u001b[0m \u001b[38;5;28;01massert\u001b[39;00m(\u001b[38;5;28;01mFalse\u001b[39;00m)\n",
      "\u001b[0;31mAssertionError\u001b[0m: "
     ]
    }
   ],
   "source": [
    "optimizer = torch.optim.Adam(cvae.parameters(), lr=3e-5)\n",
    "train(100, cvae, train_loader, val_loader, optimizer, device=device, save_interval=10)"
   ]
  },
  {
   "cell_type": "code",
   "execution_count": null,
   "id": "2b3c2cc1",
   "metadata": {},
   "outputs": [],
   "source": [
    "optimizer = torch.optim.Adam(cvae.parameters(), lr=1e-5)\n",
    "train(100, cvae, train_loader, val_loader, optimizer, device=device, save_interval=10)"
   ]
  },
  {
   "cell_type": "code",
   "execution_count": null,
   "id": "59b085d0",
   "metadata": {},
   "outputs": [],
   "source": [
    "optimizer = torch.optim.Adam(cvae.parameters(), lr=8e-6)\n",
    "train(100, cvae, train_loader, val_loader, optimizer, device=device, save_interval=10)"
   ]
  },
  {
   "cell_type": "code",
   "execution_count": null,
   "id": "52f5c34e",
   "metadata": {},
   "outputs": [],
   "source": [
    "optimizer = torch.optim.Adam(cvae.parameters(), lr=5e-6)\n",
    "train(100, cvae, train_loader, val_loader, optimizer, device=device, save_interval=10)"
   ]
  },
  {
   "cell_type": "code",
   "execution_count": null,
   "id": "9a2e06f1",
   "metadata": {},
   "outputs": [],
   "source": [
    "optimizer = torch.optim.Adam(cvae.parameters(), lr=3e-6)\n",
    "train(100, cvae, train_loader, val_loader, optimizer, device=device, save_interval=10)"
   ]
  },
  {
   "cell_type": "code",
   "execution_count": null,
   "id": "3aea0852",
   "metadata": {},
   "outputs": [],
   "source": [
    "cvae.load_state_dict(load_model('./vae/100/vae.pth')[0])\n",
    "optimizer = torch.optim.Adam(cvae.parameters(), lr=1e-6,weight_decay=2e-5)\n",
    "train(100, cvae, train_loader, val_loader, optimizer, device=device, save_interval=10)"
   ]
  },
  {
   "cell_type": "code",
   "execution_count": null,
   "id": "67f5ffa6",
   "metadata": {},
   "outputs": [
    {
     "ename": "AssertionError",
     "evalue": "",
     "output_type": "error",
     "traceback": [
      "\u001b[0;31m---------------------------------------------------------------------------\u001b[0m",
      "\u001b[0;31mAssertionError\u001b[0m                            Traceback (most recent call last)",
      "Cell \u001b[0;32mIn[15], line 1\u001b[0m\n\u001b[0;32m----> 1\u001b[0m \u001b[38;5;28;01massert\u001b[39;00m(\u001b[38;5;28;01mFalse\u001b[39;00m)\n\u001b[1;32m      2\u001b[0m train(\u001b[38;5;241m1\u001b[39m, cvae, train_loader, val_loader, optimizer, device\u001b[38;5;241m=\u001b[39mdevice, save_interval\u001b[38;5;241m=\u001b[39m\u001b[38;5;241m10\u001b[39m)\n",
      "\u001b[0;31mAssertionError\u001b[0m: "
     ]
    }
   ],
   "source": [
    "train(1, cvae, train_loader, val_loader, optimizer, device=device, save_interval=10)"
   ]
  },
  {
   "cell_type": "markdown",
   "id": "0855408b",
   "metadata": {
    "deletable": false,
    "editable": false,
    "id": "0855408b",
    "nbgrader": {
     "cell_type": "markdown",
     "checksum": "14e2df23954d25097e6abd8aa949ba59",
     "grade": false,
     "grade_id": "cell-b2a25a74aeb23f85",
     "locked": true,
     "schema_version": 3,
     "solution": false,
     "task": false
    }
   },
   "source": [
    "## Evaluation\n",
    "\n",
    "Make sure your code runs fine with the following cells!"
   ]
  },
  {
   "cell_type": "code",
   "execution_count": 13,
   "id": "6fb47c68",
   "metadata": {},
   "outputs": [
    {
     "data": {
      "text/plain": [
       "CVAE(\n",
       "  (q_image_fc): Sequential(\n",
       "    (0): Flatten(start_dim=1, end_dim=-1)\n",
       "    (1): Linear(in_features=784, out_features=256, bias=True)\n",
       "    (2): ReLU()\n",
       "  )\n",
       "  (q_label_fc): Sequential(\n",
       "    (0): Linear(in_features=10, out_features=64, bias=True)\n",
       "    (1): ReLU()\n",
       "  )\n",
       "  (q_mu): Sequential(\n",
       "    (0): Linear(in_features=320, out_features=512, bias=True)\n",
       "    (1): ReLU()\n",
       "    (2): Linear(in_features=512, out_features=512, bias=True)\n",
       "    (3): ReLU()\n",
       "    (4): Linear(in_features=512, out_features=512, bias=True)\n",
       "    (5): ReLU()\n",
       "    (6): Linear(in_features=512, out_features=100, bias=True)\n",
       "    (7): ReLU()\n",
       "  )\n",
       "  (q_sigma): Sequential(\n",
       "    (0): Linear(in_features=320, out_features=512, bias=True)\n",
       "    (1): ReLU()\n",
       "    (2): Linear(in_features=512, out_features=512, bias=True)\n",
       "    (3): ReLU()\n",
       "    (4): Linear(in_features=512, out_features=512, bias=True)\n",
       "    (5): ReLU()\n",
       "    (6): Linear(in_features=512, out_features=100, bias=True)\n",
       "    (7): ReLU()\n",
       "  )\n",
       "  (p_latent_fc): Sequential(\n",
       "    (0): Flatten(start_dim=1, end_dim=-1)\n",
       "    (1): Linear(in_features=100, out_features=256, bias=True)\n",
       "    (2): ReLU()\n",
       "  )\n",
       "  (p_label_fc): Sequential(\n",
       "    (0): Linear(in_features=10, out_features=64, bias=True)\n",
       "    (1): ReLU()\n",
       "  )\n",
       "  (p_fij): Sequential(\n",
       "    (0): Linear(in_features=320, out_features=512, bias=True)\n",
       "    (1): ReLU()\n",
       "    (2): Linear(in_features=512, out_features=1024, bias=True)\n",
       "    (3): ReLU()\n",
       "    (4): Linear(in_features=1024, out_features=512, bias=True)\n",
       "    (5): ReLU()\n",
       "    (6): Linear(in_features=512, out_features=784, bias=True)\n",
       "  )\n",
       ")"
      ]
     },
     "execution_count": 13,
     "metadata": {},
     "output_type": "execute_result"
    }
   ],
   "source": [
    "cvae.cuda()"
   ]
  },
  {
   "cell_type": "code",
   "execution_count": 14,
   "id": "baf9adcd",
   "metadata": {
    "deletable": false,
    "editable": false,
    "nbgrader": {
     "cell_type": "code",
     "checksum": "fde2594d4b9784d93be6dba2a6256346",
     "grade": false,
     "grade_id": "cell-c589aa5203854893",
     "locked": true,
     "schema_version": 3,
     "solution": false,
     "task": false
    }
   },
   "outputs": [],
   "source": [
    "# collect model-generated samples\n",
    "cvae.load_state_dict(load_model('./vae/vae_best.pth')[0])\n",
    "cvae.make_dataset(n_samples_per_class=100)"
   ]
  },
  {
   "cell_type": "code",
   "execution_count": 16,
   "id": "492ce594",
   "metadata": {},
   "outputs": [
    {
     "name": "stdout",
     "output_type": "stream",
     "text": [
      "Standard deviation of number 0: 0.04455895349383354\n",
      "Standard deviation of number 1: 0.026823054999113083\n",
      "Standard deviation of number 2: 0.051463156938552856\n",
      "Standard deviation of number 3: 0.04539191722869873\n",
      "Standard deviation of number 4: 0.040382642298936844\n",
      "Standard deviation of number 5: 0.04383436590433121\n",
      "Standard deviation of number 6: 0.04418477043509483\n",
      "Standard deviation of number 7: 0.037287671118974686\n",
      "Standard deviation of number 8: 0.04840046912431717\n",
      "Standard deviation of number 9: 0.04168086126446724\n"
     ]
    }
   ],
   "source": [
    "@torch.no_grad()\n",
    "def make_dataset(self, n_samples_per_class=10, save=True, save_dir='./vae/generated/'):\n",
    "    self.eval()\n",
    "    device = next(self.parameters()).device\n",
    "    for i in range(self.label_size):\n",
    "        label = torch.zeros(n_samples_per_class, self.label_size, device=device)\n",
    "        label[:, i] = 1\n",
    "        samples = self.decode(torch.randn(\n",
    "            n_samples_per_class, self.latent_size).to(device), label)\n",
    "        imgs = samples.view(n_samples_per_class, 1, 28, 28).clamp(0., 1.)\n",
    "        print(f\"Standard deviation of number {i}: {torch.std(imgs, dim=0).mean().item()}\")\n",
    "        if save:\n",
    "            os.makedirs(os.path.join(save_dir, str(i)), exist_ok=True)\n",
    "            for j in range(n_samples_per_class):\n",
    "                torchvision.utils.save_image(imgs[j], os.path.join(save_dir, str(i), \"{}_{:>03d}.png\".format(i, j)))\n",
    "make_dataset(cvae,n_samples_per_class=100)"
   ]
  },
  {
   "cell_type": "code",
   "execution_count": 16,
   "id": "50ab5f99",
   "metadata": {
    "deletable": false,
    "editable": false,
    "id": "50ab5f99",
    "nbgrader": {
     "cell_type": "code",
     "checksum": "203909f47398d9909818a2caf9c15dc2",
     "grade": false,
     "grade_id": "cell-2b3416223f0c4c34",
     "locked": true,
     "schema_version": 3,
     "solution": false,
     "task": false
    }
   },
   "outputs": [
    {
     "name": "stdout",
     "output_type": "stream",
     "text": [
      "/home/zhh/anaconda3/envs/DYY/lib/python3.11/site-packages/torchvision/models/_utils.py:208: UserWarning: The parameter 'pretrained' is deprecated since 0.13 and may be removed in the future, please use 'weights' instead.\n",
      "  warnings.warn(\n",
      "/home/zhh/anaconda3/envs/DYY/lib/python3.11/site-packages/torchvision/models/_utils.py:223: UserWarning: Arguments other than a weight enum or `None` for 'weights' are deprecated since 0.13 and may be removed in the future. The current behavior is equivalent to passing `weights=Inception_V3_Weights.IMAGENET1K_V1`. You can also use `weights=Inception_V3_Weights.DEFAULT` to get the most up-to-date weights.\n",
      "  warnings.warn(msg)\n",
      "100%|███████████████████████████████████████████| 10/10 [01:45<00:00, 10.55s/it]\n",
      "FID score for 10 classes: [12.125177 11.195983 20.237507 14.085432 27.715439 20.74887  13.957069\n",
      " 22.50258  27.213556 12.610439]\n"
     ]
    }
   ],
   "source": [
    "# run evaluation\n",
    "!python evaluate_cgen.py --vae"
   ]
  }
 ],
 "metadata": {
  "colab": {
   "provenance": []
  },
  "kernelspec": {
   "display_name": "Python 3 (ipykernel)",
   "language": "python",
   "name": "python3"
  },
  "language_info": {
   "codemirror_mode": {
    "name": "ipython",
    "version": 3
   },
   "file_extension": ".py",
   "mimetype": "text/x-python",
   "name": "python",
   "nbconvert_exporter": "python",
   "pygments_lexer": "ipython3",
   "version": "3.11.0"
  },
  "toc": {
   "base_numbering": 1,
   "nav_menu": {},
   "number_sections": false,
   "sideBar": true,
   "skip_h1_title": false,
   "title_cell": "Table of Contents",
   "title_sidebar": "Contents",
   "toc_cell": false,
   "toc_position": {},
   "toc_section_display": true,
   "toc_window_display": false
  }
 },
 "nbformat": 4,
 "nbformat_minor": 5
}
