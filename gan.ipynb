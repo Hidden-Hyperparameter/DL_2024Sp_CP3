{
 "cells": [
  {
   "cell_type": "markdown",
   "id": "d7a1c051",
   "metadata": {},
   "source": [
    "---"
   ]
  },
  {
   "cell_type": "markdown",
   "id": "718d6fe6",
   "metadata": {
    "deletable": false,
    "editable": false,
    "nbgrader": {
     "cell_type": "markdown",
     "checksum": "dfaee0020ef966073ca58cf048262574",
     "grade": false,
     "grade_id": "cell-9c430af5d8d383e0",
     "locked": true,
     "schema_version": 3,
     "solution": false,
     "task": false
    }
   },
   "source": [
    "## Deep Learning Coding Project 3-4: Generative Adversarial Network\n",
    "\n",
    "Before we start, please put your **Chinese** name and student ID in following format:\n",
    "\n",
    "Name, 0000000000 // e.g.) 傅炜, 2021123123"
   ]
  },
  {
   "cell_type": "markdown",
   "id": "e85b760d",
   "metadata": {
    "deletable": false,
    "nbgrader": {
     "cell_type": "markdown",
     "checksum": "e30c80977fd0505d51c0f3fff9f44141",
     "grade": true,
     "grade_id": "name-and-id",
     "locked": false,
     "points": 0,
     "schema_version": 3,
     "solution": true,
     "task": false
    }
   },
   "source": [
    "YOUR ANSWER HERE"
   ]
  },
  {
   "cell_type": "markdown",
   "id": "ef99bd7a",
   "metadata": {
    "deletable": false,
    "editable": false,
    "nbgrader": {
     "cell_type": "markdown",
     "checksum": "402558f435a5548c81ffbea1d7270c76",
     "grade": false,
     "grade_id": "cell-140b078480df53e1",
     "locked": true,
     "schema_version": 3,
     "solution": false,
     "task": false
    }
   },
   "source": [
    "## Introduction\n",
    "\n",
    "We will use Python 3, [NumPy](https://numpy.org/), and [PyTorch](https://pytorch.org/) packages for implementation. This notebook has been tested under the latest stable release version.\n",
    "\n",
    "In this coding project, you will implement 4 generative models, i.e., energy-based model, flow-based model, variational auto-encoder, and generative adverserial network, to generate MNIST images.\n",
    "\n",
    "**We will implement a generative adversarial network, specifically a [Deep Convolutional Generative Adversarial Network](https://arxiv.org/abs/1511.06434) (DCGAN), in this notebook.**"
   ]
  },
  {
   "cell_type": "markdown",
   "id": "455cd281",
   "metadata": {
    "deletable": false,
    "editable": false,
    "nbgrader": {
     "cell_type": "markdown",
     "checksum": "d53ead84771a754bb0c551fa3317688e",
     "grade": false,
     "grade_id": "cell-ffacdab926dcdef6",
     "locked": true,
     "schema_version": 3,
     "solution": false,
     "task": false
    }
   },
   "source": [
    "In some cells and files you will see code blocks that look like this:\n",
    "\n",
    "```Python\n",
    "##############################################################################\n",
    "#                  TODO: You need to complete the code here                  #\n",
    "##############################################################################\n",
    "raise NotImplementedError()\n",
    "##############################################################################\n",
    "#                              END OF YOUR CODE                              #\n",
    "##############################################################################\n",
    "```\n",
    "\n",
    "You should replace `raise NotImplementedError()` with your own implementation based on the context, such as:\n",
    "\n",
    "```Python\n",
    "##############################################################################\n",
    "#                  TODO: You need to complete the code here                  #\n",
    "##############################################################################\n",
    "y = w * x + b\n",
    "##############################################################################\n",
    "#                              END OF YOUR CODE                              #\n",
    "##############################################################################\n",
    "\n",
    "```\n",
    "\n",
    "When completing the notebook, please adhere to the following rules:\n",
    "\n",
    "+ Do not write or modify any code outside of code blocks\n",
    "+ Do not add or delete any cells from the notebook.\n",
    "+ Run all cells before submission. We will not re-run the entire codebook during grading.\n",
    "\n",
    "**Finally, avoid plagiarism! Any student who violates academic integrity will be seriously dealt with and receive an F for the course.**"
   ]
  },
  {
   "cell_type": "markdown",
   "id": "17c3bbf1",
   "metadata": {
    "deletable": false,
    "editable": false,
    "nbgrader": {
     "cell_type": "markdown",
     "checksum": "95fb37518bcac0b504f0e33514d32f56",
     "grade": false,
     "grade_id": "cell-599bd6afccb34d60",
     "locked": true,
     "schema_version": 3,
     "solution": false,
     "task": false
    }
   },
   "source": [
    "### Task\n",
    "\n",
    "In this problem, you need to do class-conditioned generation on MNIST images by training a DCGAN. You should\n",
    "\n",
    "1. **Complete the code of the generator $G : (z, y) → x$ and the discriminator $D : (x, y) → [0, 1]$.**\n",
    "\n",
    "Both of them should be **fully convolutional networks (FCNs)** except for linear projection heads. For FCN, please refer to [this paper](https://arxiv.org/pdf/1411.4038.pdf) for details.\n",
    "\n",
    "2. **Implement the training procedure.**\n",
    "\n",
    "3. **Include necessary tricks applied in [DCGAN](https://arxiv.org/pdf/1511.06434.pdf).**\n",
    "\n",
    "We present an example of generated images using DCGAN in the following cell."
   ]
  },
  {
   "cell_type": "code",
   "execution_count": 12,
   "id": "646d3387",
   "metadata": {
    "deletable": false,
    "editable": false,
    "nbgrader": {
     "cell_type": "code",
     "checksum": "72f819efa5ea54c7477890fde5263cbe",
     "grade": false,
     "grade_id": "cell-0cf7ad287c5ff88c",
     "locked": true,
     "schema_version": 3,
     "solution": false,
     "task": false
    }
   },
   "outputs": [
    {
     "data": {
      "text/plain": [
       "<matplotlib.image.AxesImage at 0x7f5a01bd7390>"
      ]
     },
     "execution_count": 12,
     "metadata": {},
     "output_type": "execute_result"
    },
    {
     "data": {
      "image/png": "[encoded data removed]",
      "text/plain": [
       "<Figure size 600x400 with 1 Axes>"
      ]
     },
     "metadata": {},
     "output_type": "display_data"
    }
   ],
   "source": [
    "import matplotlib.pyplot as plt\n",
    "import matplotlib.image as mpimg\n",
    "from matplotlib import rcParams\n",
    "\n",
    "%matplotlib inline\n",
    "\n",
    "# figure size in inches optional\n",
    "rcParams['figure.figsize'] = 6, 4\n",
    "plt.imshow(mpimg.imread('./gan/sample.png'))"
   ]
  },
  {
   "cell_type": "markdown",
   "id": "aaa645f3",
   "metadata": {
    "deletable": false,
    "editable": false,
    "nbgrader": {
     "cell_type": "markdown",
     "checksum": "c1b96093aa929a6b45a69e6bafbd70d9",
     "grade": false,
     "grade_id": "cell-53585dd2f2b21500",
     "locked": true,
     "schema_version": 3,
     "solution": false,
     "task": false
    }
   },
   "source": [
    "### Submission\n",
    "\n",
    "You need to submit your code (this notebook), your trained **generator** (named `./gan/gan_best.pth`), your generated images, and your report:\n",
    "\n",
    "+ **Code**\n",
    "\n",
    "Remember to run all the cells before submission. Remain your tuned hyperparameters unchanged.\n",
    "\n",
    "+ **Generator**\n",
    "\n",
    "In this notebook, we do not include codes to find the best model like the previous ones. You need to visualize generated images, manually select the best one, and save it as `./gan/gan_best.pth`. **Please do not submit any other checkpoints except for `./gan/gan_best.pth`!**\n",
    "\n",
    "+ **Generated Images**\n",
    "\n",
    "Please generate 100 images for each class (1000 in total), save it in `./gan/generated/`, and organize them as the following structure:\n",
    "\n",
    "```\n",
    "CodingProject3\n",
    "├── ...\n",
    "├── gan\n",
    "│   ├── gan_best.pth\n",
    "│   ├── generated\n",
    "│       └── 0\n",
    "│           ├── 0_00.png\n",
    "│           ├── ...\n",
    "│           ├── 0_99.png\n",
    "│       └── 1\n",
    "│           ├── 1_00.png\n",
    "│           ├── ...\n",
    "│           ├── 1_99.png\n",
    "│       └── ...\n",
    "│       └── 9\n",
    "│           ├── 9_00.png\n",
    "│           ├── ...\n",
    "│           ├── 9_99.png\n",
    "```\n",
    "\n",
    "Specifially, you should name the $j$-th generated image of class $i$ as `{i}_{j}.png`, and save it into folder `./gan/generated/{i}/`. Check the `make_dataset` method of Generator for details.\n",
    "\n",
    "+ **Report**\n",
    "\n",
    "Please include the conditioned generation results (i.e., generated images in a $10\\times 10$ array as above), the FID score, the standard deviation for each class, and other relevant statistics in your\n",
    "report. Note that you only need to write a single report for this coding project."
   ]
  },
  {
   "cell_type": "markdown",
   "id": "ddd40350",
   "metadata": {
    "deletable": false,
    "editable": false,
    "nbgrader": {
     "cell_type": "markdown",
     "checksum": "712834191d7d9151a8b8d58e6c288162",
     "grade": false,
     "grade_id": "cell-28a1b790adf8ec3d",
     "locked": true,
     "schema_version": 3,
     "solution": false,
     "task": false
    }
   },
   "source": [
    "### Grading\n",
    "\n",
    "We will evaluate your model by **computing the [FID score](https://en.wikipedia.org/wiki/Fr%C3%A9chet_inception_distance)**, as what we do for conditioned VAE.\n",
    "\n",
    "In addition, the standard deviation of your generated images within\n",
    "each class must **exceed a certain threshold**. Suppose the generated samples for\n",
    "each class are of size (number of samples, 28, 28) with pixel values range\n",
    "from 0 to 1, the standard deviation is given by `torch.std(samples, dim=0).mean()`. The thresholds for different digits are listed in the following table:\n",
    "\n",
    "| Digit | 0    | 1    | 2    | 3    | 4    | 5    | 6    | 7    | 8    | 9    |\n",
    "|-------|------|------|------|------|------|------|------|------|------|------|\n",
    "| Threshold   | 0.17 | 0.08 | 0.17 | 0.15 | 0.14 | 0.16 | 0.15 | 0.13 | 0.15 | 0.13 |"
   ]
  },
  {
   "cell_type": "markdown",
   "id": "3a90a8be",
   "metadata": {
    "deletable": false,
    "editable": false,
    "nbgrader": {
     "cell_type": "markdown",
     "checksum": "a2a67d6056a065d7dc06e787ff7d0e7d",
     "grade": false,
     "grade_id": "cell-527c7725f3508ba0",
     "locked": true,
     "schema_version": 3,
     "solution": false,
     "task": false
    }
   },
   "source": [
    "### Tips\n",
    "\n",
    "+ Monitoring the generated images in the training process. The quality of the samples helps judge the generator's ability to learn a diverse representation of the input data distribution.\n",
    "\n",
    "+ See [here](https://developers.google.com/machine-learning/gan/problems) for tricks to prevent mode collapse.\n",
    "\n",
    "+ Make sure your runs fine with the evaluation file in this notebook."
   ]
  },
  {
   "cell_type": "markdown",
   "id": "dd040c70",
   "metadata": {
    "deletable": false,
    "editable": false,
    "nbgrader": {
     "cell_type": "markdown",
     "checksum": "54854fcdc1556d353b55bc4d1a133674",
     "grade": false,
     "grade_id": "cell-2b4bea3e44a7b81b",
     "locked": true,
     "schema_version": 3,
     "solution": false,
     "task": false
    }
   },
   "source": [
    "## Set Up Code"
   ]
  },
  {
   "cell_type": "code",
   "execution_count": 13,
   "id": "d8c2354b",
   "metadata": {
    "deletable": false,
    "editable": false,
    "nbgrader": {
     "cell_type": "code",
     "checksum": "b34bc8b23f9c8e480a9671ef3453e7ac",
     "grade": false,
     "grade_id": "cell-a551fcc5ff27fb87",
     "locked": true,
     "schema_version": 3,
     "solution": false,
     "task": false
    }
   },
   "outputs": [
    {
     "name": "stdout",
     "output_type": "stream",
     "text": [
      "The autoreload extension is already loaded. To reload it, use:\n",
      "  %reload_ext autoreload\n"
     ]
    }
   ],
   "source": [
    "%load_ext autoreload\n",
    "%autoreload 2"
   ]
  },
  {
   "cell_type": "markdown",
   "id": "4eca3738",
   "metadata": {
    "deletable": false,
    "editable": false,
    "nbgrader": {
     "cell_type": "markdown",
     "checksum": "0bb447e0084709f0b673b1e91ba0aa1a",
     "grade": false,
     "grade_id": "cell-291232b1c59e4f02",
     "locked": true,
     "schema_version": 3,
     "solution": false,
     "task": false
    }
   },
   "source": [
    "If you use Colab in this coding project, please uncomment the code, fill the `GOOGLE_DRIVE_PATH_AFTER_MYDRIVE` and run the following cells to mount your Google drive. Then, the notebook can find the required file (i.e., utils.py). If you run the notebook locally, you can skip the following cells."
   ]
  },
  {
   "cell_type": "code",
   "execution_count": 14,
   "id": "785a7720",
   "metadata": {},
   "outputs": [],
   "source": [
    "# from google.colab import drive\n",
    "# drive.mount('/content/drive')"
   ]
  },
  {
   "cell_type": "code",
   "execution_count": 15,
   "id": "ca391e22",
   "metadata": {},
   "outputs": [],
   "source": [
    "# import os\n",
    "\n",
    "# # TODO: Fill in the Google Drive path where you uploaded the assignment\n",
    "# # Example: If you create a 2022SP folder and put all the files under CP1 folder, then '2022SP/CP1'\n",
    "# # GOOGLE_DRIVE_PATH_AFTER_MYDRIVE = '2022SP/CP1'\n",
    "# GOOGLE_DRIVE_PATH_AFTER_MYDRIVE = None \n",
    "# GOOGLE_DRIVE_PATH = os.path.join('drive', 'MyDrive', GOOGLE_DRIVE_PATH_AFTER_MYDRIVE)\n",
    "# print(os.listdir(GOOGLE_DRIVE_PATH))"
   ]
  },
  {
   "cell_type": "code",
   "execution_count": 16,
   "id": "c62c2445",
   "metadata": {},
   "outputs": [],
   "source": [
    "# import sys\n",
    "# sys.path.append(GOOGLE_DRIVE_PATH)"
   ]
  },
  {
   "cell_type": "code",
   "execution_count": 17,
   "id": "f6cd2080",
   "metadata": {
    "deletable": false,
    "editable": false,
    "nbgrader": {
     "cell_type": "code",
     "checksum": "0d5d6f96e1d7ce5df1315172b57173de",
     "grade": false,
     "grade_id": "cell-e11eaf041d72deda",
     "locked": true,
     "schema_version": 3,
     "solution": false,
     "task": false
    }
   },
   "outputs": [
    {
     "name": "stdout",
     "output_type": "stream",
     "text": [
      "Good luck!\n"
     ]
    }
   ],
   "source": [
    "from utils import hello\n",
    "hello()"
   ]
  },
  {
   "cell_type": "markdown",
   "id": "cb9634e8",
   "metadata": {
    "deletable": false,
    "editable": false,
    "nbgrader": {
     "cell_type": "markdown",
     "checksum": "08adb7a09810871eb77c9f30cb89a86f",
     "grade": false,
     "grade_id": "cell-fe84c884133acb94",
     "locked": true,
     "schema_version": 3,
     "solution": false,
     "task": false
    }
   },
   "source": [
    "Finally, please run the following cell to import some base classes for implementation (no matter whether you use colab)."
   ]
  },
  {
   "cell_type": "code",
   "execution_count": 18,
   "id": "cfad252c",
   "metadata": {
    "deletable": false,
    "editable": false,
    "nbgrader": {
     "cell_type": "code",
     "checksum": "d2be319ada9c3d55956fa58ab4267353",
     "grade": false,
     "grade_id": "cell-f4c64652a7cd2343",
     "locked": true,
     "schema_version": 3,
     "solution": false,
     "task": false
    }
   },
   "outputs": [],
   "source": [
    "from collections import deque\n",
    "from torch.utils.data import DataLoader\n",
    "from tqdm.autonotebook import tqdm\n",
    "\n",
    "import numpy as np\n",
    "import os\n",
    "import time\n",
    "import torch\n",
    "import torch.nn as nn\n",
    "import torch.nn.functional as F\n",
    "import torchvision\n",
    "\n",
    "from utils import save_model, load_model, train_set\n",
    "\n",
    "seed = 42\n",
    "np.random.seed(seed)\n",
    "torch.manual_seed(seed)\n",
    "torch.cuda.manual_seed(seed)\n",
    "torch.backends.cudnn.deterministic = True\n",
    "\n",
    "device = torch.device(\n",
    "    \"cuda\") if torch.cuda.is_available() else torch.device(\"cpu\")"
   ]
  },
  {
   "cell_type": "markdown",
   "id": "e46fbcf1",
   "metadata": {
    "deletable": false,
    "editable": false,
    "nbgrader": {
     "cell_type": "markdown",
     "checksum": "68d8aa04bb241cac9cde4fc5eb3b1926",
     "grade": false,
     "grade_id": "cell-4044c35c561f5278",
     "locked": true,
     "schema_version": 3,
     "solution": false,
     "task": false
    }
   },
   "source": [
    "## Generator\n",
    "\n",
    "Please implement your own generator module, which should be a fully convolutional network with linear projection heads."
   ]
  },
  {
   "cell_type": "code",
   "execution_count": 19,
   "id": "588faeb0",
   "metadata": {
    "deletable": false,
    "nbgrader": {
     "cell_type": "code",
     "checksum": "589180800933f87ef269321d8b832bf8",
     "grade": false,
     "grade_id": "cell-59ccf1af419b1be5",
     "locked": false,
     "schema_version": 3,
     "solution": true,
     "task": false
    }
   },
   "outputs": [],
   "source": [
    "class Generator(nn.Module):\n",
    "    def __init__(self, latent_size):\n",
    "        super().__init__()\n",
    "        self.label_size = label_size = 10\n",
    "        self.latent_size = latent_size\n",
    "        \n",
    "        ##############################################################################\n",
    "        #                  TODO: You need to complete the code here                  #\n",
    "        ##############################################################################\n",
    "        # YOUR CODE HERE\n",
    "        self.full_size = self.latent_size + self.label_size\n",
    "        self.first_layer_size = 2\n",
    "        self.project = nn.Sequential(\n",
    "            nn.Linear(self.full_size, 512 * self.first_layer_size * self.first_layer_size),\n",
    "            nn.ReLU()\n",
    "        )\n",
    "        self.c2 = nn.Sequential(\n",
    "            nn.ConvTranspose2d(512,256,kernel_size=(2,2),stride=2),\n",
    "            nn.BatchNorm2d(256),\n",
    "            nn.ReLU()\n",
    "        )\n",
    "        self.c3 = nn.Sequential(\n",
    "            nn.ConvTranspose2d(256,128,kernel_size=(4,4),stride=2),\n",
    "            nn.BatchNorm2d(128),\n",
    "            nn.ReLU()\n",
    "        )\n",
    "        self.c4 = nn.Sequential(\n",
    "            nn.ConvTranspose2d(128,64,kernel_size=(4,4),stride=2),\n",
    "            nn.BatchNorm2d(64),\n",
    "            nn.ReLU()\n",
    "        )\n",
    "        self.c_final = nn.ConvTranspose2d(64,1,kernel_size=(2,2),stride=2)\n",
    "        self.cs = [self.c2,self.c3,self.c4]\n",
    "        # raise NotImplementedError()\n",
    "        ##############################################################################\n",
    "        #                              END OF YOUR CODE                              #\n",
    "        ##############################################################################\n",
    "\n",
    "    def forward(self, z, label):\n",
    "        ##############################################################################\n",
    "        #                  TODO: You need to complete the code here                  #\n",
    "        ##############################################################################\n",
    "        # YOUR CODE HERE\n",
    "        label = torch.scatter(torch.zeros([label.shape[0],10]).to(device),1,label.unsqueeze(1),value=1).to(device)\n",
    "        x = torch.cat((z,label),dim=1)\n",
    "        # print(x.shape)\n",
    "        x = self.project(x)\n",
    "        # print(x.shape)\n",
    "        x = x.reshape((-1,512,self.first_layer_size,self.first_layer_size))\n",
    "        # print(x.shape)\n",
    "        for ly in self.cs:\n",
    "            x = ly(x)\n",
    "            # print(x.shape)\n",
    "        # print('x.shape',x.shape)\n",
    "        x = (torch.tanh(self.c_final(x))+1)/2\n",
    "        # print(x.shape)\n",
    "        x = x[:,:,8:36,8:36]\n",
    "        return x\n",
    "        # raise NotImplementedError()\n",
    "        ##############################################################################\n",
    "        #                              END OF YOUR CODE                              #\n",
    "        ##############################################################################\n",
    "\n",
    "    @torch.no_grad()\n",
    "    def sample_images(self, label, save=True, save_dir='./gan'):\n",
    "        self.eval()\n",
    "        n_samples = label.shape[0]\n",
    "        samples = self(torch.randn(\n",
    "            n_samples, self.latent_size).to(label.device), label)\n",
    "        imgs = samples.view(n_samples, 1, 28, 28)\n",
    "        if save:\n",
    "            os.makedirs(save_dir, exist_ok=True)\n",
    "            torchvision.utils.save_image(imgs, os.path.join(\n",
    "                save_dir, 'sample.png'), nrow=int(np.sqrt(n_samples)))\n",
    "        return imgs\n",
    "    \n",
    "    @torch.no_grad()\n",
    "    def make_dataset(self, n_samples_per_class=10, save=True, save_dir='./gan/generated/'):\n",
    "        self.eval()\n",
    "        device = next(self.parameters()).device\n",
    "        for i in range(self.label_size):\n",
    "            label = i * torch.ones(n_samples_per_class, dtype=torch.long, device=device)\n",
    "            samples = self(torch.randn(\n",
    "                n_samples_per_class, self.latent_size).to(device), label)\n",
    "            imgs = samples.view(n_samples_per_class, 1, 28, 28)\n",
    "            print(f\"Standard deviation of number {i}: {torch.std(imgs, dim=0).mean().item()}\")\n",
    "            if save:\n",
    "                os.makedirs(os.path.join(save_dir, str(i)), exist_ok=True)\n",
    "                for j in range(n_samples_per_class):\n",
    "                    torchvision.utils.save_image(imgs[j], os.path.join(save_dir, str(i), \"{}_{:>03d}.png\".format(i, j)))"
   ]
  },
  {
   "cell_type": "markdown",
   "id": "c522ef2d",
   "metadata": {
    "deletable": false,
    "editable": false,
    "nbgrader": {
     "cell_type": "markdown",
     "checksum": "c91c3ec3373a8bbb2a1429a7c2bdb182",
     "grade": false,
     "grade_id": "cell-fb5d026a45cefc66",
     "locked": true,
     "schema_version": 3,
     "solution": false,
     "task": false
    }
   },
   "source": [
    "## Discriminator\n",
    "\n",
    "Please implement your own discriminator module, which should also be a fully convolutional network with linear projection heads.\n",
    "\n",
    "**Hint**: Pay attention to the shape of your output and the shape of label."
   ]
  },
  {
   "cell_type": "code",
   "execution_count": 20,
   "id": "a4f8e820",
   "metadata": {
    "deletable": false,
    "nbgrader": {
     "cell_type": "code",
     "checksum": "fa175f9ddebe8c6576006607e624ded2",
     "grade": false,
     "grade_id": "cell-423cd6fc3a090e6d",
     "locked": false,
     "schema_version": 3,
     "solution": true,
     "task": false
    }
   },
   "outputs": [],
   "source": [
    "class Discriminator(nn.Module):\n",
    "    def __init__(self):\n",
    "        super().__init__()\n",
    "        self.label_size = label_size = 10\n",
    "        \n",
    "        ##############################################################################\n",
    "        #                  TODO: You need to complete the code here                  #\n",
    "        ##############################################################################\n",
    "        # YOUR CODE HERE\n",
    "        self.c2 = nn.Sequential(\n",
    "            nn.Conv2d(1,64,kernel_size=(4,4),stride=2,padding=1),\n",
    "            nn.Dropout2d(0.2),\n",
    "            nn.LeakyReLU(0.2)\n",
    "        )\n",
    "        self.c3 = nn.Sequential(\n",
    "            nn.Conv2d(64,32,kernel_size=(4,4),stride=2,padding=1),\n",
    "            nn.BatchNorm2d(32),\n",
    "            nn.Dropout2d(0.2),\n",
    "            nn.LeakyReLU(0.2)\n",
    "        )\n",
    "        self.c4 = nn.Sequential(\n",
    "            nn.Conv2d(32,3,kernel_size=(3,3),padding=1),\n",
    "            nn.BatchNorm2d(3),\n",
    "            nn.LeakyReLU(0.2)\n",
    "        )\n",
    "        self.cs = [self.c2,self.c3,self.c4]\n",
    "        self.out_conv_size = 3 * 7 * 7\n",
    "        self.mini_batch = 8\n",
    "        self.B = 5\n",
    "        self.C = 10\n",
    "        self.tensor = nn.Linear(self.out_conv_size,self.B * self.C)\n",
    "        self.linear_size = self.out_conv_size + self.B\n",
    "        self.project = nn.Sequential(\n",
    "            nn.Linear(self.linear_size, self.label_size+1),\n",
    "            nn.Sigmoid()\n",
    "        )\n",
    "        ##############################################################################\n",
    "        #                              END OF YOUR CODE                              #\n",
    "        ##############################################################################\n",
    "\n",
    "    def forward(self, img, label):\n",
    "        ##############################################################################\n",
    "        #                  TODO: You need to complete the code here                  #\n",
    "        ##############################################################################\n",
    "        # YOUR CODE HERE\n",
    "        # print(img.shape)\n",
    "        x = img\n",
    "        batch_size = img.shape[0]\n",
    "        x = x.reshape((-1,1,28,28))\n",
    "        for ly in self.cs:\n",
    "            x = ly(x)\n",
    "        x = x.reshape([batch_size,-1])\n",
    "        o = torch.zeros([batch_size,self.B]).to(device)\n",
    "        if label == 'fake':\n",
    "            # minibatch discrimination\n",
    "            # print('minibatch discrimination')\n",
    "            # x: batch * (32 * 7 * 7)\n",
    "            # x_i: (32 * 7 * 7)\n",
    "            # feature_i: (32 * 7 * 7) \n",
    "            # M_i: self.B * self.C\n",
    "            # c_b(x_i,x_j): exp(−||Mi,b − Mj,b ||L1), a number\n",
    "            # o(x_i)_b: sum to j, a number\n",
    "            # o(x_i): self.B\n",
    "            # o(x): batch * self.B\n",
    "            down = 0\n",
    "            M = self.tensor(x)\n",
    "            while down < batch_size:\n",
    "                up = down+self.mini_batch\n",
    "                if up >= batch_size:\n",
    "                    break\n",
    "                # features = x[down:up]\n",
    "                M_mini = M[down:up].reshape([self.mini_batch,self.B,self.C])\n",
    "                c = torch.zeros([self.B,self.mini_batch,self.mini_batch]).to(device)\n",
    "                for b in range(self.B):\n",
    "                    for i in range(self.mini_batch):\n",
    "                        for j in range(i+1,self.mini_batch):\n",
    "                            # print(F.l1_loss(M[i,b,:],M[j,b,:]))\n",
    "                            c[b,i,j]=torch.exp(-F.l1_loss(M_mini[i,b,:],M_mini[j,b,:]))\n",
    "                                # c[b,i,j]=torch.exp(-F.l1_loss(M[i,b,:],M[j,b,:]))\n",
    "                c[b]=(c[b]+c[b].T)/2\n",
    "                o[down:up] = c.sum(dim=2).T\n",
    "                down += self.mini_batch\n",
    "        else:\n",
    "            o = torch.ones_like(o)*1.5\n",
    "            # print(x.shape)\n",
    "            # print('before projection')\n",
    "        # print(o)\n",
    "        # print('contrast: x')\n",
    "        # print(x[:,:self.B])\n",
    "        features = x.detach()\n",
    "        x = self.project(torch.cat((x,o),dim=1))\n",
    "        return x,features\n",
    "        ##############################################################################\n",
    "        #                              END OF YOUR CODE                              #\n",
    "        ##############################################################################"
   ]
  },
  {
   "cell_type": "markdown",
   "id": "63ca474a",
   "metadata": {
    "deletable": false,
    "editable": false,
    "nbgrader": {
     "cell_type": "markdown",
     "checksum": "cda6f3c0c7022a425b7d75857a228110",
     "grade": false,
     "grade_id": "cell-f3a94f2efdf52eb8",
     "locked": true,
     "schema_version": 3,
     "solution": false,
     "task": false
    }
   },
   "source": [
    "## Training\n",
    "\n",
    "We have implemented the skeleton of train function. Please complete the missing loss computation part."
   ]
  },
  {
   "cell_type": "code",
   "execution_count": 21,
   "id": "e6218baf",
   "metadata": {},
   "outputs": [],
   "source": [
    "batch = 11\n",
    "x = torch.rand([batch,100]).to(device)"
   ]
  },
  {
   "cell_type": "code",
   "execution_count": 22,
   "id": "f42a92f1",
   "metadata": {},
   "outputs": [],
   "source": [
    "gen = Generator(100).to(device)\n",
    "dis = Discriminator().to(device)\n",
    "y = gen(x,torch.tensor([1]*batch).to(device))\n",
    "assert list(y.shape)==[batch,1,28,28],f'{y.shape}'\n",
    "z = dis(y,None)\n",
    "assert list(z[0].shape)==[batch,11],f'{z.shape}'\n",
    "z = dis(y,\"fake\")\n",
    "assert list(z[0].shape)==[batch,11],f'{z.shape}'"
   ]
  },
  {
   "cell_type": "code",
   "execution_count": 23,
   "id": "b6d70ab3",
   "metadata": {},
   "outputs": [],
   "source": [
    "# dis1 = Discriminator()\n",
    "# dis1.load_state_dict(dis.state_dict())\n",
    "# dis1.to(device)\n",
    "# dis2 = Discriminator2()\n",
    "# dis2.load_state_dict(dis.state_dict())\n",
    "# dis2.to(device)\n",
    "# z1 = dis1(y,\"fake\")\n",
    "# z2 = dis2(y,\"fake\")\n",
    "# assert((abs(z1-z2)<1e-4).all())"
   ]
  },
  {
   "cell_type": "code",
   "execution_count": 24,
   "id": "86f7857a",
   "metadata": {
    "deletable": false,
    "nbgrader": {
     "cell_type": "code",
     "checksum": "af946accb82492bfa5a1145df649baa3",
     "grade": false,
     "grade_id": "cell-e952fc9b436526b4",
     "locked": false,
     "schema_version": 3,
     "solution": true,
     "task": false
    }
   },
   "outputs": [],
   "source": [
    "def train(n_epochs, generator, discriminator, train_loader, optimizer_g, optimizer_d, device=torch.device('cuda'), save_interval=10):\n",
    "    MUL_D = 1000# add\n",
    "    MUL_G = 1000# add\n",
    "    RATIO = 0.08# add\n",
    "    generator.to(device)\n",
    "    discriminator.to(device)\n",
    "    def judge(ep):\n",
    "        return True\n",
    "        # return bool(ep % 5 != 4)\n",
    "    def clamp(x,low,up):\n",
    "        if x>up:\n",
    "            return up\n",
    "        elif x<low:\n",
    "            return low\n",
    "        return x\n",
    "    for epoch in range(n_epochs):\n",
    "        train_g_loss = train_d_loss = 0\n",
    "        n_batches = 0\n",
    "        pbar = tqdm(total=len(train_loader.dataset))\n",
    "        for i, (x, y) in enumerate(train_loader):\n",
    "            # compute loss\n",
    "            n_batches += x.shape[0]\n",
    "            x = x.to(device)\n",
    "            y = y.to(device)\n",
    "            ##############################################################################\n",
    "            #                  TODO: You need to complete the code here                  #\n",
    "            ##############################################################################\n",
    "            # YOUR CODE HERE\n",
    "            # train discriminator\n",
    "            optimizer_d.zero_grad()\n",
    "            optimizer_g.zero_grad()\n",
    "            discriminator.train()\n",
    "            gen_labels = []\n",
    "            MINI_BATCH_SIZE = discriminator.mini_batch\n",
    "            for number in range(10):\n",
    "                gen_labels.extend([number]*(MINI_BATCH_SIZE)) \n",
    "            # print(gen_labels)\n",
    "            gen_labels = torch.tensor(gen_labels * 1).to(device) # this 1 can be modify\n",
    "            generate_image_num = len(gen_labels)\n",
    "            gen_shape = [generate_image_num,generator.latent_size]\n",
    "            \n",
    "            # print('gen image shape',gen_images.shape)\n",
    "            # print('ori shape',x.shape)\n",
    "            # dic = [[].copy() for _ in range(10)]\n",
    "            # label_dic = [[].copy() for _ in range(10)]\n",
    "            # cnt = [0]*10\n",
    "            success = [False]*10\n",
    "            # for xi,yi in zip(x,y):\n",
    "            #     ynum = int(yi.item())\n",
    "            #     cnt[ynum]+=1\n",
    "            #     if not success[ynum]: \n",
    "            #         dic[ynum].append(xi)\n",
    "            #         label_dic[ynum].append(ynum)\n",
    "            #         if len(label_dic[ynum]) == MINI_BATCH_SIZE:\n",
    "            #             success[ynum] = True\n",
    "            if sum(success)==10:\n",
    "                pass\n",
    "                # print('success')\n",
    "                # print(label_dic)\n",
    "                #organize_images = torch.cat([c for d in dic if len(d) for c in d ])\n",
    "                #results_real_image,real_features = discriminator(organize_images,'fake')\n",
    "                #first = F.cross_entropy(results_real_image,gen_labels).mean()\n",
    "                #d_real_acc = ((results_real_image.argmax(dim=1)==gen_labels).to(torch.float32).mean()).item()\n",
    "            else:\n",
    "                results_real_image,real_features = discriminator(x,\"dataset\")\n",
    "                first = 1/x.shape[0] * F.cross_entropy(results_real_image,y)\n",
    "                d_real_acc = ((results_real_image.argmax(dim=1)==y).sum()/x.shape[0]).item()\n",
    "\n",
    "            z = torch.randn(gen_shape).to(device)\n",
    "            gen_images = generator(z,gen_labels)\n",
    "            output,_ = discriminator(gen_images,\"fake\")\n",
    "# print( x * torch.scatter(input=torch.zeros_like(x),index=torch.tensor([[i,y[i]] for i in range(len(y))]),src=torch.ones_like(x),dim=1))\n",
    "            # with torch.no_grad():\n",
    "            second = -1/generate_image_num * (F.softmax(output,dim=1)[:,10]).sum()\n",
    "            d_loss = (first*(1-RATIO) + second*(RATIO))/(1-RATIO)\n",
    "            # print(first.item(),second.item())\n",
    "            # with torch.no_grad():\n",
    "            d_fake_acc = ((output.argmax(dim=1)==10).sum()/generate_image_num).item()\n",
    "            \n",
    "            if judge(epoch):\n",
    "                if d_fake_acc > 0.99 :\n",
    "                    MUL_D -= 4\n",
    "                elif d_fake_acc < 0.02 :\n",
    "                    MUL_D += 4\n",
    "                else:\n",
    "                    pass\n",
    "                    # MUL_D += (d_fake_acc.item()-0.5)*1\n",
    "                MUL_D = clamp(MUL_D,800,2000)\n",
    "                if d_fake_acc > 0.99 :\n",
    "                    RATIO -= 0.001\n",
    "                elif d_fake_acc < 0.02 : #RATIO < 0.08:\n",
    "                    RATIO += 0.001\n",
    "                else:\n",
    "                    pass\n",
    "                    # RATIO -= (d_fake_acc.item()-0.5)*0.0003\n",
    "                RATIO = clamp(RATIO,0.02,1)\n",
    "                d_loss *= MUL_D\n",
    "                # print('Training D')\n",
    "                d_loss.backward()\n",
    "                optimizer_d.step()\n",
    "            else:\n",
    "                d_loss *= MUL_D\n",
    "            # train generator\n",
    "            optimizer_g.zero_grad()\n",
    "            optimizer_d.zero_grad()\n",
    "            discriminator.eval()\n",
    "            z = torch.randn(gen_shape).to(device)\n",
    "            gen_images = generator(z,gen_labels)\n",
    "            output,features = discriminator(gen_images,\"fake\")\n",
    "            g_loss_first = -1/generate_image_num * (F.softmax(output,dim=1) * torch.scatter(input=torch.zeros_like(output),index=gen_labels.unsqueeze(1),value=1,dim=1)).sum()\n",
    "            g_loss_second = F.mse_loss(features.mean(dim=0),real_features.mean(dim=0))\n",
    "            # with torch.no_grad():\n",
    "            g_loss = g_loss_first + g_loss_second*0.25\n",
    "            g_acc = ((output.argmax(dim=1)==gen_labels).sum()/generate_image_num).item()\n",
    "            if g_acc < 0.02:\n",
    "                # print('Add MULG')\n",
    "                MUL_G += 4\n",
    "            if g_acc > 0.98 :\n",
    "                MUL_G -= 4\n",
    "            MUL_G = clamp(MUL_G,800,2000)\n",
    "            g_loss *= MUL_G\n",
    "            g_loss.backward()\n",
    "            optimizer_g.step()\n",
    "            if i%2==0:\n",
    "                pbar.update(x.size(0)*2)\n",
    "                pbar.set_description('Ep({})[D-({});MD({})MG({})RTO({:.3f})]GL:({:.6f})DL({:.6f})DrA({:.2f})DfA({:.2f})GA({:.2f})'.format(\n",
    "                    epoch + 1,judge(epoch),MUL_D,MUL_G,RATIO, train_g_loss / n_batches, train_d_loss / n_batches,d_real_acc*100,d_fake_acc*100,g_acc*100))\n",
    "            # raise NotImplementedError()\n",
    "            ##############################################################################\n",
    "            #                              END OF YOUR CODE                              #\n",
    "            ##############################################################################\n",
    "\n",
    "            train_g_loss += g_loss.sum().item()\n",
    "            train_d_loss += d_loss.sum().item()\n",
    "\n",
    "            # pbar.update(x.size(0))\n",
    "            # pbar.set_description('Train Epoch {}, Generator Loss: {:.6f}, Discriminator Loss: {:.6f}'.format(\n",
    "            #     epoch + 1, train_g_loss / n_batches, train_d_loss / n_batches))\n",
    "        pbar.close()\n",
    "\n",
    "        if (epoch + 1) % save_interval == 0:\n",
    "            os.makedirs(f'./gan/{epoch + 1}', exist_ok=True)\n",
    "            save_model(f'./gan/{epoch + 1}/gan.pth', generator, optimizer_g,\n",
    "                       discriminator=discriminator, optimizer_d=optimizer_d)\n",
    "\n",
    "            # sample and save images\n",
    "            label = torch.arange(10).repeat(10).to(device)\n",
    "            generator.sample_images(\n",
    "                label, save=True, save_dir=f\"./gan/{epoch + 1}/\")"
   ]
  },
  {
   "cell_type": "markdown",
   "id": "ebe4116d",
   "metadata": {
    "deletable": false,
    "editable": false,
    "nbgrader": {
     "cell_type": "markdown",
     "checksum": "81f42ac9cf6e245edc7a2236059d1d11",
     "grade": false,
     "grade_id": "cell-7db259e660f5b395",
     "locked": true,
     "schema_version": 3,
     "solution": false,
     "task": false
    }
   },
   "source": [
    "## Enjoy\n",
    "\n",
    "Tune your hyperparameters and make your conditional DCGAN work. Good luck!"
   ]
  },
  {
   "cell_type": "code",
   "execution_count": 25,
   "id": "d7629c75",
   "metadata": {},
   "outputs": [],
   "source": [
    "train_loader = DataLoader(train_set, batch_size=128, pin_memory=True,\n",
    "                          drop_last=False, shuffle=True, num_workers=2)\n",
    "\n",
    "g = Generator(100).to(device)\n",
    "d = Discriminator().to(device)\n",
    "\n",
    "optimizer_g = torch.optim.Adam(g.parameters(), lr=2e-4, betas=(0.5, 0.999))\n",
    "optimizer_d = torch.optim.Adam(d.parameters(), lr=2e-4, betas=(0.5, 0.999))"
   ]
  },
  {
   "cell_type": "markdown",
   "id": "6dc19543",
   "metadata": {},
   "source": [
    "Now you can start your training. Please keep in mind that this cell may **NOT** be run when we evaluate your assignment!"
   ]
  },
  {
   "cell_type": "code",
   "execution_count": 26,
   "id": "a1ade790",
   "metadata": {},
   "outputs": [],
   "source": [
    "torch.backends.cudnn.enabled = False"
   ]
  },
  {
   "cell_type": "code",
   "execution_count": null,
   "id": "fbe004b5",
   "metadata": {},
   "outputs": [],
   "source": []
  },
  {
   "cell_type": "code",
   "execution_count": 27,
   "id": "e19ce8fb",
   "metadata": {},
   "outputs": [
    {
     "name": "stderr",
     "output_type": "stream",
     "text": [
      "Ep(1)[D-(True);MD(1004)MG(1000)RTO(0.081)]GL:(0.000000)DL(0.000000)DrA(8.59)DfA(1.25)GA(10.00):   0%|          | 256/60000 [00:00<02:58, 335.62it/s]"
     ]
    },
    {
     "name": "stderr",
     "output_type": "stream",
     "text": [
      "Ep(1)[D-(True);MD(1024)MG(1000)RTO(0.086)]GL:(-0.394296)DL(0.073642)DrA(14.06)DfA(86.25)GA(7.50):   4%|▍         | 2304/60000 [00:10<04:59, 192.82it/s] "
     ]
    },
    {
     "ename": "KeyboardInterrupt",
     "evalue": "",
     "output_type": "error",
     "traceback": [
      "\u001b[0;31m---------------------------------------------------------------------------\u001b[0m",
      "\u001b[0;31mKeyboardInterrupt\u001b[0m                         Traceback (most recent call last)",
      "Cell \u001b[0;32mIn[27], line 2\u001b[0m\n\u001b[1;32m      1\u001b[0m \u001b[38;5;66;03m# feel free to change training hyper-parameters!\u001b[39;00m\n\u001b[0;32m----> 2\u001b[0m \u001b[43mtrain\u001b[49m\u001b[43m(\u001b[49m\u001b[38;5;241;43m150\u001b[39;49m\u001b[43m,\u001b[49m\u001b[43m \u001b[49m\u001b[43mg\u001b[49m\u001b[43m,\u001b[49m\u001b[43m \u001b[49m\u001b[43md\u001b[49m\u001b[43m,\u001b[49m\u001b[43m \u001b[49m\u001b[43mtrain_loader\u001b[49m\u001b[43m,\u001b[49m\u001b[43m \u001b[49m\u001b[43moptimizer_g\u001b[49m\u001b[43m,\u001b[49m\u001b[43m \u001b[49m\u001b[43moptimizer_d\u001b[49m\u001b[43m,\u001b[49m\u001b[43m \u001b[49m\u001b[43mdevice\u001b[49m\u001b[38;5;241;43m=\u001b[39;49m\u001b[43mdevice\u001b[49m\u001b[43m)\u001b[49m\n",
      "Cell \u001b[0;32mIn[24], line 122\u001b[0m, in \u001b[0;36mtrain\u001b[0;34m(n_epochs, generator, discriminator, train_loader, optimizer_g, optimizer_d, device, save_interval)\u001b[0m\n\u001b[1;32m    120\u001b[0m MUL_G \u001b[38;5;241m=\u001b[39m clamp(MUL_G,\u001b[38;5;241m800\u001b[39m,\u001b[38;5;241m2000\u001b[39m)\n\u001b[1;32m    121\u001b[0m g_loss \u001b[38;5;241m*\u001b[39m\u001b[38;5;241m=\u001b[39m MUL_G\n\u001b[0;32m--> 122\u001b[0m \u001b[43mg_loss\u001b[49m\u001b[38;5;241;43m.\u001b[39;49m\u001b[43mbackward\u001b[49m\u001b[43m(\u001b[49m\u001b[43m)\u001b[49m\n\u001b[1;32m    123\u001b[0m optimizer_g\u001b[38;5;241m.\u001b[39mstep()\n\u001b[1;32m    124\u001b[0m \u001b[38;5;28;01mif\u001b[39;00m i\u001b[38;5;241m%\u001b[39m\u001b[38;5;241m2\u001b[39m\u001b[38;5;241m==\u001b[39m\u001b[38;5;241m0\u001b[39m:\n",
      "File \u001b[0;32m~/anaconda3/envs/DYY/lib/python3.11/site-packages/torch/_tensor.py:522\u001b[0m, in \u001b[0;36mTensor.backward\u001b[0;34m(self, gradient, retain_graph, create_graph, inputs)\u001b[0m\n\u001b[1;32m    512\u001b[0m \u001b[38;5;28;01mif\u001b[39;00m has_torch_function_unary(\u001b[38;5;28mself\u001b[39m):\n\u001b[1;32m    513\u001b[0m     \u001b[38;5;28;01mreturn\u001b[39;00m handle_torch_function(\n\u001b[1;32m    514\u001b[0m         Tensor\u001b[38;5;241m.\u001b[39mbackward,\n\u001b[1;32m    515\u001b[0m         (\u001b[38;5;28mself\u001b[39m,),\n\u001b[0;32m   (...)\u001b[0m\n\u001b[1;32m    520\u001b[0m         inputs\u001b[38;5;241m=\u001b[39minputs,\n\u001b[1;32m    521\u001b[0m     )\n\u001b[0;32m--> 522\u001b[0m \u001b[43mtorch\u001b[49m\u001b[38;5;241;43m.\u001b[39;49m\u001b[43mautograd\u001b[49m\u001b[38;5;241;43m.\u001b[39;49m\u001b[43mbackward\u001b[49m\u001b[43m(\u001b[49m\n\u001b[1;32m    523\u001b[0m \u001b[43m    \u001b[49m\u001b[38;5;28;43mself\u001b[39;49m\u001b[43m,\u001b[49m\u001b[43m \u001b[49m\u001b[43mgradient\u001b[49m\u001b[43m,\u001b[49m\u001b[43m \u001b[49m\u001b[43mretain_graph\u001b[49m\u001b[43m,\u001b[49m\u001b[43m \u001b[49m\u001b[43mcreate_graph\u001b[49m\u001b[43m,\u001b[49m\u001b[43m \u001b[49m\u001b[43minputs\u001b[49m\u001b[38;5;241;43m=\u001b[39;49m\u001b[43minputs\u001b[49m\n\u001b[1;32m    524\u001b[0m \u001b[43m\u001b[49m\u001b[43m)\u001b[49m\n",
      "File \u001b[0;32m~/anaconda3/envs/DYY/lib/python3.11/site-packages/torch/autograd/__init__.py:266\u001b[0m, in \u001b[0;36mbackward\u001b[0;34m(tensors, grad_tensors, retain_graph, create_graph, grad_variables, inputs)\u001b[0m\n\u001b[1;32m    261\u001b[0m     retain_graph \u001b[38;5;241m=\u001b[39m create_graph\n\u001b[1;32m    263\u001b[0m \u001b[38;5;66;03m# The reason we repeat the same comment below is that\u001b[39;00m\n\u001b[1;32m    264\u001b[0m \u001b[38;5;66;03m# some Python versions print out the first line of a multi-line function\u001b[39;00m\n\u001b[1;32m    265\u001b[0m \u001b[38;5;66;03m# calls in the traceback and some print out the last line\u001b[39;00m\n\u001b[0;32m--> 266\u001b[0m \u001b[43mVariable\u001b[49m\u001b[38;5;241;43m.\u001b[39;49m\u001b[43m_execution_engine\u001b[49m\u001b[38;5;241;43m.\u001b[39;49m\u001b[43mrun_backward\u001b[49m\u001b[43m(\u001b[49m\u001b[43m  \u001b[49m\u001b[38;5;66;43;03m# Calls into the C++ engine to run the backward pass\u001b[39;49;00m\n\u001b[1;32m    267\u001b[0m \u001b[43m    \u001b[49m\u001b[43mtensors\u001b[49m\u001b[43m,\u001b[49m\n\u001b[1;32m    268\u001b[0m \u001b[43m    \u001b[49m\u001b[43mgrad_tensors_\u001b[49m\u001b[43m,\u001b[49m\n\u001b[1;32m    269\u001b[0m \u001b[43m    \u001b[49m\u001b[43mretain_graph\u001b[49m\u001b[43m,\u001b[49m\n\u001b[1;32m    270\u001b[0m \u001b[43m    \u001b[49m\u001b[43mcreate_graph\u001b[49m\u001b[43m,\u001b[49m\n\u001b[1;32m    271\u001b[0m \u001b[43m    \u001b[49m\u001b[43minputs\u001b[49m\u001b[43m,\u001b[49m\n\u001b[1;32m    272\u001b[0m \u001b[43m    \u001b[49m\u001b[43mallow_unreachable\u001b[49m\u001b[38;5;241;43m=\u001b[39;49m\u001b[38;5;28;43;01mTrue\u001b[39;49;00m\u001b[43m,\u001b[49m\n\u001b[1;32m    273\u001b[0m \u001b[43m    \u001b[49m\u001b[43maccumulate_grad\u001b[49m\u001b[38;5;241;43m=\u001b[39;49m\u001b[38;5;28;43;01mTrue\u001b[39;49;00m\u001b[43m,\u001b[49m\n\u001b[1;32m    274\u001b[0m \u001b[43m\u001b[49m\u001b[43m)\u001b[49m\n",
      "\u001b[0;31mKeyboardInterrupt\u001b[0m: "
     ]
    },
    {
     "name": "stderr",
     "output_type": "stream",
     "text": [
      "Ep(1)[D-(True);MD(1024)MG(1000)RTO(0.086)]GL:(-0.394296)DL(0.073642)DrA(14.06)DfA(86.25)GA(7.50):   4%|▍         | 2304/60000 [00:30<04:59, 192.82it/s]"
     ]
    }
   ],
   "source": [
    "# feel free to change training hyper-parameters!\n",
    "train(150, g, d, train_loader, optimizer_g, optimizer_d, device=device)"
   ]
  },
  {
   "cell_type": "markdown",
   "id": "eb98064c",
   "metadata": {},
   "source": [
    "Generate samples. Make sure your code runs fine with the following cell!"
   ]
  },
  {
   "cell_type": "code",
   "execution_count": null,
   "id": "252e51b2",
   "metadata": {
    "deletable": false,
    "editable": false,
    "nbgrader": {
     "cell_type": "code",
     "checksum": "ccdc57fa8cac4c392d3a0d104dd16e44",
     "grade": false,
     "grade_id": "cell-9cb0b2c4b2500a73",
     "locked": true,
     "schema_version": 3,
     "solution": false,
     "task": false
    }
   },
   "outputs": [
    {
     "name": "stdout",
     "output_type": "stream",
     "text": [
      "Standard deviation of number 0: 0.06841284036636353\n",
      "Standard deviation of number 1: 0.04526146873831749\n",
      "Standard deviation of number 2: 0.07351472973823547\n",
      "Standard deviation of number 3: 0.08737357705831528\n",
      "Standard deviation of number 4: 0.061702705919742584\n",
      "Standard deviation of number 5: 0.07473164796829224\n",
      "Standard deviation of number 6: 0.06711368262767792\n",
      "Standard deviation of number 7: 0.0771322026848793\n",
      "Standard deviation of number 8: 0.07711511105298996\n",
      "Standard deviation of number 9: 0.08560799062252045\n"
     ]
    }
   ],
   "source": [
    "state_dict = load_model('./gan/gan_04211309.pth')[0]\n",
    "g.load_state_dict(state_dict)\n",
    "g.make_dataset(n_samples_per_class=100)"
   ]
  },
  {
   "cell_type": "markdown",
   "id": "0855408b",
   "metadata": {
    "deletable": false,
    "editable": false,
    "nbgrader": {
     "cell_type": "markdown",
     "checksum": "4b51f1b1c42c303fb59368080327be1c",
     "grade": false,
     "grade_id": "cell-b2a25a74aeb23f85",
     "locked": true,
     "schema_version": 3,
     "solution": false,
     "task": false
    }
   },
   "source": [
    "## Evaluation\n",
    "\n",
    "Make sure your code runs fine with the following cell!"
   ]
  },
  {
   "cell_type": "code",
   "execution_count": null,
   "id": "cb630939",
   "metadata": {
    "deletable": false,
    "editable": false,
    "nbgrader": {
     "cell_type": "code",
     "checksum": "0523390c2c961b6d3637dff33f568fda",
     "grade": false,
     "grade_id": "cell-129d2a9b70fc707c",
     "locked": true,
     "schema_version": 3,
     "solution": false,
     "task": false
    }
   },
   "outputs": [
    {
     "name": "stdout",
     "output_type": "stream",
     "text": [
      "/home/zhh/anaconda3/envs/DYY/lib/python3.11/site-packages/torchvision/models/_utils.py:208: UserWarning: The parameter 'pretrained' is deprecated since 0.13 and may be removed in the future, please use 'weights' instead.\n",
      "  warnings.warn(\n",
      "/home/zhh/anaconda3/envs/DYY/lib/python3.11/site-packages/torchvision/models/_utils.py:223: UserWarning: Arguments other than a weight enum or `None` for 'weights' are deprecated since 0.13 and may be removed in the future. The current behavior is equivalent to passing `weights=Inception_V3_Weights.IMAGENET1K_V1`. You can also use `weights=Inception_V3_Weights.DEFAULT` to get the most up-to-date weights.\n",
      "  warnings.warn(msg)\n",
      "Downloading: \"https://download.pytorch.org/models/inception_v3_google-0cc3c7bd.pth\" to /home/zhh/.cache/torch/hub/checkpoints/inception_v3_google-0cc3c7bd.pth\n",
      "100%|████████████████████████████████████████| 104M/104M [00:22<00:00, 4.85MB/s]\n",
      "  0%|                                                    | 0/10 [00:05<?, ?it/s]\n",
      "Traceback (most recent call last):\n",
      "  File \"/home/zhh/MyFile/DL/CodingProject3/evaluate_cgen.py\", line 165, in <module>\n",
      "    fid = _calculate_frechet_distance(mu1, sigma1, mu2, sigma2)\n",
      "          ^^^^^^^^^^^^^^^^^^^^^^^^^^^^^^^^^^^^^^^^^^^^^^^^^^^^^\n",
      "  File \"/home/zhh/MyFile/DL/CodingProject3/evaluate_cgen.py\", line 104, in _calculate_frechet_distance\n",
      "    raise ValueError('Imaginary component {}'.format(m))\n",
      "ValueError: Imaginary component 1.9066031490874014e+124\n"
     ]
    }
   ],
   "source": [
    "!python evaluate_cgen.py --gan"
   ]
  }
 ],
 "metadata": {
  "kernelspec": {
   "display_name": "Python 3 (ipykernel)",
   "language": "python",
   "name": "python3"
  },
  "language_info": {
   "codemirror_mode": {
    "name": "ipython",
    "version": 3
   },
   "file_extension": ".py",
   "mimetype": "text/x-python",
   "name": "python",
   "nbconvert_exporter": "python",
   "pygments_lexer": "ipython3",
   "version": "3.11.0"
  },
  "toc": {
   "base_numbering": 1,
   "nav_menu": {},
   "number_sections": false,
   "sideBar": true,
   "skip_h1_title": false,
   "title_cell": "Table of Contents",
   "title_sidebar": "Contents",
   "toc_cell": false,
   "toc_position": {},
   "toc_section_display": true,
   "toc_window_display": false
  }
 },
 "nbformat": 4,
 "nbformat_minor": 5
}
