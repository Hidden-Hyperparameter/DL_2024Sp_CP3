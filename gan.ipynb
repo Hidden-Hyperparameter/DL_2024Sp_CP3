{
 "cells": [
  {
   "cell_type": "markdown",
   "id": "d7a1c051",
   "metadata": {},
   "source": [
    "---"
   ]
  },
  {
   "cell_type": "markdown",
   "id": "718d6fe6",
   "metadata": {
    "deletable": false,
    "editable": false,
    "nbgrader": {
     "cell_type": "markdown",
     "checksum": "dfaee0020ef966073ca58cf048262574",
     "grade": false,
     "grade_id": "cell-9c430af5d8d383e0",
     "locked": true,
     "schema_version": 3,
     "solution": false,
     "task": false
    }
   },
   "source": [
    "## Deep Learning Coding Project 3-4: Generative Adversarial Network\n",
    "\n",
    "Before we start, please put your **Chinese** name and student ID in following format:\n",
    "\n",
    "Name, 0000000000 // e.g.) 傅炜, 2021123123"
   ]
  },
  {
   "cell_type": "markdown",
   "id": "e85b760d",
   "metadata": {
    "deletable": false,
    "nbgrader": {
     "cell_type": "markdown",
     "checksum": "e30c80977fd0505d51c0f3fff9f44141",
     "grade": true,
     "grade_id": "name-and-id",
     "locked": false,
     "points": 0,
     "schema_version": 3,
     "solution": true,
     "task": false
    }
   },
   "source": [
    "YOUR ANSWER HERE"
   ]
  },
  {
   "cell_type": "markdown",
   "id": "ef99bd7a",
   "metadata": {
    "deletable": false,
    "editable": false,
    "nbgrader": {
     "cell_type": "markdown",
     "checksum": "402558f435a5548c81ffbea1d7270c76",
     "grade": false,
     "grade_id": "cell-140b078480df53e1",
     "locked": true,
     "schema_version": 3,
     "solution": false,
     "task": false
    }
   },
   "source": [
    "## Introduction\n",
    "\n",
    "We will use Python 3, [NumPy](https://numpy.org/), and [PyTorch](https://pytorch.org/) packages for implementation. This notebook has been tested under the latest stable release version.\n",
    "\n",
    "In this coding project, you will implement 4 generative models, i.e., energy-based model, flow-based model, variational auto-encoder, and generative adverserial network, to generate MNIST images.\n",
    "\n",
    "**We will implement a generative adversarial network, specifically a [Deep Convolutional Generative Adversarial Network](https://arxiv.org/abs/1511.06434) (DCGAN), in this notebook.**"
   ]
  },
  {
   "cell_type": "markdown",
   "id": "455cd281",
   "metadata": {
    "deletable": false,
    "editable": false,
    "nbgrader": {
     "cell_type": "markdown",
     "checksum": "d53ead84771a754bb0c551fa3317688e",
     "grade": false,
     "grade_id": "cell-ffacdab926dcdef6",
     "locked": true,
     "schema_version": 3,
     "solution": false,
     "task": false
    }
   },
   "source": [
    "In some cells and files you will see code blocks that look like this:\n",
    "\n",
    "```Python\n",
    "##############################################################################\n",
    "#                  TODO: You need to complete the code here                  #\n",
    "##############################################################################\n",
    "raise NotImplementedError()\n",
    "##############################################################################\n",
    "#                              END OF YOUR CODE                              #\n",
    "##############################################################################\n",
    "```\n",
    "\n",
    "You should replace `raise NotImplementedError()` with your own implementation based on the context, such as:\n",
    "\n",
    "```Python\n",
    "##############################################################################\n",
    "#                  TODO: You need to complete the code here                  #\n",
    "##############################################################################\n",
    "y = w * x + b\n",
    "##############################################################################\n",
    "#                              END OF YOUR CODE                              #\n",
    "##############################################################################\n",
    "\n",
    "```\n",
    "\n",
    "When completing the notebook, please adhere to the following rules:\n",
    "\n",
    "+ Do not write or modify any code outside of code blocks\n",
    "+ Do not add or delete any cells from the notebook.\n",
    "+ Run all cells before submission. We will not re-run the entire codebook during grading.\n",
    "\n",
    "**Finally, avoid plagiarism! Any student who violates academic integrity will be seriously dealt with and receive an F for the course.**"
   ]
  },
  {
   "cell_type": "markdown",
   "id": "17c3bbf1",
   "metadata": {
    "deletable": false,
    "editable": false,
    "nbgrader": {
     "cell_type": "markdown",
     "checksum": "95fb37518bcac0b504f0e33514d32f56",
     "grade": false,
     "grade_id": "cell-599bd6afccb34d60",
     "locked": true,
     "schema_version": 3,
     "solution": false,
     "task": false
    }
   },
   "source": [
    "### Task\n",
    "\n",
    "In this problem, you need to do class-conditioned generation on MNIST images by training a DCGAN. You should\n",
    "\n",
    "1. **Complete the code of the generator $G : (z, y) → x$ and the discriminator $D : (x, y) → [0, 1]$.**\n",
    "\n",
    "Both of them should be **fully convolutional networks (FCNs)** except for linear projection heads. For FCN, please refer to [this paper](https://arxiv.org/pdf/1411.4038.pdf) for details.\n",
    "\n",
    "2. **Implement the training procedure.**\n",
    "\n",
    "3. **Include necessary tricks applied in [DCGAN](https://arxiv.org/pdf/1511.06434.pdf).**\n",
    "\n",
    "We present an example of generated images using DCGAN in the following cell."
   ]
  },
  {
   "cell_type": "code",
   "execution_count": null,
   "id": "646d3387",
   "metadata": {
    "deletable": false,
    "editable": false,
    "nbgrader": {
     "cell_type": "code",
     "checksum": "72f819efa5ea54c7477890fde5263cbe",
     "grade": false,
     "grade_id": "cell-0cf7ad287c5ff88c",
     "locked": true,
     "schema_version": 3,
     "solution": false,
     "task": false
    }
   },
   "outputs": [],
   "source": [
    "import matplotlib.pyplot as plt\n",
    "import matplotlib.image as mpimg\n",
    "from matplotlib import rcParams\n",
    "\n",
    "%matplotlib inline\n",
    "\n",
    "# figure size in inches optional\n",
    "rcParams['figure.figsize'] = 6, 4\n",
    "plt.imshow(mpimg.imread('./gan/sample.png'))"
   ]
  },
  {
   "cell_type": "markdown",
   "id": "aaa645f3",
   "metadata": {
    "deletable": false,
    "editable": false,
    "nbgrader": {
     "cell_type": "markdown",
     "checksum": "c1b96093aa929a6b45a69e6bafbd70d9",
     "grade": false,
     "grade_id": "cell-53585dd2f2b21500",
     "locked": true,
     "schema_version": 3,
     "solution": false,
     "task": false
    }
   },
   "source": [
    "### Submission\n",
    "\n",
    "You need to submit your code (this notebook), your trained **generator** (named `./gan/gan_best.pth`), your generated images, and your report:\n",
    "\n",
    "+ **Code**\n",
    "\n",
    "Remember to run all the cells before submission. Remain your tuned hyperparameters unchanged.\n",
    "\n",
    "+ **Generator**\n",
    "\n",
    "In this notebook, we do not include codes to find the best model like the previous ones. You need to visualize generated images, manually select the best one, and save it as `./gan/gan_best.pth`. **Please do not submit any other checkpoints except for `./gan/gan_best.pth`!**\n",
    "\n",
    "+ **Generated Images**\n",
    "\n",
    "Please generate 100 images for each class (1000 in total), save it in `./gan/generated/`, and organize them as the following structure:\n",
    "\n",
    "```\n",
    "CodingProject3\n",
    "├── ...\n",
    "├── gan\n",
    "│   ├── gan_best.pth\n",
    "│   ├── generated\n",
    "│       └── 0\n",
    "│           ├── 0_00.png\n",
    "│           ├── ...\n",
    "│           ├── 0_99.png\n",
    "│       └── 1\n",
    "│           ├── 1_00.png\n",
    "│           ├── ...\n",
    "│           ├── 1_99.png\n",
    "│       └── ...\n",
    "│       └── 9\n",
    "│           ├── 9_00.png\n",
    "│           ├── ...\n",
    "│           ├── 9_99.png\n",
    "```\n",
    "\n",
    "Specifially, you should name the $j$-th generated image of class $i$ as `{i}_{j}.png`, and save it into folder `./gan/generated/{i}/`. Check the `make_dataset` method of Generator for details.\n",
    "\n",
    "+ **Report**\n",
    "\n",
    "Please include the conditioned generation results (i.e., generated images in a $10\\times 10$ array as above), the FID score, the standard deviation for each class, and other relevant statistics in your\n",
    "report. Note that you only need to write a single report for this coding project."
   ]
  },
  {
   "cell_type": "markdown",
   "id": "ddd40350",
   "metadata": {
    "deletable": false,
    "editable": false,
    "nbgrader": {
     "cell_type": "markdown",
     "checksum": "712834191d7d9151a8b8d58e6c288162",
     "grade": false,
     "grade_id": "cell-28a1b790adf8ec3d",
     "locked": true,
     "schema_version": 3,
     "solution": false,
     "task": false
    }
   },
   "source": [
    "### Grading\n",
    "\n",
    "We will evaluate your model by **computing the [FID score](https://en.wikipedia.org/wiki/Fr%C3%A9chet_inception_distance)**, as what we do for conditioned VAE.\n",
    "\n",
    "In addition, the standard deviation of your generated images within\n",
    "each class must **exceed a certain threshold**. Suppose the generated samples for\n",
    "each class are of size (number of samples, 28, 28) with pixel values range\n",
    "from 0 to 1, the standard deviation is given by `torch.std(samples, dim=0).mean()`. The thresholds for different digits are listed in the following table:\n",
    "\n",
    "| Digit | 0    | 1    | 2    | 3    | 4    | 5    | 6    | 7    | 8    | 9    |\n",
    "|-------|------|------|------|------|------|------|------|------|------|------|\n",
    "| Threshold   | 0.17 | 0.08 | 0.17 | 0.15 | 0.14 | 0.16 | 0.15 | 0.13 | 0.15 | 0.13 |"
   ]
  },
  {
   "cell_type": "markdown",
   "id": "3a90a8be",
   "metadata": {
    "deletable": false,
    "editable": false,
    "nbgrader": {
     "cell_type": "markdown",
     "checksum": "a2a67d6056a065d7dc06e787ff7d0e7d",
     "grade": false,
     "grade_id": "cell-527c7725f3508ba0",
     "locked": true,
     "schema_version": 3,
     "solution": false,
     "task": false
    }
   },
   "source": [
    "### Tips\n",
    "\n",
    "+ Monitoring the generated images in the training process. The quality of the samples helps judge the generator's ability to learn a diverse representation of the input data distribution.\n",
    "\n",
    "+ See [here](https://developers.google.com/machine-learning/gan/problems) for tricks to prevent mode collapse.\n",
    "\n",
    "+ Make sure your runs fine with the evaluation file in this notebook."
   ]
  },
  {
   "cell_type": "markdown",
   "id": "dd040c70",
   "metadata": {
    "deletable": false,
    "editable": false,
    "nbgrader": {
     "cell_type": "markdown",
     "checksum": "54854fcdc1556d353b55bc4d1a133674",
     "grade": false,
     "grade_id": "cell-2b4bea3e44a7b81b",
     "locked": true,
     "schema_version": 3,
     "solution": false,
     "task": false
    }
   },
   "source": [
    "## Set Up Code"
   ]
  },
  {
   "cell_type": "code",
   "execution_count": null,
   "id": "d8c2354b",
   "metadata": {
    "deletable": false,
    "editable": false,
    "nbgrader": {
     "cell_type": "code",
     "checksum": "b34bc8b23f9c8e480a9671ef3453e7ac",
     "grade": false,
     "grade_id": "cell-a551fcc5ff27fb87",
     "locked": true,
     "schema_version": 3,
     "solution": false,
     "task": false
    }
   },
   "outputs": [],
   "source": [
    "%load_ext autoreload\n",
    "%autoreload 2"
   ]
  },
  {
   "cell_type": "markdown",
   "id": "4eca3738",
   "metadata": {
    "deletable": false,
    "editable": false,
    "nbgrader": {
     "cell_type": "markdown",
     "checksum": "0bb447e0084709f0b673b1e91ba0aa1a",
     "grade": false,
     "grade_id": "cell-291232b1c59e4f02",
     "locked": true,
     "schema_version": 3,
     "solution": false,
     "task": false
    }
   },
   "source": [
    "If you use Colab in this coding project, please uncomment the code, fill the `GOOGLE_DRIVE_PATH_AFTER_MYDRIVE` and run the following cells to mount your Google drive. Then, the notebook can find the required file (i.e., utils.py). If you run the notebook locally, you can skip the following cells."
   ]
  },
  {
   "cell_type": "code",
   "execution_count": null,
   "id": "785a7720",
   "metadata": {},
   "outputs": [],
   "source": [
    "# from google.colab import drive\n",
    "# drive.mount('/content/drive')"
   ]
  },
  {
   "cell_type": "code",
   "execution_count": null,
   "id": "ca391e22",
   "metadata": {},
   "outputs": [],
   "source": [
    "# import os\n",
    "\n",
    "# # TODO: Fill in the Google Drive path where you uploaded the assignment\n",
    "# # Example: If you create a 2022SP folder and put all the files under CP1 folder, then '2022SP/CP1'\n",
    "# # GOOGLE_DRIVE_PATH_AFTER_MYDRIVE = '2022SP/CP1'\n",
    "# GOOGLE_DRIVE_PATH_AFTER_MYDRIVE = None \n",
    "# GOOGLE_DRIVE_PATH = os.path.join('drive', 'MyDrive', GOOGLE_DRIVE_PATH_AFTER_MYDRIVE)\n",
    "# print(os.listdir(GOOGLE_DRIVE_PATH))"
   ]
  },
  {
   "cell_type": "code",
   "execution_count": null,
   "id": "c62c2445",
   "metadata": {},
   "outputs": [],
   "source": [
    "# import sys\n",
    "# sys.path.append(GOOGLE_DRIVE_PATH)"
   ]
  },
  {
   "cell_type": "code",
   "execution_count": null,
   "id": "f6cd2080",
   "metadata": {
    "deletable": false,
    "editable": false,
    "nbgrader": {
     "cell_type": "code",
     "checksum": "0d5d6f96e1d7ce5df1315172b57173de",
     "grade": false,
     "grade_id": "cell-e11eaf041d72deda",
     "locked": true,
     "schema_version": 3,
     "solution": false,
     "task": false
    }
   },
   "outputs": [],
   "source": [
    "from utils import hello\n",
    "hello()"
   ]
  },
  {
   "cell_type": "markdown",
   "id": "cb9634e8",
   "metadata": {
    "deletable": false,
    "editable": false,
    "nbgrader": {
     "cell_type": "markdown",
     "checksum": "08adb7a09810871eb77c9f30cb89a86f",
     "grade": false,
     "grade_id": "cell-fe84c884133acb94",
     "locked": true,
     "schema_version": 3,
     "solution": false,
     "task": false
    }
   },
   "source": [
    "Finally, please run the following cell to import some base classes for implementation (no matter whether you use colab)."
   ]
  },
  {
   "cell_type": "code",
   "execution_count": null,
   "id": "cfad252c",
   "metadata": {
    "deletable": false,
    "editable": false,
    "nbgrader": {
     "cell_type": "code",
     "checksum": "d2be319ada9c3d55956fa58ab4267353",
     "grade": false,
     "grade_id": "cell-f4c64652a7cd2343",
     "locked": true,
     "schema_version": 3,
     "solution": false,
     "task": false
    }
   },
   "outputs": [],
   "source": [
    "from collections import deque\n",
    "from torch.utils.data import DataLoader\n",
    "from tqdm.autonotebook import tqdm\n",
    "\n",
    "import numpy as np\n",
    "import os\n",
    "import time\n",
    "import torch\n",
    "import torch.nn as nn\n",
    "import torch.nn.functional as F\n",
    "import torchvision\n",
    "\n",
    "from utils import save_model, load_model, train_set\n",
    "\n",
    "seed = 42\n",
    "np.random.seed(seed)\n",
    "torch.manual_seed(seed)\n",
    "torch.cuda.manual_seed(seed)\n",
    "torch.backends.cudnn.deterministic = True\n",
    "\n",
    "device = torch.device(\n",
    "    \"cuda\") if torch.cuda.is_available() else torch.device(\"cpu\")"
   ]
  },
  {
   "cell_type": "markdown",
   "id": "e46fbcf1",
   "metadata": {
    "deletable": false,
    "editable": false,
    "nbgrader": {
     "cell_type": "markdown",
     "checksum": "68d8aa04bb241cac9cde4fc5eb3b1926",
     "grade": false,
     "grade_id": "cell-4044c35c561f5278",
     "locked": true,
     "schema_version": 3,
     "solution": false,
     "task": false
    }
   },
   "source": [
    "## Generator\n",
    "\n",
    "Please implement your own generator module, which should be a fully convolutional network with linear projection heads."
   ]
  },
  {
   "cell_type": "code",
   "execution_count": null,
   "id": "588faeb0",
   "metadata": {
    "deletable": false,
    "nbgrader": {
     "cell_type": "code",
     "checksum": "589180800933f87ef269321d8b832bf8",
     "grade": false,
     "grade_id": "cell-59ccf1af419b1be5",
     "locked": false,
     "schema_version": 3,
     "solution": true,
     "task": false
    }
   },
   "outputs": [],
   "source": [
    "class Generator(nn.Module):\n",
    "    def __init__(self, latent_size):\n",
    "        super().__init__()\n",
    "        self.label_size = label_size = 10\n",
    "        self.latent_size = latent_size\n",
    "        \n",
    "        ##############################################################################\n",
    "        #                  TODO: You need to complete the code here                  #\n",
    "        ##############################################################################\n",
    "        # YOUR CODE HERE\n",
    "        raise NotImplementedError()\n",
    "        ##############################################################################\n",
    "        #                              END OF YOUR CODE                              #\n",
    "        ##############################################################################\n",
    "\n",
    "    def forward(self, z, label):\n",
    "        ##############################################################################\n",
    "        #                  TODO: You need to complete the code here                  #\n",
    "        ##############################################################################\n",
    "        # YOUR CODE HERE\n",
    "        raise NotImplementedError()\n",
    "        ##############################################################################\n",
    "        #                              END OF YOUR CODE                              #\n",
    "        ##############################################################################\n",
    "\n",
    "    @torch.no_grad()\n",
    "    def sample_images(self, label, save=True, save_dir='./gan'):\n",
    "        self.eval()\n",
    "        n_samples = label.shape[0]\n",
    "        samples = self(torch.randn(\n",
    "            n_samples, self.latent_size).to(label.device), label)\n",
    "        imgs = samples.view(n_samples, 1, 28, 28)\n",
    "        if save:\n",
    "            os.makedirs(save_dir, exist_ok=True)\n",
    "            torchvision.utils.save_image(imgs, os.path.join(\n",
    "                save_dir, 'sample.png'), nrow=int(np.sqrt(n_samples)))\n",
    "        return imgs\n",
    "    \n",
    "    @torch.no_grad()\n",
    "    def make_dataset(self, n_samples_per_class=10, save=True, save_dir='./gan/generated/'):\n",
    "        self.eval()\n",
    "        device = next(self.parameters()).device\n",
    "        for i in range(self.label_size):\n",
    "            label = i * torch.ones(n_samples_per_class, dtype=torch.long, device=device)\n",
    "            samples = self(torch.randn(\n",
    "                n_samples_per_class, self.latent_size).to(device), label)\n",
    "            imgs = samples.view(n_samples_per_class, 1, 28, 28)\n",
    "            print(f\"Standard deviation of number {i}: {torch.std(imgs, dim=0).mean().item()}\")\n",
    "            if save:\n",
    "                os.makedirs(os.path.join(save_dir, str(i)), exist_ok=True)\n",
    "                for j in range(n_samples_per_class):\n",
    "                    torchvision.utils.save_image(imgs[j], os.path.join(save_dir, str(i), \"{}_{:>03d}.png\".format(i, j)))"
   ]
  },
  {
   "cell_type": "markdown",
   "id": "c522ef2d",
   "metadata": {
    "deletable": false,
    "editable": false,
    "nbgrader": {
     "cell_type": "markdown",
     "checksum": "c91c3ec3373a8bbb2a1429a7c2bdb182",
     "grade": false,
     "grade_id": "cell-fb5d026a45cefc66",
     "locked": true,
     "schema_version": 3,
     "solution": false,
     "task": false
    }
   },
   "source": [
    "## Discriminator\n",
    "\n",
    "Please implement your own discriminator module, which should also be a fully convolutional network with linear projection heads.\n",
    "\n",
    "**Hint**: Pay attention to the shape of your output and the shape of label."
   ]
  },
  {
   "cell_type": "code",
   "execution_count": null,
   "id": "a4f8e820",
   "metadata": {
    "deletable": false,
    "nbgrader": {
     "cell_type": "code",
     "checksum": "fa175f9ddebe8c6576006607e624ded2",
     "grade": false,
     "grade_id": "cell-423cd6fc3a090e6d",
     "locked": false,
     "schema_version": 3,
     "solution": true,
     "task": false
    }
   },
   "outputs": [],
   "source": [
    "class Discriminator(nn.Module):\n",
    "    def __init__(self):\n",
    "        super().__init__()\n",
    "        self.label_size = label_size = 10\n",
    "        \n",
    "        ##############################################################################\n",
    "        #                  TODO: You need to complete the code here                  #\n",
    "        ##############################################################################\n",
    "        # YOUR CODE HERE\n",
    "        raise NotImplementedError()\n",
    "        ##############################################################################\n",
    "        #                              END OF YOUR CODE                              #\n",
    "        ##############################################################################\n",
    "\n",
    "    def forward(self, img, label):\n",
    "        ##############################################################################\n",
    "        #                  TODO: You need to complete the code here                  #\n",
    "        ##############################################################################\n",
    "        # YOUR CODE HERE\n",
    "        raise NotImplementedError()\n",
    "        ##############################################################################\n",
    "        #                              END OF YOUR CODE                              #\n",
    "        ##############################################################################"
   ]
  },
  {
   "cell_type": "markdown",
   "id": "63ca474a",
   "metadata": {
    "deletable": false,
    "editable": false,
    "nbgrader": {
     "cell_type": "markdown",
     "checksum": "cda6f3c0c7022a425b7d75857a228110",
     "grade": false,
     "grade_id": "cell-f3a94f2efdf52eb8",
     "locked": true,
     "schema_version": 3,
     "solution": false,
     "task": false
    }
   },
   "source": [
    "## Training\n",
    "\n",
    "We have implemented the skeleton of train function. Please complete the missing loss computation part."
   ]
  },
  {
   "cell_type": "code",
   "execution_count": null,
   "id": "86f7857a",
   "metadata": {
    "deletable": false,
    "nbgrader": {
     "cell_type": "code",
     "checksum": "af946accb82492bfa5a1145df649baa3",
     "grade": false,
     "grade_id": "cell-e952fc9b436526b4",
     "locked": false,
     "schema_version": 3,
     "solution": true,
     "task": false
    }
   },
   "outputs": [],
   "source": [
    "def train(n_epochs, generator, discriminator, train_loader, optimizer_g, optimizer_d, device=torch.device('cuda'), save_interval=10):\n",
    "    generator.to(device)\n",
    "    discriminator.to(device)\n",
    "\n",
    "    for epoch in range(n_epochs):\n",
    "        train_g_loss = train_d_loss = 0\n",
    "        n_batches = 0\n",
    "        pbar = tqdm(total=len(train_loader.dataset))\n",
    "        for i, (x, y) in enumerate(train_loader):\n",
    "            # compute loss\n",
    "            n_batches += x.shape[0]\n",
    "            x = x.to(device)\n",
    "            y = y.to(device)\n",
    "            ##############################################################################\n",
    "            #                  TODO: You need to complete the code here                  #\n",
    "            ##############################################################################\n",
    "            # YOUR CODE HERE\n",
    "            raise NotImplementedError()\n",
    "            ##############################################################################\n",
    "            #                              END OF YOUR CODE                              #\n",
    "            ##############################################################################\n",
    "\n",
    "            train_g_loss += g_loss.sum().item()\n",
    "            train_d_loss += d_loss.sum().item()\n",
    "\n",
    "            pbar.update(x.size(0))\n",
    "            pbar.set_description('Train Epoch {}, Generator Loss: {:.6f}, Discriminator Loss: {:.6f}'.format(\n",
    "                epoch + 1, train_g_loss / n_batches, train_d_loss / n_batches))\n",
    "        pbar.close()\n",
    "\n",
    "        if (epoch + 1) % save_interval == 0:\n",
    "            os.makedirs(f'./gan/{epoch + 1}', exist_ok=True)\n",
    "            save_model(f'./gan/{epoch + 1}/gan.pth', generator, optimizer_g,\n",
    "                       discriminator=discriminator, optimizer_d=optimizer_d)\n",
    "\n",
    "            # sample and save images\n",
    "            label = torch.arange(10).repeat(10).to(device)\n",
    "            generator.sample_images(\n",
    "                label, save=True, save_dir=f\"./gan/{epoch + 1}/\")"
   ]
  },
  {
   "cell_type": "markdown",
   "id": "ebe4116d",
   "metadata": {
    "deletable": false,
    "editable": false,
    "nbgrader": {
     "cell_type": "markdown",
     "checksum": "81f42ac9cf6e245edc7a2236059d1d11",
     "grade": false,
     "grade_id": "cell-7db259e660f5b395",
     "locked": true,
     "schema_version": 3,
     "solution": false,
     "task": false
    }
   },
   "source": [
    "## Enjoy\n",
    "\n",
    "Tune your hyperparameters and make your conditional DCGAN work. Good luck!"
   ]
  },
  {
   "cell_type": "code",
   "execution_count": null,
   "id": "d7629c75",
   "metadata": {},
   "outputs": [],
   "source": [
    "train_loader = DataLoader(train_set, batch_size=128, pin_memory=True,\n",
    "                          drop_last=False, shuffle=True, num_workers=2)\n",
    "\n",
    "g = Generator(100)\n",
    "d = Discriminator()\n",
    "\n",
    "optimizer_g = torch.optim.Adam(g.parameters(), lr=2e-4, betas=(0.5, 0.999))\n",
    "optimizer_d = torch.optim.Adam(d.parameters(), lr=2e-4, betas=(0.5, 0.999))"
   ]
  },
  {
   "cell_type": "markdown",
   "id": "6dc19543",
   "metadata": {},
   "source": [
    "Now you can start your training. Please keep in mind that this cell may **NOT** be run when we evaluate your assignment!"
   ]
  },
  {
   "cell_type": "code",
   "execution_count": null,
   "id": "e19ce8fb",
   "metadata": {},
   "outputs": [],
   "source": [
    "# feel free to change training hyper-parameters!\n",
    "train(150, g, d, train_loader, optimizer_g, optimizer_d, device=device)"
   ]
  },
  {
   "cell_type": "markdown",
   "id": "eb98064c",
   "metadata": {},
   "source": [
    "Generate samples. Make sure your code runs fine with the following cell!"
   ]
  },
  {
   "cell_type": "code",
   "execution_count": null,
   "id": "252e51b2",
   "metadata": {
    "deletable": false,
    "editable": false,
    "nbgrader": {
     "cell_type": "code",
     "checksum": "ccdc57fa8cac4c392d3a0d104dd16e44",
     "grade": false,
     "grade_id": "cell-9cb0b2c4b2500a73",
     "locked": true,
     "schema_version": 3,
     "solution": false,
     "task": false
    }
   },
   "outputs": [],
   "source": [
    "state_dict = load_model('./gan/gan_best.pth')[0]\n",
    "g.load_state_dict(state_dict)\n",
    "g.make_dataset(n_samples_per_class=100)"
   ]
  },
  {
   "cell_type": "markdown",
   "id": "0855408b",
   "metadata": {
    "deletable": false,
    "editable": false,
    "nbgrader": {
     "cell_type": "markdown",
     "checksum": "4b51f1b1c42c303fb59368080327be1c",
     "grade": false,
     "grade_id": "cell-b2a25a74aeb23f85",
     "locked": true,
     "schema_version": 3,
     "solution": false,
     "task": false
    }
   },
   "source": [
    "## Evaluation\n",
    "\n",
    "Make sure your code runs fine with the following cell!"
   ]
  },
  {
   "cell_type": "code",
   "execution_count": null,
   "id": "cb630939",
   "metadata": {
    "deletable": false,
    "editable": false,
    "nbgrader": {
     "cell_type": "code",
     "checksum": "0523390c2c961b6d3637dff33f568fda",
     "grade": false,
     "grade_id": "cell-129d2a9b70fc707c",
     "locked": true,
     "schema_version": 3,
     "solution": false,
     "task": false
    }
   },
   "outputs": [],
   "source": [
    "!python evaluate_cgen.py --gan"
   ]
  }
 ],
 "metadata": {
  "kernelspec": {
   "display_name": "Python 3 (ipykernel)",
   "language": "python",
   "name": "python3"
  },
  "language_info": {
   "codemirror_mode": {
    "name": "ipython",
    "version": 3
   },
   "file_extension": ".py",
   "mimetype": "text/x-python",
   "name": "python",
   "nbconvert_exporter": "python",
   "pygments_lexer": "ipython3",
   "version": "3.8.10"
  },
  "toc": {
   "base_numbering": 1,
   "nav_menu": {},
   "number_sections": false,
   "sideBar": true,
   "skip_h1_title": false,
   "title_cell": "Table of Contents",
   "title_sidebar": "Contents",
   "toc_cell": false,
   "toc_position": {},
   "toc_section_display": true,
   "toc_window_display": false
  }
 },
 "nbformat": 4,
 "nbformat_minor": 5
}
