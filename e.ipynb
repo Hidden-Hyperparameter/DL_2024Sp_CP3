{
 "cells": [
  {
   "cell_type": "code",
   "execution_count": 1,
   "metadata": {},
   "outputs": [
    {
     "name": "stdout",
     "output_type": "stream",
     "text": [
      "True\n"
     ]
    }
   ],
   "source": [
    "import torch\n",
    "print(torch.cuda.is_available())"
   ]
  },
  {
   "cell_type": "code",
   "execution_count": 12,
   "metadata": {},
   "outputs": [
    {
     "name": "stdout",
     "output_type": "stream",
     "text": [
      "tensor([3., 4., 5.])\n",
      "tensor([1., 2., 3.])\n",
      "None\n"
     ]
    }
   ],
   "source": [
    "x = torch.tensor([1.,2,3])\n",
    "x.grad = torch.tensor([3.,4,5])\n",
    "print(x.grad)\n",
    "y = x * 1\n",
    "x[2]=4\n",
    "print(y)\n",
    "print(y.grad)"
   ]
  },
  {
   "cell_type": "code",
   "execution_count": 6,
   "metadata": {},
   "outputs": [
    {
     "data": {
      "text/plain": [
       "tensor(3.1416)"
      ]
     },
     "execution_count": 6,
     "metadata": {},
     "output_type": "execute_result"
    }
   ],
   "source": [
    "torch.logit(torch.sigmoid(torch.tensor(torch.pi)))"
   ]
  },
  {
   "cell_type": "code",
   "execution_count": 1,
   "metadata": {},
   "outputs": [],
   "source": [
    "data = \"\"\"\n",
    "success\n",
    "failure\n",
    "failure\n",
    "failure\n",
    "success\n",
    "failure\n",
    "success\n",
    "failure\n",
    "failure\n",
    "success\n",
    "success\n",
    "success\n",
    "success\n",
    "failure\n",
    "success\n",
    "failure\n",
    "failure\n",
    "success\n",
    "success\n",
    "failure\n",
    "failure\n",
    "failure\n",
    "failure\n",
    "failure\n",
    "success\n",
    "success\n",
    "failure\n",
    "success\n",
    "failure\n",
    "success\n",
    "success\n",
    "success\n",
    "failure\n",
    "success\n",
    "success\n",
    "failure\n",
    "success\n",
    "failure\n",
    "failure\n",
    "success\n",
    "success\n",
    "success\n",
    "failure\n",
    "failure\n",
    "success\n",
    "success\n",
    "failure\n",
    "failure\n",
    "success\n",
    "success\n",
    "success\n",
    "failure\n",
    "failure\n",
    "failure\n",
    "failure\n",
    "success\n",
    "failure\n",
    "success\n",
    "failure\n",
    "success\n",
    "success\n",
    "failure\n",
    "failure\n",
    "success\n",
    "failure\n",
    "success\n",
    "success\n",
    "failure\n",
    "success\n",
    "success\n",
    "success\n",
    "failure\n",
    "failure\n",
    "success\n",
    "failure\n",
    "failure\n",
    "failure\n",
    "failure\n",
    "success\n",
    "failure\n",
    "success\n",
    "success\n",
    "success\n",
    "failure\n",
    "failure\n",
    "failure\n",
    "failure\n",
    "success\n",
    "failure\n",
    "failure\n",
    "success\n",
    "failure\n",
    "failure\n",
    "success\n",
    "failure\n",
    "failure\n",
    "failure\n",
    "success\n",
    "success\n",
    "success\n",
    "failure\n",
    "success\n",
    "failure\n",
    "success\n",
    "failure\n",
    "failure\n",
    "success\n",
    "success\n",
    "failure\n",
    "success\n",
    "failure\n",
    "failure\n",
    "success\n",
    "failure\n",
    "success\n",
    "success\n",
    "success\n",
    "success\n",
    "failure\n",
    "failure\n",
    "failure\n",
    "failure\n",
    "failure\n",
    "failure\n",
    "success\n",
    "failure\n",
    "success\n",
    "failure\n",
    "failure\n",
    "failure\n",
    "failure\n",
    "failure\n",
    "failure\n",
    "success\n",
    "failure\n",
    "failure\n",
    "success\n",
    "failure\n",
    "failure\n",
    "success\n",
    "failure\n",
    "success\n",
    "success\n",
    "failure\n",
    "failure\n",
    "failure\n",
    "failure\n",
    "success\n",
    "failure\n",
    "success\n",
    "failure\n",
    "success\n",
    "success\n",
    "failure\n",
    "failure\n",
    "success\n",
    "failure\n",
    "success\n",
    "failure\n",
    "success\n",
    "failure\n",
    "failure\n",
    "failure\n",
    "failure\n",
    "failure\n",
    "failure\n",
    "success\n",
    "failure\n",
    "failure\n",
    "success\n",
    "failure\n",
    "failure\n",
    "success\n",
    "failure\n",
    "failure\n",
    "failure\n",
    "failure\n",
    "failure\n",
    "failure\n",
    "success\n",
    "success\n",
    "success\n",
    "success\n",
    "failure\n",
    "failure\n",
    "failure\n",
    "failure\n",
    "failure\n",
    "failure\n",
    "success\n",
    "failure\n",
    "failure\n",
    "failure\n",
    "failure\n",
    "success\n",
    "success\n",
    "failure\n",
    "success\n",
    "success\n",
    "failure\n",
    "success\n",
    "failure\n",
    "success\n",
    "success\n",
    "success\n",
    "failure\n",
    "failure\n",
    "success\n",
    "failure\n",
    "failure\n",
    "failure\n",
    "failure\n",
    "failure\n",
    "success\n",
    "failure\n",
    "success\n",
    "failure\n",
    "success\n",
    "success\n",
    "failure\n",
    "failure\n",
    "success\n",
    "failure\n",
    "failure\n",
    "failure\n",
    "failure\n",
    "failure\n",
    "success\n",
    "success\n",
    "success\n",
    "success\n",
    "success\n",
    "failure\n",
    "failure\n",
    "failure\n",
    "success\n",
    "success\n",
    "success\n",
    "failure\n",
    "failure\n",
    "failure\n",
    "failure\n",
    "success\n",
    "failure\n",
    "failure\n",
    "failure\n",
    "failure\n",
    "failure\n",
    "failure\n",
    "success\n",
    "failure\n",
    "success\n",
    "failure\n",
    "success\n",
    "success\n",
    "success\n",
    "failure\n",
    "failure\n",
    "success\n",
    "failure\n",
    "success\n",
    "failure\n",
    "failure\n",
    "failure\n",
    "failure\n",
    "success\n",
    "failure\n",
    "success\n",
    "success\n",
    "failure\n",
    "success\n",
    "success\n",
    "failure\n",
    "failure\n",
    "failure\n",
    "failure\n",
    "failure\n",
    "success\n",
    "success\n",
    "success\n",
    "failure\n",
    "failure\n",
    "failure\n",
    "failure\n",
    "success\n",
    "success\n",
    "failure\n",
    "success\n",
    "success\n",
    "failure\n",
    "success\n",
    "failure\n",
    "success\n",
    "failure\n",
    "success\n",
    "failure\n",
    "success\n",
    "failure\n",
    "success\n",
    "failure\n",
    "failure\n",
    "failure\n",
    "success\n",
    "success\n",
    "failure\n",
    "success\n",
    "success\n",
    "failure\n",
    "success\n",
    "success\n",
    "success\n",
    "success\n",
    "success\n",
    "failure\n",
    "failure\n",
    "success\n",
    "failure\n",
    "failure\n",
    "success\n",
    "failure\n",
    "success\n",
    "failure\n",
    "failure\n",
    "success\n",
    "success\n",
    "success\n",
    "success\n",
    "failure\n",
    "\"\"\""
   ]
  },
  {
   "cell_type": "code",
   "execution_count": 3,
   "metadata": {},
   "outputs": [
    {
     "name": "stdout",
     "output_type": "stream",
     "text": [
      "186\n"
     ]
    },
    {
     "ename": "",
     "evalue": "",
     "output_type": "error",
     "traceback": [
      "\u001b[1;31mThe Kernel crashed while executing code in the current cell or a previous cell. \n",
      "\u001b[1;31mPlease review the code in the cell(s) to identify a possible cause of the failure. \n",
      "\u001b[1;31mClick <a href='https://aka.ms/vscodeJupyterKernelCrash'>here</a> for more info. \n",
      "\u001b[1;31mView Jupyter <a href='command:jupyter.viewOutput'>log</a> for further details."
     ]
    }
   ],
   "source": [
    "index = -1\n",
    "i = 0\n",
    "while True:\n",
    "    index = data.find('failure',index+1)\n",
    "    i += 1\n",
    "    if index==-1:\n",
    "        break\n",
    "print(i)"
   ]
  },
  {
   "cell_type": "code",
   "execution_count": 2,
   "metadata": {},
   "outputs": [
    {
     "data": {
      "text/plain": [
       "tensor([[1., 0., 0., 0., 0., 0., 0., 0., 0., 0.],\n",
       "        [0., 1., 0., 0., 0., 0., 0., 0., 0., 0.],\n",
       "        [0., 0., 1., 0., 0., 0., 0., 0., 0., 0.],\n",
       "        [0., 0., 0., 1., 0., 0., 0., 0., 0., 0.],\n",
       "        [0., 0., 0., 0., 1., 0., 0., 0., 0., 0.],\n",
       "        [0., 0., 0., 0., 0., 1., 0., 0., 0., 0.],\n",
       "        [0., 0., 0., 0., 0., 0., 1., 0., 0., 0.],\n",
       "        [0., 0., 0., 0., 0., 0., 0., 1., 0., 0.],\n",
       "        [0., 0., 0., 0., 0., 0., 0., 0., 1., 0.],\n",
       "        [0., 0., 0., 0., 0., 0., 0., 0., 0., 1.],\n",
       "        [1., 0., 0., 0., 0., 0., 0., 0., 0., 0.],\n",
       "        [0., 1., 0., 0., 0., 0., 0., 0., 0., 0.],\n",
       "        [0., 0., 1., 0., 0., 0., 0., 0., 0., 0.],\n",
       "        [0., 0., 0., 1., 0., 0., 0., 0., 0., 0.],\n",
       "        [0., 0., 0., 0., 1., 0., 0., 0., 0., 0.],\n",
       "        [0., 0., 0., 0., 0., 1., 0., 0., 0., 0.],\n",
       "        [0., 0., 0., 0., 0., 0., 1., 0., 0., 0.],\n",
       "        [0., 0., 0., 0., 0., 0., 0., 1., 0., 0.],\n",
       "        [0., 0., 0., 0., 0., 0., 0., 0., 1., 0.],\n",
       "        [0., 0., 0., 0., 0., 0., 0., 0., 0., 1.],\n",
       "        [1., 0., 0., 0., 0., 0., 0., 0., 0., 0.],\n",
       "        [0., 1., 0., 0., 0., 0., 0., 0., 0., 0.],\n",
       "        [0., 0., 1., 0., 0., 0., 0., 0., 0., 0.],\n",
       "        [0., 0., 0., 1., 0., 0., 0., 0., 0., 0.],\n",
       "        [0., 0., 0., 0., 1., 0., 0., 0., 0., 0.],\n",
       "        [0., 0., 0., 0., 0., 1., 0., 0., 0., 0.],\n",
       "        [0., 0., 0., 0., 0., 0., 1., 0., 0., 0.],\n",
       "        [0., 0., 0., 0., 0., 0., 0., 1., 0., 0.],\n",
       "        [0., 0., 0., 0., 0., 0., 0., 0., 1., 0.],\n",
       "        [0., 0., 0., 0., 0., 0., 0., 0., 0., 1.],\n",
       "        [1., 0., 0., 0., 0., 0., 0., 0., 0., 0.],\n",
       "        [0., 1., 0., 0., 0., 0., 0., 0., 0., 0.],\n",
       "        [0., 0., 1., 0., 0., 0., 0., 0., 0., 0.],\n",
       "        [0., 0., 0., 1., 0., 0., 0., 0., 0., 0.],\n",
       "        [0., 0., 0., 0., 1., 0., 0., 0., 0., 0.],\n",
       "        [0., 0., 0., 0., 0., 1., 0., 0., 0., 0.],\n",
       "        [0., 0., 0., 0., 0., 0., 1., 0., 0., 0.],\n",
       "        [0., 0., 0., 0., 0., 0., 0., 1., 0., 0.],\n",
       "        [0., 0., 0., 0., 0., 0., 0., 0., 1., 0.],\n",
       "        [0., 0., 0., 0., 0., 0., 0., 0., 0., 1.],\n",
       "        [1., 0., 0., 0., 0., 0., 0., 0., 0., 0.],\n",
       "        [0., 1., 0., 0., 0., 0., 0., 0., 0., 0.],\n",
       "        [0., 0., 1., 0., 0., 0., 0., 0., 0., 0.],\n",
       "        [0., 0., 0., 1., 0., 0., 0., 0., 0., 0.],\n",
       "        [0., 0., 0., 0., 1., 0., 0., 0., 0., 0.],\n",
       "        [0., 0., 0., 0., 0., 1., 0., 0., 0., 0.],\n",
       "        [0., 0., 0., 0., 0., 0., 1., 0., 0., 0.],\n",
       "        [0., 0., 0., 0., 0., 0., 0., 1., 0., 0.],\n",
       "        [0., 0., 0., 0., 0., 0., 0., 0., 1., 0.],\n",
       "        [0., 0., 0., 0., 0., 0., 0., 0., 0., 1.],\n",
       "        [1., 0., 0., 0., 0., 0., 0., 0., 0., 0.],\n",
       "        [0., 1., 0., 0., 0., 0., 0., 0., 0., 0.],\n",
       "        [0., 0., 1., 0., 0., 0., 0., 0., 0., 0.],\n",
       "        [0., 0., 0., 1., 0., 0., 0., 0., 0., 0.],\n",
       "        [0., 0., 0., 0., 1., 0., 0., 0., 0., 0.],\n",
       "        [0., 0., 0., 0., 0., 1., 0., 0., 0., 0.],\n",
       "        [0., 0., 0., 0., 0., 0., 1., 0., 0., 0.],\n",
       "        [0., 0., 0., 0., 0., 0., 0., 1., 0., 0.],\n",
       "        [0., 0., 0., 0., 0., 0., 0., 0., 1., 0.],\n",
       "        [0., 0., 0., 0., 0., 0., 0., 0., 0., 1.],\n",
       "        [1., 0., 0., 0., 0., 0., 0., 0., 0., 0.],\n",
       "        [0., 1., 0., 0., 0., 0., 0., 0., 0., 0.],\n",
       "        [0., 0., 1., 0., 0., 0., 0., 0., 0., 0.],\n",
       "        [0., 0., 0., 1., 0., 0., 0., 0., 0., 0.],\n",
       "        [0., 0., 0., 0., 1., 0., 0., 0., 0., 0.],\n",
       "        [0., 0., 0., 0., 0., 1., 0., 0., 0., 0.],\n",
       "        [0., 0., 0., 0., 0., 0., 1., 0., 0., 0.],\n",
       "        [0., 0., 0., 0., 0., 0., 0., 1., 0., 0.],\n",
       "        [0., 0., 0., 0., 0., 0., 0., 0., 1., 0.],\n",
       "        [0., 0., 0., 0., 0., 0., 0., 0., 0., 1.],\n",
       "        [1., 0., 0., 0., 0., 0., 0., 0., 0., 0.],\n",
       "        [0., 1., 0., 0., 0., 0., 0., 0., 0., 0.],\n",
       "        [0., 0., 1., 0., 0., 0., 0., 0., 0., 0.],\n",
       "        [0., 0., 0., 1., 0., 0., 0., 0., 0., 0.],\n",
       "        [0., 0., 0., 0., 1., 0., 0., 0., 0., 0.],\n",
       "        [0., 0., 0., 0., 0., 1., 0., 0., 0., 0.],\n",
       "        [0., 0., 0., 0., 0., 0., 1., 0., 0., 0.],\n",
       "        [0., 0., 0., 0., 0., 0., 0., 1., 0., 0.],\n",
       "        [0., 0., 0., 0., 0., 0., 0., 0., 1., 0.],\n",
       "        [0., 0., 0., 0., 0., 0., 0., 0., 0., 1.],\n",
       "        [1., 0., 0., 0., 0., 0., 0., 0., 0., 0.],\n",
       "        [0., 1., 0., 0., 0., 0., 0., 0., 0., 0.],\n",
       "        [0., 0., 1., 0., 0., 0., 0., 0., 0., 0.],\n",
       "        [0., 0., 0., 1., 0., 0., 0., 0., 0., 0.],\n",
       "        [0., 0., 0., 0., 1., 0., 0., 0., 0., 0.],\n",
       "        [0., 0., 0., 0., 0., 1., 0., 0., 0., 0.],\n",
       "        [0., 0., 0., 0., 0., 0., 1., 0., 0., 0.],\n",
       "        [0., 0., 0., 0., 0., 0., 0., 1., 0., 0.],\n",
       "        [0., 0., 0., 0., 0., 0., 0., 0., 1., 0.],\n",
       "        [0., 0., 0., 0., 0., 0., 0., 0., 0., 1.],\n",
       "        [1., 0., 0., 0., 0., 0., 0., 0., 0., 0.],\n",
       "        [0., 1., 0., 0., 0., 0., 0., 0., 0., 0.],\n",
       "        [0., 0., 1., 0., 0., 0., 0., 0., 0., 0.],\n",
       "        [0., 0., 0., 1., 0., 0., 0., 0., 0., 0.],\n",
       "        [0., 0., 0., 0., 1., 0., 0., 0., 0., 0.],\n",
       "        [0., 0., 0., 0., 0., 1., 0., 0., 0., 0.],\n",
       "        [0., 0., 0., 0., 0., 0., 1., 0., 0., 0.],\n",
       "        [0., 0., 0., 0., 0., 0., 0., 1., 0., 0.],\n",
       "        [0., 0., 0., 0., 0., 0., 0., 0., 1., 0.],\n",
       "        [0., 0., 0., 0., 0., 0., 0., 0., 0., 1.]])"
      ]
     },
     "execution_count": 2,
     "metadata": {},
     "output_type": "execute_result"
    }
   ],
   "source": [
    "torch.eye(10).repeat(10, 1)"
   ]
  },
  {
   "cell_type": "code",
   "execution_count": 20,
   "metadata": {},
   "outputs": [],
   "source": [
    "x = torch.tensor([[1,2,3],[4,5,6],[7,8,9],[10,11,12],[13,14,15]])\n",
    "y = torch.tensor([0,1,2,2,1])"
   ]
  },
  {
   "cell_type": "code",
   "execution_count": 21,
   "metadata": {},
   "outputs": [
    {
     "name": "stdout",
     "output_type": "stream",
     "text": [
      "tensor([[0],\n",
      "        [1],\n",
      "        [2],\n",
      "        [2],\n",
      "        [1]])\n"
     ]
    }
   ],
   "source": [
    "print(y.unsqueeze(1))"
   ]
  },
  {
   "cell_type": "code",
   "execution_count": 22,
   "metadata": {},
   "outputs": [
    {
     "name": "stdout",
     "output_type": "stream",
     "text": [
      "tensor([[ 1,  0,  0],\n",
      "        [ 0,  5,  0],\n",
      "        [ 0,  0,  9],\n",
      "        [ 0,  0, 12],\n",
      "        [ 0, 14,  0]])\n"
     ]
    }
   ],
   "source": [
    "print(x * torch.scatter(input=torch.zeros_like(x),index=y.unsqueeze(1),value=1,dim=1))"
   ]
  },
  {
   "cell_type": "code",
   "execution_count": 23,
   "metadata": {},
   "outputs": [
    {
     "name": "stdout",
     "output_type": "stream",
     "text": [
      "tensor([[1, 0, 0],\n",
      "        [0, 1, 0],\n",
      "        [0, 0, 1],\n",
      "        [0, 0, 1],\n",
      "        [0, 1, 0]])\n",
      "tensor([[1, 0, 0],\n",
      "        [0, 1, 0],\n",
      "        [0, 0, 1],\n",
      "        [0, 0, 1],\n",
      "        [0, 1, 0]])\n"
     ]
    }
   ],
   "source": [
    "input = torch.zeros_like(x)\n",
    "indices = y\n",
    "print(input.scatter(1, indices.unsqueeze(1), 1))\n",
    "print(torch.scatter(input,1, indices.unsqueeze(1), 1))"
   ]
  },
  {
   "cell_type": "code",
   "execution_count": 24,
   "metadata": {},
   "outputs": [
    {
     "data": {
      "text/plain": [
       "tensor([[0],\n",
       "        [1],\n",
       "        [2],\n",
       "        [2],\n",
       "        [1]])"
      ]
     },
     "execution_count": 24,
     "metadata": {},
     "output_type": "execute_result"
    }
   ],
   "source": [
    "torch.zeros_like(x)\n",
    "torch.tensor([[y[i]] for i in range(len(y))])"
   ]
  },
  {
   "cell_type": "code",
   "execution_count": 25,
   "metadata": {},
   "outputs": [
    {
     "name": "stdout",
     "output_type": "stream",
     "text": [
      "tensor([[1, 0, 0],\n",
      "        [4, 0, 0],\n",
      "        [7, 0, 0],\n",
      "        [0, 0, 0],\n",
      "        [0, 0, 0]])\n"
     ]
    }
   ],
   "source": [
    "print( x * torch.scatter(input=torch.zeros_like(x),index=torch.tensor([[y[i]] for i in range(len(y))]),src=torch.ones_like(x),dim=0))"
   ]
  },
  {
   "cell_type": "code",
   "execution_count": 26,
   "metadata": {},
   "outputs": [
    {
     "name": "stdout",
     "output_type": "stream",
     "text": [
      "Help on built-in function scatter in module torch:\n",
      "\n",
      "scatter(...)\n",
      "    scatter(input, dim, index, src) -> Tensor\n",
      "    \n",
      "    Out-of-place version of :meth:`torch.Tensor.scatter_`\n",
      "\n"
     ]
    }
   ],
   "source": [
    "help(torch.scatter)"
   ]
  },
  {
   "cell_type": "code",
   "execution_count": 27,
   "metadata": {},
   "outputs": [],
   "source": [
    "label = [1,2,3,3,3,3]\n",
    "# target = torch.tensor([\n",
    "#     [0,1,0,0],\n",
    "#     [0,0,1,0],\n",
    "#     [0,0,0,1],\n",
    "#     [0,0,0,1],\n",
    "#     [0,0,0,1],\n",
    "#     [0,0,0,1],\n",
    "# ]\n",
    "# )\n",
    "num_labels = 4"
   ]
  },
  {
   "cell_type": "code",
   "execution_count": 28,
   "metadata": {},
   "outputs": [
    {
     "name": "stdout",
     "output_type": "stream",
     "text": [
      "tensor([[0, 1],\n",
      "        [1, 2],\n",
      "        [2, 3],\n",
      "        [3, 3],\n",
      "        [4, 3],\n",
      "        [5, 3]])\n"
     ]
    }
   ],
   "source": [
    "index = torch.tensor([[i,label[i]] for i in range(len(label))])\n",
    "print(index)"
   ]
  },
  {
   "cell_type": "code",
   "execution_count": 29,
   "metadata": {},
   "outputs": [
    {
     "name": "stdout",
     "output_type": "stream",
     "text": [
      "tensor([[1., 1., 1., 1.],\n",
      "        [1., 1., 1., 1.],\n",
      "        [1., 1., 1., 1.],\n",
      "        [1., 1., 1., 1.],\n",
      "        [1., 1., 1., 1.],\n",
      "        [1., 1., 1., 1.]])\n"
     ]
    }
   ],
   "source": [
    "print(torch.ones([len(label),num_labels]))"
   ]
  },
  {
   "cell_type": "code",
   "execution_count": 30,
   "metadata": {},
   "outputs": [],
   "source": [
    "ans = torch.scatter(input=torch.zeros([len(label),num_labels]),src=torch.ones([len(label),num_labels]),dim=0,index=index)"
   ]
  },
  {
   "cell_type": "code",
   "execution_count": 31,
   "metadata": {},
   "outputs": [
    {
     "data": {
      "text/plain": [
       "tensor([[1., 0., 0., 0.],\n",
       "        [1., 1., 0., 0.],\n",
       "        [1., 1., 0., 0.],\n",
       "        [1., 1., 0., 0.],\n",
       "        [1., 0., 0., 0.],\n",
       "        [1., 0., 0., 0.]])"
      ]
     },
     "execution_count": 31,
     "metadata": {},
     "output_type": "execute_result"
    }
   ],
   "source": [
    "ans"
   ]
  },
  {
   "cell_type": "code",
   "execution_count": null,
   "metadata": {},
   "outputs": [],
   "source": []
  },
  {
   "cell_type": "code",
   "execution_count": null,
   "metadata": {},
   "outputs": [],
   "source": []
  },
  {
   "cell_type": "code",
   "execution_count": 7,
   "metadata": {},
   "outputs": [],
   "source": [
    "data = [[0.0633576512336731, 0.9326413869857788, 0.39805614948272705, 0.3552049994468689, 0.011827468872070312]\n",
    ",[0.05302472040057182, 0.9235040545463562, 0.3947986662387848, 0.36914023756980896, 0.012311840429902077]\n",
    ",[0.03821694105863571, 0.9156118035316467, 0.41221532225608826, 0.37588998675346375, 0.008877789601683617]\n",
    ",[0.01821064203977585, 0.9206720590591431, 0.41452479362487793, 0.3819565176963806, 0.0]\n",
    ",[0.011824686080217361, 0.9176522493362427, 0.41955313086509705, 0.3990599513053894, 0.0016396502032876015]\n",
    ",[0.006768881808966398, 0.9035516381263733, 0.41597414016723633, 0.40304648876190186, 0.0]\n",
    ",[0.0, 0.8896981477737427, 0.41995853185653687, 0.4154285788536072, 0.0]\n",
    ",[0.0, 0.8733924627304077, 0.42612919211387634, 0.41941335797309875, 0.0]\n",
    ",[0.0, 0.8566481471061707, 0.4317065477371216, 0.4327787160873413, 0.0]\n",
    ",[0.0, 0.8443412184715271, 0.43775999546051025, 0.43827641010284424, 0.0]\n",
    ",[0.0, 0.8355121612548828, 0.4430917203426361, 0.44641923904418945, 0.0]\n",
    ",[0.0, 0.837221622467041, 0.4424690008163452, 0.4534775912761688, 0.003409824799746275]\n",
    ",[0.0, 0.8216569423675537, 0.4486845135688782, 0.4768141806125641, 0.0]\n",
    ",[0.0, 0.8032125234603882, 0.44081810116767883, 0.4963214695453644, 0.0]\n",
    ",[0.0, 0.7829645276069641, 0.4480457007884979, 0.5032341480255127, 0.0]\n",
    ",[0.0, 0.7679951190948486, 0.44169145822525024, 0.49454420804977417, 0.0]\n",
    ",[0.0, 0.7489447593688965, 0.4408141076564789, 0.5014316439628601, 0.0009784477297216654]\n",
    ",[0.0, 0.7337433695793152, 0.44251784682273865, 0.5064160823822021, 0.0]\n",
    ",[0.0, 0.7207462787628174, 0.4487476050853729, 0.51133793592453, 0.0033619245514273643]\n",
    ",[0.0, 0.7047160267829895, 0.445913702249527, 0.5242363214492798, 0.0]\n",
    ",[0.0, 0.6833799481391907, 0.4479433596134186, 0.522402286529541, 0.0]\n",
    ",[0.0, 0.6573908925056458, 0.4523467421531677, 0.528999388217926, 0.0]\n",
    ",[0.0, 0.6441493034362793, 0.4534171521663666, 0.5390996932983398, 0.001950637437403202]\n",
    ",[0.0, 0.6277071833610535, 0.4520440995693207, 0.549390435218811, 0.0]\n",
    ",[0.0, 0.5996581315994263, 0.45084407925605774, 0.5556808710098267, 0.0]\n",
    ",[0.0, 0.5831164717674255, 0.4517801105976105, 0.5647942423820496, 9.551923722028732e-05]\n",
    ",[0.0, 0.5646066069602966, 0.4569879174232483, 0.5726689100265503, 0.0]\n",
    ",[0.0, 0.5482437014579773, 0.4540121853351593, 0.5799793004989624, 0.0]\n",
    ",[0.0, 0.5287584662437439, 0.4626915454864502, 0.5883078575134277, 0.006924993358552456]\n",
    ",[0.0, 0.5081948041915894, 0.4683985412120819, 0.6000593900680542, 0.009711606428027153]\n",
    ",[0.0, 0.4911506175994873, 0.4758142828941345, 0.6119425892829895, 0.010968700982630253]\n",
    ",[0.0, 0.4752776324748993, 0.4707266688346863, 0.6191684007644653, 0.0074688103049993515]\n",
    ",[0.0, 0.45528969168663025, 0.4648844003677368, 0.6275820732116699, 0.0]\n",
    ",[0.0, 0.44054079055786133, 0.4658345580101013, 0.6364290714263916, 0.0]\n",
    ",[0.0, 0.42304784059524536, 0.4681343734264374, 0.6452037692070007, 0.0]\n",
    ",[0.0, 0.4018999934196472, 0.4627011716365814, 0.6577350497245789, 0.0]\n",
    ",[0.0, 0.3871380686759949, 0.4623967111110687, 0.6616092920303345, 0.0]\n",
    ",[0.0, 0.37194812297821045, 0.4518086612224579, 0.6606119871139526, 0.0]\n",
    ",[0.0, 0.36121538281440735, 0.45117223262786865, 0.6574344038963318, 0.0]\n",
    ",[0.0, 0.3453036844730377, 0.4616602659225464, 0.662731409072876, 0.0]\n",
    ",[0.0, 0.32926052808761597, 0.4563608467578888, 0.6705207824707031, 0.0]\n",
    ",[0.0, 0.31167182326316833, 0.45500174164772034, 0.6730074882507324, 0.0]\n",
    ",[0.0, 0.288970410823822, 0.4580366015434265, 0.6867430210113525, 0.0007007617969065905]\n",
    ",[0.0, 0.2657266855239868, 0.4549039900302887, 0.6892818212509155, 0.0]\n",
    "]"
   ]
  },
  {
   "cell_type": "code",
   "execution_count": 8,
   "metadata": {},
   "outputs": [
    {
     "name": "stdout",
     "output_type": "stream",
     "text": [
      "44\n",
      "(44,)\n",
      "44\n",
      "(5, 44)\n"
     ]
    },
    {
     "data": {
      "image/png": "[encoded data removed]",
      "text/plain": [
       "<Figure size 640x480 with 1 Axes>"
      ]
     },
     "metadata": {},
     "output_type": "display_data"
    }
   ],
   "source": [
    "import numpy as np\n",
    "import matplotlib.pyplot as plt\n",
    "print(len(data))\n",
    "x = np.linspace(0,len(data),num=len(data))\n",
    "print(x.shape)\n",
    "print(len(x))\n",
    "y = np.array(data).T\n",
    "print(y.shape)\n",
    "for i in range(5):\n",
    "    plt.plot(x,y[i])\n",
    "plt.show()"
   ]
  },
  {
   "cell_type": "code",
   "execution_count": 34,
   "metadata": {},
   "outputs": [
    {
     "name": "stdout",
     "output_type": "stream",
     "text": [
      "256\n"
     ]
    }
   ],
   "source": [
    "print(len([8012, 2545, 2780,  240, 9500, 2233, 6575, 5224,  177, 9603, 7785, 4701,\n",
    "        3551, 5307, 2721, 9734, 6755, 2445,  252, 3940, 8907, 8438, 1567, 9247,\n",
    "         727, 9998, 8087, 9121, 8493, 6755, 3009, 7372,  358, 5019, 9495, 8347,\n",
    "        6279,  375, 4964,  250, 9416, 5380, 1229, 9378, 8034, 9906, 8741, 8433,\n",
    "        5872, 4723,  223, 8425, 7141, 1703, 5907, 4647, 1021,  380, 5148, 6026,\n",
    "        5960, 5031, 5928, 7569, 2050, 6242, 7308, 9041, 8111, 4855, 6320, 1387,\n",
    "        6170, 1924, 5009, 6580, 7173, 4786, 5468, 6014, 6659, 3645, 6027, 9054,\n",
    "        8179, 4422, 7928, 3566, 7730,  741, 6800, 3813, 6257, 9007, 4391,  169,\n",
    "        7934, 3402, 8963, 4747,   18, 9149, 6794, 3811, 6735, 1502, 3533, 7624,\n",
    "        6326, 3615, 5452,  206, 7224, 7920, 8997, 6389, 3247, 4778,  885, 2091,\n",
    "        3161, 8844,   36, 8176, 3432, 1386, 9514, 9693, 1041, 6616, 2003, 4882,\n",
    "        3911, 7356, 3721,  937, 2724, 2819, 1895, 2582, 5961, 4099, 9938,  793,\n",
    "        6726, 9895, 2646, 8601, 2370, 7740, 3117, 1191, 1354, 5130, 4818, 3549,\n",
    "        9440, 6587, 6289,  104, 6852, 2259, 2153, 8669, 5305, 2091, 9899, 7195,\n",
    "        4073, 3440, 2732, 2979, 1669, 4926, 8988, 3099, 4939, 5870, 8711,  996,\n",
    "        4402,  513, 3692, 8672,  876, 2470, 3559, 2397, 6246, 6658, 4074, 1204,\n",
    "         705, 3881, 6404, 3748, 5043, 5055, 7612, 2376, 5737, 5528, 8687,   16,\n",
    "        2915, 8836, 6254, 1868, 2410,    8, 9241, 3181,  738, 3782, 7317, 2637,\n",
    "        7123, 4601, 9959, 6053, 9245,  327, 5615, 1684,  742, 4645, 9927, 2065,\n",
    "        6718, 6242, 6911, 3145,  541, 2181, 1229, 6476, 2928, 5309, 4454,  653,\n",
    "        2927, 6181, 2375, 8806, 6523, 8459,  268, 1310,  448, 2985, 9660, 1718,\n",
    "        3116, 3596,  685, 4461]))"
   ]
  },
  {
   "cell_type": "code",
   "execution_count": null,
   "metadata": {},
   "outputs": [],
   "source": []
  }
 ],
 "metadata": {
  "kernelspec": {
   "display_name": "DYY",
   "language": "python",
   "name": "python3"
  },
  "language_info": {
   "codemirror_mode": {
    "name": "ipython",
    "version": 3
   },
   "file_extension": ".py",
   "mimetype": "text/x-python",
   "name": "python",
   "nbconvert_exporter": "python",
   "pygments_lexer": "ipython3",
   "version": "3.11.0"
  }
 },
 "nbformat": 4,
 "nbformat_minor": 2
}
