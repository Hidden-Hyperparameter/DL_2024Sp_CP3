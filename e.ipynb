{
 "cells": [
  {
   "cell_type": "code",
   "execution_count": 63,
   "metadata": {},
   "outputs": [],
   "source": [
    "import torch"
   ]
  },
  {
   "cell_type": "code",
   "execution_count": 64,
   "metadata": {},
   "outputs": [],
   "source": [
    "x = torch.tensor([[1,2,3],[4,5,6],[7,8,9],[10,11,12],[13,14,15]])\n",
    "y = torch.tensor([0,1,2,2,1])"
   ]
  },
  {
   "cell_type": "code",
   "execution_count": 73,
   "metadata": {},
   "outputs": [
    {
     "name": "stdout",
     "output_type": "stream",
     "text": [
      "tensor([[0],\n",
      "        [1],\n",
      "        [2],\n",
      "        [2],\n",
      "        [1]])\n"
     ]
    }
   ],
   "source": [
    "print(y.unsqueeze(1))"
   ]
  },
  {
   "cell_type": "code",
   "execution_count": 76,
   "metadata": {},
   "outputs": [
    {
     "name": "stdout",
     "output_type": "stream",
     "text": [
      "tensor([[ 1,  0,  0],\n",
      "        [ 0,  5,  0],\n",
      "        [ 0,  0,  9],\n",
      "        [ 0,  0, 12],\n",
      "        [ 0, 14,  0]])\n"
     ]
    }
   ],
   "source": [
    "print(x * torch.scatter(input=torch.zeros_like(x),index=y.unsqueeze(1),value=1,dim=1))"
   ]
  },
  {
   "cell_type": "code",
   "execution_count": 75,
   "metadata": {},
   "outputs": [
    {
     "name": "stdout",
     "output_type": "stream",
     "text": [
      "tensor([[1, 0, 0],\n",
      "        [0, 1, 0],\n",
      "        [0, 0, 1],\n",
      "        [0, 0, 1],\n",
      "        [0, 1, 0]])\n",
      "tensor([[1, 0, 0],\n",
      "        [0, 1, 0],\n",
      "        [0, 0, 1],\n",
      "        [0, 0, 1],\n",
      "        [0, 1, 0]])\n"
     ]
    }
   ],
   "source": [
    "input = torch.zeros_like(x)\n",
    "indices = y\n",
    "print(input.scatter(1, indices.unsqueeze(1), 1))\n",
    "print(torch.scatter(input,1, indices.unsqueeze(1), 1))"
   ]
  },
  {
   "cell_type": "code",
   "execution_count": 65,
   "metadata": {},
   "outputs": [
    {
     "data": {
      "text/plain": [
       "tensor([[0],\n",
       "        [1],\n",
       "        [2],\n",
       "        [2],\n",
       "        [1]])"
      ]
     },
     "execution_count": 65,
     "metadata": {},
     "output_type": "execute_result"
    }
   ],
   "source": [
    "torch.zeros_like(x)\n",
    "torch.tensor([[y[i]] for i in range(len(y))])"
   ]
  },
  {
   "cell_type": "code",
   "execution_count": 66,
   "metadata": {},
   "outputs": [
    {
     "name": "stdout",
     "output_type": "stream",
     "text": [
      "tensor([[1, 0, 0],\n",
      "        [4, 0, 0],\n",
      "        [7, 0, 0],\n",
      "        [0, 0, 0],\n",
      "        [0, 0, 0]])\n"
     ]
    }
   ],
   "source": [
    "print( x * torch.scatter(input=torch.zeros_like(x),index=torch.tensor([[y[i]] for i in range(len(y))]),src=torch.ones_like(x),dim=0))"
   ]
  },
  {
   "cell_type": "code",
   "execution_count": 4,
   "metadata": {},
   "outputs": [
    {
     "name": "stdout",
     "output_type": "stream",
     "text": [
      "Help on built-in function scatter in module torch:\n",
      "\n",
      "scatter(...)\n",
      "    scatter(input, dim, index, src) -> Tensor\n",
      "    \n",
      "    Out-of-place version of :meth:`torch.Tensor.scatter_`\n",
      "\n"
     ]
    }
   ],
   "source": [
    "help(torch.scatter)"
   ]
  },
  {
   "cell_type": "code",
   "execution_count": 44,
   "metadata": {},
   "outputs": [],
   "source": [
    "label = [1,2,3,3,3,3]\n",
    "# target = torch.tensor([\n",
    "#     [0,1,0,0],\n",
    "#     [0,0,1,0],\n",
    "#     [0,0,0,1],\n",
    "#     [0,0,0,1],\n",
    "#     [0,0,0,1],\n",
    "#     [0,0,0,1],\n",
    "# ]\n",
    "# )\n",
    "num_labels = 4"
   ]
  },
  {
   "cell_type": "code",
   "execution_count": 45,
   "metadata": {},
   "outputs": [
    {
     "name": "stdout",
     "output_type": "stream",
     "text": [
      "tensor([[0, 1],\n",
      "        [1, 2],\n",
      "        [2, 3],\n",
      "        [3, 3],\n",
      "        [4, 3],\n",
      "        [5, 3]])\n"
     ]
    }
   ],
   "source": [
    "index = torch.tensor([[i,label[i]] for i in range(len(label))])\n",
    "print(index)"
   ]
  },
  {
   "cell_type": "code",
   "execution_count": 46,
   "metadata": {},
   "outputs": [
    {
     "name": "stdout",
     "output_type": "stream",
     "text": [
      "tensor([[1., 1., 1., 1.],\n",
      "        [1., 1., 1., 1.],\n",
      "        [1., 1., 1., 1.],\n",
      "        [1., 1., 1., 1.],\n",
      "        [1., 1., 1., 1.],\n",
      "        [1., 1., 1., 1.]])\n"
     ]
    }
   ],
   "source": [
    "print(torch.ones([len(label),num_labels]))"
   ]
  },
  {
   "cell_type": "code",
   "execution_count": 47,
   "metadata": {},
   "outputs": [],
   "source": [
    "ans = torch.scatter(input=torch.zeros([len(label),num_labels]),src=torch.ones([len(label),num_labels]),dim=0,index=index)"
   ]
  },
  {
   "cell_type": "code",
   "execution_count": 48,
   "metadata": {},
   "outputs": [
    {
     "data": {
      "text/plain": [
       "tensor([[1., 0., 0., 0.],\n",
       "        [1., 1., 0., 0.],\n",
       "        [1., 1., 0., 0.],\n",
       "        [1., 1., 0., 0.],\n",
       "        [1., 0., 0., 0.],\n",
       "        [1., 0., 0., 0.]])"
      ]
     },
     "execution_count": 48,
     "metadata": {},
     "output_type": "execute_result"
    }
   ],
   "source": [
    "ans"
   ]
  },
  {
   "cell_type": "code",
   "execution_count": null,
   "metadata": {},
   "outputs": [],
   "source": []
  },
  {
   "cell_type": "code",
   "execution_count": null,
   "metadata": {},
   "outputs": [],
   "source": []
  },
  {
   "cell_type": "code",
   "execution_count": 1,
   "metadata": {},
   "outputs": [
    {
     "name": "stdout",
     "output_type": "stream",
     "text": [
      "256\n"
     ]
    }
   ],
   "source": [
    "print(len([8012, 2545, 2780,  240, 9500, 2233, 6575, 5224,  177, 9603, 7785, 4701,\n",
    "        3551, 5307, 2721, 9734, 6755, 2445,  252, 3940, 8907, 8438, 1567, 9247,\n",
    "         727, 9998, 8087, 9121, 8493, 6755, 3009, 7372,  358, 5019, 9495, 8347,\n",
    "        6279,  375, 4964,  250, 9416, 5380, 1229, 9378, 8034, 9906, 8741, 8433,\n",
    "        5872, 4723,  223, 8425, 7141, 1703, 5907, 4647, 1021,  380, 5148, 6026,\n",
    "        5960, 5031, 5928, 7569, 2050, 6242, 7308, 9041, 8111, 4855, 6320, 1387,\n",
    "        6170, 1924, 5009, 6580, 7173, 4786, 5468, 6014, 6659, 3645, 6027, 9054,\n",
    "        8179, 4422, 7928, 3566, 7730,  741, 6800, 3813, 6257, 9007, 4391,  169,\n",
    "        7934, 3402, 8963, 4747,   18, 9149, 6794, 3811, 6735, 1502, 3533, 7624,\n",
    "        6326, 3615, 5452,  206, 7224, 7920, 8997, 6389, 3247, 4778,  885, 2091,\n",
    "        3161, 8844,   36, 8176, 3432, 1386, 9514, 9693, 1041, 6616, 2003, 4882,\n",
    "        3911, 7356, 3721,  937, 2724, 2819, 1895, 2582, 5961, 4099, 9938,  793,\n",
    "        6726, 9895, 2646, 8601, 2370, 7740, 3117, 1191, 1354, 5130, 4818, 3549,\n",
    "        9440, 6587, 6289,  104, 6852, 2259, 2153, 8669, 5305, 2091, 9899, 7195,\n",
    "        4073, 3440, 2732, 2979, 1669, 4926, 8988, 3099, 4939, 5870, 8711,  996,\n",
    "        4402,  513, 3692, 8672,  876, 2470, 3559, 2397, 6246, 6658, 4074, 1204,\n",
    "         705, 3881, 6404, 3748, 5043, 5055, 7612, 2376, 5737, 5528, 8687,   16,\n",
    "        2915, 8836, 6254, 1868, 2410,    8, 9241, 3181,  738, 3782, 7317, 2637,\n",
    "        7123, 4601, 9959, 6053, 9245,  327, 5615, 1684,  742, 4645, 9927, 2065,\n",
    "        6718, 6242, 6911, 3145,  541, 2181, 1229, 6476, 2928, 5309, 4454,  653,\n",
    "        2927, 6181, 2375, 8806, 6523, 8459,  268, 1310,  448, 2985, 9660, 1718,\n",
    "        3116, 3596,  685, 4461]))"
   ]
  },
  {
   "cell_type": "code",
   "execution_count": null,
   "metadata": {},
   "outputs": [],
   "source": []
  }
 ],
 "metadata": {
  "kernelspec": {
   "display_name": "DYY",
   "language": "python",
   "name": "python3"
  },
  "language_info": {
   "codemirror_mode": {
    "name": "ipython",
    "version": 3
   },
   "file_extension": ".py",
   "mimetype": "text/x-python",
   "name": "python",
   "nbconvert_exporter": "python",
   "pygments_lexer": "ipython3",
   "version": "3.11.0"
  }
 },
 "nbformat": 4,
 "nbformat_minor": 2
}
