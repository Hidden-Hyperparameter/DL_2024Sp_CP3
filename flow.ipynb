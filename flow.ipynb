{
 "cells": [
  {
   "cell_type": "markdown",
   "id": "fbef945a",
   "metadata": {},
   "source": [
    "---"
   ]
  },
  {
   "cell_type": "markdown",
   "id": "718d6fe6",
   "metadata": {
    "deletable": false,
    "editable": false,
    "id": "718d6fe6",
    "nbgrader": {
     "cell_type": "markdown",
     "checksum": "3db01def951d1f5e4aae3677ab577d9f",
     "grade": false,
     "grade_id": "cell-9c430af5d8d383e0",
     "locked": true,
     "schema_version": 3,
     "solution": false,
     "task": false
    }
   },
   "source": [
    "p## Deep Learning Coding Project 3-2: Flow-Based Model\n",
    "\n",
    "Before we start, please put your **Chinese** name and student ID in following format:\n",
    "\n",
    "Name, 0000000000 // e.g.) 小明, 2021123123"
   ]
  },
  {
   "cell_type": "markdown",
   "id": "e85b760d",
   "metadata": {
    "deletable": false,
    "id": "e85b760d",
    "nbgrader": {
     "cell_type": "markdown",
     "checksum": "e30c80977fd0505d51c0f3fff9f44141",
     "grade": true,
     "grade_id": "name-and-id",
     "locked": false,
     "points": 0,
     "schema_version": 3,
     "solution": true,
     "task": false
    }
   },
   "source": [
    "YOUR ANSWER HERE"
   ]
  },
  {
   "cell_type": "markdown",
   "id": "ef99bd7a",
   "metadata": {
    "deletable": false,
    "editable": false,
    "id": "ef99bd7a",
    "nbgrader": {
     "cell_type": "markdown",
     "checksum": "b9108ab84e4a6a2ec53c4af00369844d",
     "grade": false,
     "grade_id": "cell-140b078480df53e1",
     "locked": true,
     "schema_version": 3,
     "solution": false,
     "task": false
    }
   },
   "source": [
    "## Introduction\n",
    "\n",
    "We will use Python 3, [NumPy](https://numpy.org/), and [PyTorch](https://pytorch.org/) packages for implementation. To avoid unexpected issues with PyTorch 2.x, we recommend using PyTorch version 1.x.\n",
    "\n",
    "In this coding project, you will implement 4 generative models, i.e., energy-based model, flow-based model, variational auto-encoder, and generative adverserial network, to generate MNIST images.\n",
    "\n",
    "**We will implement a flow model, specifically a simplified [Real NVP](https://arxiv.org/abs/1605.08803), in this notebook.**"
   ]
  },
  {
   "cell_type": "markdown",
   "id": "455cd281",
   "metadata": {
    "deletable": false,
    "editable": false,
    "id": "455cd281",
    "nbgrader": {
     "cell_type": "markdown",
     "checksum": "120d6358fec9f6418d1267d01a2ae32b",
     "grade": false,
     "grade_id": "cell-ffacdab926dcdef6",
     "locked": true,
     "schema_version": 3,
     "solution": false,
     "task": false
    }
   },
   "source": [
    "In some cells and files you will see code blocks that look like this:\n",
    "\n",
    "```Python\n",
    "##############################################################################\n",
    "#                  TODO: You need to complete the code here                  #\n",
    "##############################################################################\n",
    "raise NotImplementedError()\n",
    "##############################################################################\n",
    "#                              END OF YOUR CODE                              #\n",
    "##############################################################################\n",
    "```\n",
    "\n",
    "You should replace `raise NotImplementedError()` with your own implementation based on the context, such as:\n",
    "\n",
    "```Python\n",
    "##############################################################################\n",
    "#                  TODO: You need to complete the code here                  #\n",
    "##############################################################################\n",
    "y = w * x + b\n",
    "##############################################################################\n",
    "#                              END OF YOUR CODE                              #\n",
    "##############################################################################\n",
    "\n",
    "```\n",
    "\n",
    "When completing the notebook, please adhere to the following rules:\n",
    "\n",
    "+ Unless otherwise stated, do not write or modify any code outside of code blocks\n",
    "+ Do not add or delete any cells from the notebook.\n",
    "+ Run all cells before submission. We will not re-run the entire codebook during grading.\n",
    "\n",
    "**Finally, avoid plagiarism! Any student who violates academic integrity will be seriously dealt with and receive an F for the course.**"
   ]
  },
  {
   "cell_type": "markdown",
   "id": "17c3bbf1",
   "metadata": {
    "deletable": false,
    "editable": false,
    "id": "17c3bbf1",
    "nbgrader": {
     "cell_type": "markdown",
     "checksum": "d1d64f9e4deb3b33e238857851770c83",
     "grade": false,
     "grade_id": "cell-599bd6afccb34d60",
     "locked": true,
     "schema_version": 3,
     "solution": false,
     "task": false
    }
   },
   "source": [
    "### Task\n",
    "\n",
    "In this problem, you need to train a simplified Real NVP model (without squeezing layers and multi-scale architechture) on MNIST images for\n",
    "image generation and inpainting. You should\n",
    "\n",
    "1. **Complete the missing codes in `Shuffle`, `CouplingLayer` and `FlowSequential`.**\n",
    "\n",
    "2. **Modify model structure and hyper-parameters to train a model for better inpainting.**\n",
    "\n",
    "An example of inpainting using flow model is shown below."
   ]
  },
  {
   "cell_type": "markdown",
   "id": "Lsx7lv2DAdXt",
   "metadata": {
    "id": "Lsx7lv2DAdXt"
   },
   "source": [
    "If you use Colab in this coding project, please uncomment the cell below, change the `GOOGLE_DRIVE_PATH` to your project folder and run the following cell to mount your Google drive. Then, the notebook can find the required files (i.e., utils.py). If you run the notebook locally, you can skip this cell."
   ]
  },
  {
   "cell_type": "code",
   "execution_count": null,
   "id": "B7YYdTYMAfiI",
   "metadata": {
    "id": "B7YYdTYMAfiI"
   },
   "outputs": [],
   "source": [
    "# ### uncomment this cell if you're using Google colab\n",
    "# from google.colab import drive\n",
    "# drive.mount('/content/drive')\n",
    "\n",
    "# ### change GOOGLE_DRIVE_PATH to the path of your CP3 folder\n",
    "# GOOGLE_DRIVE_PATH = '/content/drive/MyDrive/Colab Notebooks/DL23SP/CP3'\n",
    "# %cd $GOOGLE_DRIVE_PATH\n",
    "\n",
    "# import sys\n",
    "# sys.path.append(GOOGLE_DRIVE_PATH)"
   ]
  },
  {
   "cell_type": "code",
   "execution_count": null,
   "id": "432c2f99",
   "metadata": {
    "deletable": false,
    "editable": false,
    "id": "432c2f99",
    "nbgrader": {
     "cell_type": "code",
     "checksum": "1be81991fc43aa057279b92dfae126d0",
     "grade": false,
     "grade_id": "cell-1c233faf26d419be",
     "locked": true,
     "schema_version": 3,
     "solution": false,
     "task": false
    }
   },
   "outputs": [],
   "source": [
    "import matplotlib.pyplot as plt\n",
    "import matplotlib.image as mpimg\n",
    "from matplotlib import rcParams\n",
    "\n",
    "%matplotlib inline\n",
    "\n",
    "# figure size in inches optional\n",
    "rcParams['figure.figsize'] = 11, 8\n",
    "\n",
    "# read images\n",
    "img_A = mpimg.imread('./flow/recovered.png')\n",
    "img_B = mpimg.imread('./flow/corrupted.png')\n",
    "\n",
    "# display images\n",
    "fig, ax = plt.subplots(1, 2)\n",
    "ax[0].imshow(img_A)\n",
    "ax[1].imshow(img_B)"
   ]
  },
  {
   "attachments": {},
   "cell_type": "markdown",
   "id": "aaa645f3",
   "metadata": {
    "deletable": false,
    "editable": false,
    "id": "aaa645f3",
    "nbgrader": {
     "cell_type": "markdown",
     "checksum": "b07dfdad9bebb3b2d502df851cc87070",
     "grade": false,
     "grade_id": "cell-53585dd2f2b21500",
     "locked": true,
     "schema_version": 3,
     "solution": false,
     "task": false
    }
   },
   "source": [
    "### Submission\n",
    "\n",
    "You need to submit your code (this notebook), your trained model (named `./flow/flow_best.pth`), and your report:\n",
    "\n",
    "+ **Code**\n",
    "\n",
    "Remember to run all the cells before submission. Keep your tuned hyperparameters unchanged.\n",
    "\n",
    "+ **Model**\n",
    "\n",
    "In this notebook, we select the best model based on validation loss. You can also select the best model based on the MSE of inpainting, or manually select the best one, and save it as `./flow/flow_best.pth`. **Please do not submit any other checkpoints except for `./flow/flow_best.pth`!**\n",
    "\n",
    "+ **Report**\n",
    "\n",
    "Please include the inpainting results (i.e., inpainted images in a $10\\times 10$ array as above), the inpainting MSE on validataion set, and other relevant statistics (e.g. standard deviation) in your\n",
    "report. Note that you only need to write a single report for this coding project."
   ]
  },
  {
   "cell_type": "markdown",
   "id": "c7ddfa6f",
   "metadata": {
    "deletable": false,
    "editable": false,
    "id": "c7ddfa6f",
    "nbgrader": {
     "cell_type": "markdown",
     "checksum": "c20b645ac75902294d1d9707ac12bc80",
     "grade": false,
     "grade_id": "cell-c6a5c8475b46e7f0",
     "locked": true,
     "schema_version": 3,
     "solution": false,
     "task": false
    }
   },
   "source": [
    "### Grading\n",
    "\n",
    "We will grade your model based on your performance of inpainting."
   ]
  },
  {
   "cell_type": "markdown",
   "id": "3a90a8be",
   "metadata": {
    "deletable": false,
    "editable": false,
    "id": "3a90a8be",
    "nbgrader": {
     "cell_type": "markdown",
     "checksum": "7cf3d043fd7e45e2fadb23288a20f85f",
     "grade": false,
     "grade_id": "cell-527c7725f3508ba0",
     "locked": true,
     "schema_version": 3,
     "solution": false,
     "task": false
    }
   },
   "source": [
    "### Tips\n",
    "\n",
    "+ Read [Density estimation using Real NVP](https://arxiv.org/abs/1605.08803) and [NICE: Non-linear Independent Components Estimation](https://arxiv.org/abs/1410.8516) for more useful tricks."
   ]
  },
  {
   "cell_type": "markdown",
   "id": "dd040c70",
   "metadata": {
    "deletable": false,
    "editable": false,
    "id": "dd040c70",
    "nbgrader": {
     "cell_type": "markdown",
     "checksum": "54854fcdc1556d353b55bc4d1a133674",
     "grade": false,
     "grade_id": "cell-2b4bea3e44a7b81b",
     "locked": true,
     "schema_version": 3,
     "solution": false,
     "task": false
    }
   },
   "source": [
    "## Set Up Code"
   ]
  },
  {
   "cell_type": "markdown",
   "id": "4eca3738",
   "metadata": {
    "deletable": false,
    "editable": false,
    "id": "4eca3738",
    "nbgrader": {
     "cell_type": "markdown",
     "checksum": "8a46538ad10bf1933513126de21b52de",
     "grade": false,
     "grade_id": "cell-291232b1c59e4f02",
     "locked": true,
     "schema_version": 3,
     "solution": false,
     "task": false
    }
   },
   "source": [
    "If you use Colab in this coding project, please make sure to mount your drive before running the cells below."
   ]
  },
  {
   "cell_type": "code",
   "execution_count": null,
   "id": "d8c2354b",
   "metadata": {
    "deletable": false,
    "editable": false,
    "id": "d8c2354b",
    "nbgrader": {
     "cell_type": "code",
     "checksum": "b34bc8b23f9c8e480a9671ef3453e7ac",
     "grade": false,
     "grade_id": "cell-a551fcc5ff27fb87",
     "locked": true,
     "schema_version": 3,
     "solution": false,
     "task": false
    }
   },
   "outputs": [],
   "source": [
    "%load_ext autoreload\n",
    "%autoreload 2"
   ]
  },
  {
   "cell_type": "code",
   "execution_count": null,
   "id": "f6cd2080",
   "metadata": {
    "deletable": false,
    "editable": false,
    "id": "f6cd2080",
    "nbgrader": {
     "cell_type": "code",
     "checksum": "0d5d6f96e1d7ce5df1315172b57173de",
     "grade": false,
     "grade_id": "cell-e11eaf041d72deda",
     "locked": true,
     "schema_version": 3,
     "solution": false,
     "task": false
    }
   },
   "outputs": [],
   "source": [
    "from utils import hello\n",
    "hello()"
   ]
  },
  {
   "cell_type": "markdown",
   "id": "cb9634e8",
   "metadata": {
    "deletable": false,
    "editable": false,
    "id": "cb9634e8",
    "nbgrader": {
     "cell_type": "markdown",
     "checksum": "51e49fe39dad00834a151f8221d720ef",
     "grade": false,
     "grade_id": "cell-fe84c884133acb94",
     "locked": true,
     "schema_version": 3,
     "solution": false,
     "task": false
    }
   },
   "source": [
    "Please run the following cell to import some base classes for implementation (no matter whether you use colab)."
   ]
  },
  {
   "cell_type": "code",
   "execution_count": null,
   "id": "27bf0667",
   "metadata": {
    "deletable": false,
    "editable": false,
    "id": "27bf0667",
    "nbgrader": {
     "cell_type": "code",
     "checksum": "2bd53658c515f92e27ccdfbdb679836e",
     "grade": false,
     "grade_id": "cell-c0b91f0d2b7ecc80",
     "locked": true,
     "schema_version": 3,
     "solution": false,
     "task": false
    }
   },
   "outputs": [],
   "source": [
    "from collections import deque\n",
    "from torch.utils.data import DataLoader\n",
    "from tqdm.autonotebook import tqdm\n",
    "\n",
    "import numpy as np\n",
    "import os\n",
    "import time\n",
    "import torch\n",
    "import torch.nn as nn\n",
    "import torch.nn.functional as F\n",
    "import torchvision\n",
    "\n",
    "from utils import save_model, load_model, corruption, train_set, val_set\n",
    "\n",
    "seed = 42\n",
    "np.random.seed(seed)\n",
    "torch.manual_seed(seed)\n",
    "torch.cuda.manual_seed(seed)\n",
    "torch.backends.cudnn.deterministic = True\n",
    "\n",
    "device = torch.device(\n",
    "    \"cuda\") if torch.cuda.is_available() else torch.device(\"cpu\")"
   ]
  },
  {
   "cell_type": "markdown",
   "id": "b6b02726",
   "metadata": {
    "deletable": false,
    "editable": false,
    "id": "b6b02726",
    "nbgrader": {
     "cell_type": "markdown",
     "checksum": "352479a98b6b9b2e56b163a01a85889d",
     "grade": false,
     "grade_id": "cell-57ca54e3c15c65e8",
     "locked": true,
     "schema_version": 3,
     "solution": false,
     "task": false
    }
   },
   "source": [
    "## Model"
   ]
  },
  {
   "cell_type": "markdown",
   "id": "669fcf6f",
   "metadata": {},
   "source": [
    "We follow the network architecture of Real NVP. In this section, **you are NOT supposed to change any parts except the missing codes.**"
   ]
  },
  {
   "cell_type": "code",
   "execution_count": null,
   "id": "f403ef9a",
   "metadata": {
    "deletable": false,
    "editable": false,
    "id": "f403ef9a",
    "nbgrader": {
     "cell_type": "code",
     "checksum": "c4f821eceb900861d504b665adcc4e25",
     "grade": false,
     "grade_id": "cell-8be50069713f1219",
     "locked": true,
     "schema_version": 3,
     "solution": false,
     "task": false
    }
   },
   "outputs": [],
   "source": [
    "class BatchNormFlow(nn.Module):\n",
    "    \"\"\" An implementation of a batch normalization layer from\n",
    "    Density estimation using Real NVP\n",
    "    (https://arxiv.org/abs/1605.08803).\n",
    "    \"\"\"\n",
    "\n",
    "    def __init__(self, num_inputs, momentum=0.0, eps=1e-5):\n",
    "        super(BatchNormFlow, self).__init__()\n",
    "\n",
    "        self.log_gamma = nn.Parameter(torch.zeros(num_inputs))\n",
    "        self.beta = nn.Parameter(torch.zeros(num_inputs))\n",
    "        self.momentum = momentum\n",
    "        self.eps = eps\n",
    "\n",
    "        self.register_buffer('running_mean', torch.zeros(num_inputs))\n",
    "        self.register_buffer('running_var', torch.ones(num_inputs))\n",
    "\n",
    "    def forward(self, inputs, mode='direct', **kwargs):\n",
    "        if mode == 'direct':\n",
    "            if self.training:\n",
    "                self.batch_mean = inputs.mean(0)\n",
    "                self.batch_var = (\n",
    "                    inputs - self.batch_mean).pow(2).mean(0) + self.eps\n",
    "\n",
    "                self.running_mean.mul_(self.momentum)\n",
    "                self.running_var.mul_(self.momentum)\n",
    "\n",
    "                self.running_mean.add_(self.batch_mean.data *\n",
    "                                       (1 - self.momentum))\n",
    "                self.running_var.add_(self.batch_var.data *\n",
    "                                      (1 - self.momentum))\n",
    "\n",
    "                mean = self.batch_mean\n",
    "                var = self.batch_var\n",
    "            else:\n",
    "                mean = self.running_mean\n",
    "                var = self.running_var\n",
    "\n",
    "            x_hat = (inputs - mean) / var.sqrt()\n",
    "            y = torch.exp(self.log_gamma) * x_hat + self.beta\n",
    "            return y, (self.log_gamma - 0.5 * torch.log(var)).sum(-1, keepdim=True)\n",
    "        else:\n",
    "            if self.training:\n",
    "                mean = self.batch_mean\n",
    "                var = self.batch_var\n",
    "            else:\n",
    "                mean = self.running_mean\n",
    "                var = self.running_var\n",
    "\n",
    "            x_hat = (inputs - self.beta) / torch.exp(self.log_gamma)\n",
    "\n",
    "            y = x_hat * var.sqrt() + mean\n",
    "\n",
    "            return y, (- self.log_gamma + 0.5 * torch.log(var)).sum(-1, keepdim=True)"
   ]
  },
  {
   "cell_type": "code",
   "execution_count": null,
   "id": "016d16a6",
   "metadata": {
    "deletable": false,
    "nbgrader": {
     "cell_type": "code",
     "checksum": "0ce0842b0f1eab006d60dd0073f0739f",
     "grade": false,
     "grade_id": "cell-79ce14d699d289f5",
     "locked": false,
     "schema_version": 3,
     "solution": true,
     "task": false
    }
   },
   "outputs": [],
   "source": [
    "class Shuffle(nn.Module):\n",
    "    \"\"\" An implementation of a shuffling layer from\n",
    "    Density estimation using Real NVP\n",
    "    (https://arxiv.org/abs/1605.08803).\n",
    "    \"\"\"\n",
    "\n",
    "    def __init__(self, num_inputs):\n",
    "        super(Shuffle, self).__init__()\n",
    "        self.perm = np.random.permutation(num_inputs)\n",
    "        self.inv_perm = np.argsort(self.perm)\n",
    "\n",
    "    def forward(self, inputs, mode='direct'):\n",
    "        n = self.perm.shape[0]\n",
    "        batch_size = inputs.size(0)\n",
    "        if mode == 'direct':\n",
    "            # return z = f(x) and logdet, z has the same shape with x, logdet has the shape (batch size, 1)\n",
    "            ##############################################################################\n",
    "            #                  TODO: You need to complete the code here                  #\n",
    "            ##############################################################################\n",
    "            # YOUR CODE HERE\n",
    "            raise NotImplementedError()\n",
    "            ##############################################################################\n",
    "            #                              END OF YOUR CODE                              #\n",
    "            ##############################################################################\n",
    "        else:\n",
    "            # return x = f^-1(z) and logdet, x has the same shape with z, logdet has the shape (batch size, 1)\n",
    "            ##############################################################################\n",
    "            #                  TODO: You need to complete the code here                  #\n",
    "            ##############################################################################\n",
    "            # YOUR CODE HERE\n",
    "            raise NotImplementedError()\n",
    "            ##############################################################################\n",
    "            #                              END OF YOUR CODE                              #\n",
    "            ##############################################################################"
   ]
  },
  {
   "cell_type": "code",
   "execution_count": null,
   "id": "ba1efd99",
   "metadata": {
    "deletable": false,
    "id": "ba1efd99",
    "nbgrader": {
     "cell_type": "code",
     "checksum": "3365a01b829fccee6aefa8b7e5c603f9",
     "grade": false,
     "grade_id": "cell-be0ebc8955344d32",
     "locked": false,
     "schema_version": 3,
     "solution": true,
     "task": false
    }
   },
   "outputs": [],
   "source": [
    "class CouplingLayer(nn.Module):\n",
    "    \"\"\" An implementation of a coupling layer\n",
    "    from RealNVP (https://arxiv.org/abs/1605.08803).\n",
    "    \"\"\"\n",
    "\n",
    "    def __init__(self,\n",
    "                 num_inputs,\n",
    "                 num_hidden,\n",
    "                 mask,\n",
    "                 s_act=nn.Tanh(),\n",
    "                 t_act=nn.ReLU()):\n",
    "        super(CouplingLayer, self).__init__()\n",
    "\n",
    "        self.num_inputs = num_inputs\n",
    "        self.mask = mask\n",
    "\n",
    "        # define your scale_net and translate_net\n",
    "        ##############################################################################\n",
    "        #                  TODO: You need to complete the code here                  #\n",
    "        ##############################################################################\n",
    "        # YOUR CODE HERE\n",
    "        raise NotImplementedError()\n",
    "        ##############################################################################\n",
    "        #                              END OF YOUR CODE                              #\n",
    "        ##############################################################################\n",
    "\n",
    "    def forward(self, x, mode='direct'):\n",
    "        mask = self.mask\n",
    "\n",
    "        masked_inputs = x * mask\n",
    "        log_s = self.scale_net(masked_inputs)*(1-mask)\n",
    "        s = torch.exp(log_s)\n",
    "        t = self.translate_net(masked_inputs)\n",
    "\n",
    "        if mode == 'direct':\n",
    "            # complete code here;  x - > z\n",
    "            # return z = f(x) and logdet, z has the same shape with x, logdet has the shape (batch size, 1)\n",
    "            ##############################################################################\n",
    "            #                  TODO: You need to complete the code here                  #\n",
    "            ##############################################################################\n",
    "            # YOUR CODE HERE\n",
    "            raise NotImplementedError()\n",
    "            ##############################################################################\n",
    "            #                              END OF YOUR CODE                              #\n",
    "            ##############################################################################\n",
    "        else:\n",
    "            # complete code here; z - > x\n",
    "            # return x = f^-1(z) and logdet, x has the same shape with z, logdet has the shape (batch size, 1)\n",
    "            ##############################################################################\n",
    "            #                  TODO: You need to complete the code here                  #\n",
    "            ##############################################################################\n",
    "            # YOUR CODE HERE\n",
    "            raise NotImplementedError()\n",
    "            ##############################################################################\n",
    "            #                              END OF YOUR CODE                              #\n",
    "            ##############################################################################"
   ]
  },
  {
   "cell_type": "code",
   "execution_count": null,
   "id": "9b8369d9",
   "metadata": {
    "deletable": false,
    "id": "9b8369d9",
    "nbgrader": {
     "cell_type": "code",
     "checksum": "262166bc26fac64145c7ce571cc0463c",
     "grade": false,
     "grade_id": "cell-bf556a05c31e3321",
     "locked": false,
     "schema_version": 3,
     "solution": true,
     "task": false
    }
   },
   "outputs": [],
   "source": [
    "class FlowSequential(nn.Sequential):\n",
    "    \"\"\" A sequential container for flows.\n",
    "    In addition to a forward pass it implements a backward pass and\n",
    "    computes log jacobians.\n",
    "    \"\"\"\n",
    "\n",
    "    def __init__(self, device, *args):\n",
    "        super().__init__(*args)\n",
    "        self.prior = torch.distributions.Normal(\n",
    "            torch.tensor([0.0]).to(device),\n",
    "            torch.tensor([1.0]).to(device)\n",
    "        )\n",
    "\n",
    "    def _pre_process(self, x):\n",
    "        \"\"\"\n",
    "        Args:\n",
    "            x (torch.Tensor): Input image.\n",
    "        Returns:\n",
    "            y (torch.Tensor): logits of `x`.\n",
    "        See Also:\n",
    "            - Modeling logits: https://arxiv.org/abs/1605.08803, Section 4.1\n",
    "        \"\"\"\n",
    "        return x.log() - (1. - x).log()\n",
    "\n",
    "    def forward(self, inputs, mode='direct', logdets=None, **kwargs):\n",
    "        \"\"\" Performs a forward or backward pass for flow modules.\n",
    "        Args:\n",
    "            inputs: a tuple of inputs and logdets\n",
    "            mode: to run direct computation or inverse\n",
    "        \"\"\"\n",
    "        self.num_inputs = inputs.size(-1)\n",
    "\n",
    "        if logdets is None:\n",
    "            logdets = torch.zeros(inputs.size(0), 1, device=inputs.device)\n",
    "\n",
    "        assert mode in ['direct', 'inverse']\n",
    "        if mode == 'direct':\n",
    "            if kwargs.get(\"pre_process\", True):\n",
    "                inputs = self._pre_process(inputs)\n",
    "            for module in self._modules.values():\n",
    "                inputs, logdet = module(inputs, mode)\n",
    "                logdets += logdet\n",
    "        else:\n",
    "            for module in reversed(self._modules.values()):\n",
    "                inputs, logdet = module(inputs, mode, **kwargs)\n",
    "                logdets += logdet\n",
    "\n",
    "        return inputs, logdets\n",
    "\n",
    "    def log_probs(self, inputs, pre_process=True):\n",
    "        u, log_jacob = self(inputs, pre_process=pre_process)\n",
    "        # return the log probability with shape (batch size, 1)\n",
    "        ##############################################################################\n",
    "        #                  TODO: You need to complete the code here                  #\n",
    "        ##############################################################################\n",
    "        # YOUR CODE HERE\n",
    "        raise NotImplementedError()\n",
    "        ##############################################################################\n",
    "        #                              END OF YOUR CODE                              #\n",
    "        ##############################################################################\n",
    "\n",
    "    @torch.no_grad()\n",
    "    def sample_images(self, n_samples=100, save=True, save_dir='./flow'):\n",
    "        self.eval()\n",
    "        samples, _ = self.forward(self.prior.sample([n_samples, 28 * 28]).squeeze(-1), mode='inverse')\n",
    "        imgs = torch.sigmoid(samples).view(n_samples, 1, 28, 28)\n",
    "        if save:\n",
    "            os.makedirs(save_dir, exist_ok=True)\n",
    "            torchvision.utils.save_image(imgs, os.path.join(save_dir, 'sample.png'), nrow=int(np.sqrt(n_samples)))\n",
    "        return imgs"
   ]
  },
  {
   "cell_type": "markdown",
   "id": "c767d273",
   "metadata": {
    "deletable": false,
    "editable": false,
    "id": "c767d273",
    "nbgrader": {
     "cell_type": "markdown",
     "checksum": "139bc4c5dff1b74c290faf9c972f04aa",
     "grade": false,
     "grade_id": "cell-33c8aa1958dfb9b0",
     "locked": true,
     "schema_version": 3,
     "solution": false,
     "task": false
    }
   },
   "source": [
    "## Inpainting\n",
    "\n",
    "We have implemented an example inpainting function.\n",
    "\n",
    "**You can modify the number of sampling steps in this function.**\n",
    "\n",
    "Hint: We set the number of sampling steps as 1000 by default, you can decrease the number of sampling steps for faster evaluation. Note that a small number of sampling steps may hurt the quality of generated samples and lead to bad evaluation result."
   ]
  },
  {
   "cell_type": "code",
   "execution_count": null,
   "id": "f6801da4",
   "metadata": {
    "id": "f6801da4"
   },
   "outputs": [],
   "source": [
    "def inpainting(model, inputs, mask, device, save=True, save_dir='./flow/inpainting'):\n",
    "    num_samples = inputs.shape[0]\n",
    "#     torchvision.utils.save_image(inputs[:100], os.path.join(save_dir, 'corrupted.png'), nrow=10)\n",
    "    inputs = inputs.view(num_samples, -1).to(device)\n",
    "    mask = mask.view(num_samples, -1).to(device)\n",
    "    inputs = inputs.log() - (1. - inputs).log()\n",
    "\n",
    "    ep = torch.randn(inputs.size()).to(device)\n",
    "    os.makedirs(os.path.join(save_dir, 'recover_process'), exist_ok=True)\n",
    "    for i in range(1000):\n",
    "\n",
    "        alpha = 0.2\n",
    "        inputs.requires_grad_()\n",
    "        log_probs = model.log_probs(inputs, pre_process=False)\n",
    "        dx = torch.autograd.grad([log_probs.sum()], [inputs])[0]\n",
    "        dx = torch.clip(dx, -10, 10)\n",
    "\n",
    "        with torch.no_grad():\n",
    "            inputs = inputs * mask + (1 - mask) * (inputs + alpha * dx).clip(-10, 10)\n",
    "\n",
    "        imgs = torch.sigmoid(inputs.view(num_samples, 1, 28, 28))\n",
    "\n",
    "        if i % 10 == 0 and save:\n",
    "            torchvision.utils.save_image(imgs[:100], os.path.join(\n",
    "                save_dir, 'recover_process/recovered_iter{:03d}.png'.format(i + 1)), nrow=10)\n",
    "    if save:\n",
    "        torchvision.utils.save_image(imgs[:100], os.path.join(\n",
    "        save_dir, 'recovered.png'.format(i + 1)), nrow=10)\n",
    "    return imgs"
   ]
  },
  {
   "cell_type": "markdown",
   "id": "52ca8975",
   "metadata": {},
   "source": [
    "## Evaluation and Training\n",
    "\n",
    "We have implemented evaluation and training function for you. You should not modify `evaluate`. In `train`, you can modify the training code as long as you correctly save the best model in `'./flow/flow_best.pth'`."
   ]
  },
  {
   "cell_type": "code",
   "execution_count": null,
   "id": "1030e12e",
   "metadata": {
    "deletable": false,
    "editable": false,
    "id": "1030e12e",
    "nbgrader": {
     "cell_type": "code",
     "checksum": "aa5522ce7e3292ef4ba54b2b4d851756",
     "grade": false,
     "grade_id": "cell-892116baf6341344",
     "locked": true,
     "schema_version": 3,
     "solution": false,
     "task": false
    }
   },
   "outputs": [],
   "source": [
    "def evaluate(epoch, flow_model, loader, device):\n",
    "    flow_model.eval()\n",
    "    val_loss = c_mse = r_mse = 0\n",
    "    n_batches = 0\n",
    "\n",
    "    pbar = tqdm(total=len(loader.dataset))\n",
    "    pbar.set_description('Eval')\n",
    "    for batch_idx, (data, _) in enumerate(loader):\n",
    "        bs = data.shape[0]\n",
    "        n_batches += data.shape[0]\n",
    "        data = data.to(device)\n",
    "\n",
    "        # compute validation loss\n",
    "        with torch.no_grad():\n",
    "            # sum up batch loss\n",
    "            val_loss += -flow_model.log_probs(data.reshape(bs, -1)).sum().item()\n",
    "\n",
    "        # inpainting\n",
    "        imgs = data\n",
    "        c_imgs, mask = corruption(imgs, type_='flow')\n",
    "        r_imgs = inpainting(flow_model, c_imgs, mask, device,\n",
    "                   save=(batch_idx == 0), save_dir=f\"./flow/{epoch + 1}/\")\n",
    "        r_mse += ((imgs.view(bs, -1) - r_imgs.view(bs, -1))**2).sum().item()\n",
    "        c_mse += ((imgs.view(bs, -1) - c_imgs.view(bs, -1))**2).sum().item()\n",
    "\n",
    "        pbar.update(data.size(0))\n",
    "        pbar.set_description('Val, Log likelihood in nats: {:.6f}, Corruption MSE: {:.6f}, Recovered MSE: {:.6f}'.format(\n",
    "            -val_loss / n_batches, c_mse / n_batches, r_mse / n_batches))\n",
    "\n",
    "    pbar.close()\n",
    "    return val_loss / n_batches, c_mse / n_batches, r_mse / n_batches"
   ]
  },
  {
   "cell_type": "code",
   "execution_count": null,
   "id": "c6608159",
   "metadata": {
    "id": "c6608159"
   },
   "outputs": [],
   "source": [
    "def train(n_epochs, flow_model, train_loader, val_loader, optimizer, device=torch.device('cuda'), save_interval=1):\n",
    "    flow_model.to(device)\n",
    "    best_val_loss = np.inf\n",
    "\n",
    "    for epoch in range(n_epochs):\n",
    "        train_loss = 0\n",
    "        n_batches = 0\n",
    "        pbar = tqdm(total=len(train_loader.dataset))\n",
    "        for i, (x, _) in enumerate(train_loader):\n",
    "            # compute loss\n",
    "            n_batches += x.shape[0]\n",
    "            flow_model.train()\n",
    "            x = x.to(device)\n",
    "            loss = -flow_model.log_probs(x.reshape(x.shape[0], -1))\n",
    "            optimizer.zero_grad()\n",
    "            loss.mean().backward()\n",
    "            optimizer.step()\n",
    "\n",
    "            train_loss += loss.sum().item()\n",
    "\n",
    "            pbar.update(x.size(0))\n",
    "            pbar.set_description('Train Epoch {}, Log likelihood in nats: {:.6f}'.format(epoch + 1,\n",
    "                                                                                         -train_loss / n_batches))\n",
    "        pbar.close()\n",
    "\n",
    "        if (epoch + 1) % save_interval == 0:\n",
    "            os.makedirs(f'./flow/{epoch + 1}', exist_ok=True)\n",
    "            flow_model.eval()\n",
    "            save_model(f'./flow/{epoch + 1}/flow.pth', flow_model, optimizer)\n",
    "\n",
    "            val_loss, c_mse, r_mse = evaluate(epoch, flow_model, val_loader, device)\n",
    "\n",
    "            # sample and save images\n",
    "            flow_model.sample_images(\n",
    "                save=True, save_dir=f\"./flow/{epoch + 1}/\")\n",
    "\n",
    "            # feel free to change the following metric to MSE for model selection!\n",
    "            if val_loss < best_val_loss:\n",
    "                print(\n",
    "                    f'Current validation loss: {best_val_loss} -> {val_loss}')\n",
    "                best_val_loss = val_loss\n",
    "                save_model('./flow/flow_best.pth', flow_model)"
   ]
  },
  {
   "cell_type": "markdown",
   "id": "0d70eac1",
   "metadata": {},
   "source": [
    "Here we set up the model."
   ]
  },
  {
   "cell_type": "code",
   "execution_count": null,
   "id": "c52420ea",
   "metadata": {},
   "outputs": [],
   "source": [
    "num_inputs = 28 * 28\n",
    "num_hidden = 512\n",
    "num_blocks = 8\n",
    "\n",
    "modules = []\n",
    "masks = []\n",
    "\n",
    "mask = torch.arange(0, num_inputs) % 2\n",
    "mask = mask.to(device).float()\n",
    "masks.extend([mask, 1 - mask])\n",
    "mask2 = torch.zeros_like(mask)\n",
    "mask2[: num_inputs//2] = 1\n",
    "masks.extend([mask2, 1 - mask2])\n",
    "\n",
    "for i in range(num_blocks):\n",
    "    modules += [\n",
    "        CouplingLayer(\n",
    "            num_inputs, num_hidden, masks[i % len(masks)]),\n",
    "        BatchNormFlow(num_inputs, 0.1),\n",
    "        Shuffle(num_inputs)\n",
    "    ]\n",
    "\n",
    "model = FlowSequential(device, *modules)\n",
    "\n",
    "for module in model.modules():\n",
    "    if isinstance(module, nn.Linear):\n",
    "        nn.init.orthogonal_(module.weight)\n",
    "        # nn.init.xavier_normal_(module.weight)\n",
    "        if hasattr(module, 'bias') and module.bias is not None:\n",
    "            module.bias.data.fill_(0)\n",
    "\n",
    "model.to(device)"
   ]
  },
  {
   "cell_type": "markdown",
   "id": "44bbc7ca",
   "metadata": {},
   "source": [
    "DataLoader for validation"
   ]
  },
  {
   "cell_type": "code",
   "execution_count": null,
   "id": "65dcd46d",
   "metadata": {
    "deletable": false,
    "editable": false,
    "nbgrader": {
     "cell_type": "code",
     "checksum": "e14e69bc84678743efb84532e5f9e398",
     "grade": false,
     "grade_id": "cell-a1d70451c7d2ed9a",
     "locked": true,
     "schema_version": 3,
     "solution": false,
     "task": false
    }
   },
   "outputs": [],
   "source": [
    "\n",
    "val_loader = DataLoader(val_set, batch_size=500, pin_memory=True,  shuffle=True, num_workers=1)"
   ]
  },
  {
   "cell_type": "markdown",
   "id": "aee86165",
   "metadata": {},
   "source": [
    "Now we can set up the train DataLoader, the optimizer and start training, you can modify training hyperparameters in this block. Please keep in mind that this cell may **NOT** be run when we evaluate your assignment!"
   ]
  },
  {
   "cell_type": "code",
   "execution_count": null,
   "id": "7caf6b8f",
   "metadata": {},
   "outputs": [],
   "source": [
    "# feel free to change training hyper-parameters!\n",
    "train_loader = DataLoader(train_set, batch_size=128, pin_memory=True,\n",
    "                          drop_last=False, shuffle=True, num_workers=8)\n",
    "\n",
    "optimizer = torch.optim.Adam(model.parameters(), lr=1e-4, weight_decay=1e-6)\n",
    "\n",
    "train(100, model, train_loader, val_loader, optimizer, device, save_interval=10)"
   ]
  },
  {
   "cell_type": "markdown",
   "id": "7c3c3f70",
   "metadata": {
    "deletable": false,
    "editable": false,
    "id": "7c3c3f70",
    "nbgrader": {
     "cell_type": "markdown",
     "checksum": "e772498e4fea97cbfd4d5d15fbe09e27",
     "grade": false,
     "grade_id": "cell-79d1880c40b38577",
     "locked": true,
     "schema_version": 3,
     "solution": false,
     "task": false
    }
   },
   "source": [
    "## Evaluation\n",
    "\n",
    "Make sure your code runs fine with the following cell. "
   ]
  },
  {
   "cell_type": "code",
   "execution_count": null,
   "id": "057ef7fb",
   "metadata": {
    "deletable": false,
    "editable": false,
    "id": "057ef7fb",
    "nbgrader": {
     "cell_type": "code",
     "checksum": "683f6bc32235a143a302497d11061518",
     "grade": false,
     "grade_id": "cell-bb10aa2ccbdc5038",
     "locked": true,
     "schema_version": 3,
     "solution": false,
     "task": false
    }
   },
   "outputs": [],
   "source": [
    "model.load_state_dict(load_model('./flow/flow_best.pth')[0])\n",
    "val_loss, c_mse, r_mse = evaluate(int(1e4), model, val_loader, device)\n",
    "print(\"[Evaluation] val_loss: {}, c_mse: {}, r_mse: {}\".format(val_loss, c_mse, r_mse), flush=True)"
   ]
  }
 ],
 "metadata": {
  "colab": {
   "provenance": []
  },
  "kernelspec": {
   "display_name": "Python 3 (ipykernel)",
   "language": "python",
   "name": "python3"
  },
  "language_info": {
   "codemirror_mode": {
    "name": "ipython",
    "version": 3
   },
   "file_extension": ".py",
   "mimetype": "text/x-python",
   "name": "python",
   "nbconvert_exporter": "python",
   "pygments_lexer": "ipython3",
   "version": "3.8.10"
  },
  "toc": {
   "base_numbering": 1,
   "nav_menu": {},
   "number_sections": false,
   "sideBar": true,
   "skip_h1_title": false,
   "title_cell": "Table of Contents",
   "title_sidebar": "Contents",
   "toc_cell": false,
   "toc_position": {},
   "toc_section_display": true,
   "toc_window_display": false
  }
 },
 "nbformat": 4,
 "nbformat_minor": 5
}
